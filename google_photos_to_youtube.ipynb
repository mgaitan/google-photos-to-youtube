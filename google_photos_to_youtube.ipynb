{
 "cells": [
  {
   "cell_type": "code",
   "execution_count": null,
   "id": "ebc3f5e4-9c88-4b70-8ae9-429341a2bbfa",
   "metadata": {},
   "outputs": [],
   "source": [
    "!wget https://raw.githubusercontent.com/mgaitan/google-photos-to-youtube/main/google_photos_to_youtube.py\n",
    "!pip install -r https://raw.githubusercontent.com/mgaitan/google-photos-to-youtube/main/requirements.txt"
   ]
  },
  {
   "cell_type": "code",
   "execution_count": null,
   "id": "9a677990-e76a-484c-bda1-920129ef2c56",
   "metadata": {},
   "outputs": [],
   "source": [
    "from google_photos_to_youtube import *"
   ]
  },
  {
   "cell_type": "markdown",
   "id": "9445479b-f1cb-4b35-84cf-447d9deeda43",
   "metadata": {},
   "source": [
    "# Login \n",
    "\n",
    "Login to the source account (Google Photos)"
   ]
  },
  {
   "cell_type": "code",
   "execution_count": null,
   "id": "d3068fbb-5e82-4ce8-9252-cd4afcfa27a3",
   "metadata": {},
   "outputs": [],
   "source": [
    "session, youtube = login(\"photos\"), login(\"youtube\")"
   ]
  },
  {
   "cell_type": "markdown",
   "id": "2311f9d7-a965-4b33-8b77-74a8b4ebc7b1",
   "metadata": {
    "tags": []
   },
   "source": [
    "### Preview and click to upload\n",
    "\n",
    "\n"
   ]
  },
  {
   "cell_type": "code",
   "execution_count": null,
   "id": "c7dd94c7-05fa-46ac-b009-4407724c72fc",
   "metadata": {},
   "outputs": [],
   "source": [
    "load_page(session, youtube)"
   ]
  },
  {
   "cell_type": "code",
   "execution_count": null,
   "id": "54e2888d-3fb4-4afe-b94f-55481bc75708",
   "metadata": {},
   "outputs": [],
   "source": []
  }
 ],
 "metadata": {
  "kernelspec": {
   "display_name": "Python 3 (ipykernel)",
   "language": "python",
   "name": "python3"
  },
  "language_info": {
   "codemirror_mode": {
    "name": "ipython",
    "version": 3
   },
   "file_extension": ".py",
   "mimetype": "text/x-python",
   "name": "python",
   "nbconvert_exporter": "python",
   "pygments_lexer": "ipython3",
   "version": "3.10.6"
  }
 },
 "nbformat": 4,
 "nbformat_minor": 5
}
