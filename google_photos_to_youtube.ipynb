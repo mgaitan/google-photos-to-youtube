{
 "cells": [
  {
   "cell_type": "code",
   "execution_count": null,
   "id": "ebc3f5e4-9c88-4b70-8ae9-429341a2bbfa",
   "metadata": {},
   "outputs": [],
   "source": [
    "!wget https://raw.githubusercontent.com/mgaitan/google-photos-to-youtube/main/google_photos_to_youtube.py\n",
    "!pip install -r https://raw.githubusercontent.com/mgaitan/google-photos-to-youtube/main/requirements.txt"
   ]
  },
  {
   "cell_type": "code",
   "execution_count": 1,
   "id": "9a677990-e76a-484c-bda1-920129ef2c56",
   "metadata": {},
   "outputs": [],
   "source": [
    "from google_photos_to_youtube import *"
   ]
  },
  {
   "cell_type": "markdown",
   "id": "9e3e7010-1d99-4c68-b2d0-5e7206f16c14",
   "metadata": {},
   "source": [
    "# Setup your app"
   ]
  },
  {
   "cell_type": "code",
   "execution_count": 2,
   "id": "02db8b48-e7a8-48e3-86bf-2a4bd2eb2448",
   "metadata": {},
   "outputs": [
    {
     "name": "stdout",
     "output_type": "stream",
     "text": [
      "file already exists\n"
     ]
    }
   ],
   "source": [
    "create_client_id()"
   ]
  },
  {
   "cell_type": "markdown",
   "id": "9445479b-f1cb-4b35-84cf-447d9deeda43",
   "metadata": {},
   "source": [
    "## Login \n",
    "\n",
    "Login to the source account (Google Photos)"
   ]
  },
  {
   "cell_type": "code",
   "execution_count": null,
   "id": "44685e75-0858-45a1-9b89-c8f5a4f6b5c3",
   "metadata": {},
   "outputs": [],
   "source": [
    "4/1AWgavdf3sAYT2HKbSKR-eN3wturMcvYQGQIT5ou1UAw-fUGkFdHdC3tkP9I\n",
    "4/1AWgavdepkyTpK34IjobxHy2DARC6y6lBhNZepqeSThpY2A7NPiVjXYXdvd4"
   ]
  },
  {
   "cell_type": "code",
   "execution_count": 2,
   "id": "d3068fbb-5e82-4ce8-9252-cd4afcfa27a3",
   "metadata": {},
   "outputs": [
    {
     "name": "stdout",
     "output_type": "stream",
     "text": [
      "Please go to this URL: https://accounts.google.com/o/oauth2/auth?response_type=code&client_id=659865493965-igmm43ccgdqep2j1u0hcfcj4kn63tiss.apps.googleusercontent.com&redirect_uri=urn%3Aietf%3Awg%3Aoauth%3A2.0%3Aoob&scope=https%3A%2F%2Fwww.googleapis.com%2Fauth%2Fphotoslibrary+https%3A%2F%2Fwww.googleapis.com%2Fauth%2Fphotoslibrary.edit.appcreateddata+https%3A%2F%2Fwww.googleapis.com%2Fauth%2Fphotoslibrary.sharing&state=2afGOlocWgDnxWBHmZOl8ApRNfbrd2&prompt=consent&access_type=offline\n"
     ]
    },
    {
     "name": "stdin",
     "output_type": "stream",
     "text": [
      "Enter the authorization code:  4/1AWgavddBsevNCut61kAxlVJ5pXQQL83PtjH9tHeb3JxC60KSAqN0orv6NHc\n"
     ]
    },
    {
     "name": "stdout",
     "output_type": "stream",
     "text": [
      "Please go to this URL: https://accounts.google.com/o/oauth2/auth?response_type=code&client_id=659865493965-igmm43ccgdqep2j1u0hcfcj4kn63tiss.apps.googleusercontent.com&redirect_uri=urn%3Aietf%3Awg%3Aoauth%3A2.0%3Aoob&scope=https%3A%2F%2Fwww.googleapis.com%2Fauth%2Fyoutube.upload&state=qI9RbIdl2LQTjUDYqPJm1GxPKsAI7D&prompt=consent&access_type=offline\n"
     ]
    },
    {
     "name": "stdin",
     "output_type": "stream",
     "text": [
      "Enter the authorization code:  4/1AWgavdd52zDkNqlaEFUx5eH57BX4-c4a0FgJzCZkqc7DQfJ5iNIP35Jugxg\n"
     ]
    }
   ],
   "source": [
    "session, youtube = login(\"photos\"), login(\"youtube\")"
   ]
  },
  {
   "cell_type": "markdown",
   "id": "2311f9d7-a965-4b33-8b77-74a8b4ebc7b1",
   "metadata": {
    "tags": []
   },
   "source": [
    "## Preview and migrate videos\n",
    "\n",
    "\n"
   ]
  },
  {
   "cell_type": "code",
   "execution_count": 3,
   "id": "c7dd94c7-05fa-46ac-b009-4407724c72fc",
   "metadata": {},
   "outputs": [
    {
     "data": {
      "text/markdown": [
       "[![](https://lh3.googleusercontent.com/lr/ANt_8_aPZ1mlq-Niw7sg5vUDQ242-Dd3xZ23JkcN2JtUmOG2PvoBO2xN8d3mwU9hiRxKvdjSQ2njukjuK2RnKgPS1yPgQ7tKHBkaBEO8Dfg-g2GZ29RcCJdQp2f0qhIysmzp-_kRvER5CwDeUF_MXSMytSpvvP856BNIhtGjiJ4RyximwXOIA0jbGrcVQ34GBBjUnLXx3iQ9-0DmRJdyLNbJ_hCvQ7LVhGzZjgo89nCa3ckerXtpP5zKkgAKAjezWp5CnhwWotGmPKi0X3YTKrqtb1yiLuW_X0nK2kpAkT09JQLXmNZqaJDhQEW28BrfKJibBptn_GhncLJmazgnWuU0TXA6snIpOa3WnZgn_7qLildbFJ1EpuPU1jBRDQ4K99oRDaFIzL31WuBuABi6vZbS55E-fXdBOrLpxMdhYi8xVPXiDL9iaV1i1etBQ4a27wTU0YJJs_WrxlhlAzwWGF7pe6WfbwenR6Gzddrxr07teF6qXmutIzmmuOwJQDHmedv0RIz9pgN_fJJ2kZb1v58ePN3pIJshs7etTkvNeC9k9xSqULCrzqTihxFpDK5DTyaj76oHpo-wxBjqTJ5tecNYmWO9h690IQkf88HPsVBMzGKnr__2Pg2NHoPyAMhfqDicoxDGqIolCIzUwiMxfsdV4yaTduLIrSNaL6plj3zv8rxabyKGXljjf-wmCoZC2Ubs72sFNLdaiCOhmTRAqy73X7IZx7sDX8YozoW_J64o4FhH57th9A2WXoswcYL3maodZpiTPDxJyFheXzKprgIsu2Jn3qZVQsxJGTOzifsIUNBzKs77VEQo0FZS7X6bFO-FAnOLRnUbfbMXU1fw-M7rp7BesAIcDFmHg7nlO3hIAGgnHuhl1hyvEdMwIGpbaz2rnauIJyCgSiUlyLWBXuBzJxpFocc8fkH4Dw9f9ReRzjgx7O3H1bM3vapq9cMgaO-JGRyAaS57mANJCjKXeJW-1gm-3kIjhuN_W7DiH5eOQSTtesUVJYDknrZUfmnW4FRJpDUmTCcRuLG3DX8fGc026ehTnjd-2lqPPCudbfV7aDzh9DUYm4sg-6kebNsk=w300-h300-no)](https://photos.google.com/lr/photo/ACSOTbspc6amgAqxywaWpMnicBvhbMZlUrzB1V01iIqJ_4E2R7Wc0GB7eCTZuUPjMcJQ4iG7lfJtX8eSpu2WVBsRzogg89vOtA)"
      ],
      "text/plain": [
       "<IPython.core.display.Markdown object>"
      ]
     },
     "metadata": {},
     "output_type": "display_data"
    },
    {
     "data": {
      "application/vnd.jupyter.widget-view+json": {
       "model_id": "c0e85b20a6b447ae8d790ed1b798fa45",
       "version_major": 2,
       "version_minor": 0
      },
      "text/plain": [
       "Text(value='Este video es muy lindo', description='Title', layout=Layout(width='30em'))"
      ]
     },
     "metadata": {},
     "output_type": "display_data"
    },
    {
     "data": {
      "application/vnd.jupyter.widget-view+json": {
       "model_id": "171fdb12ecc64440bd71a8bd1478272d",
       "version_major": 2,
       "version_minor": 0
      },
      "text/plain": [
       "Textarea(value='\\n - Migrado desde Google Photos con http://github.com/mgaitan/google-photos-to-youtube\\n - Fe…"
      ]
     },
     "metadata": {},
     "output_type": "display_data"
    },
    {
     "data": {
      "application/vnd.jupyter.widget-view+json": {
       "model_id": "db1f29ab1d534d278293d3beede14481",
       "version_major": 2,
       "version_minor": 0
      },
      "text/plain": [
       "Text(value='google-photos-to-youtube, ', description='Tags', layout=Layout(width='30em'), placeholder='from-go…"
      ]
     },
     "metadata": {},
     "output_type": "display_data"
    },
    {
     "data": {
      "application/vnd.jupyter.widget-view+json": {
       "model_id": "31319c64c95d4200ae0e2cb2dd6e002b",
       "version_major": 2,
       "version_minor": 0
      },
      "text/plain": [
       "Button(description='Upload to youtube!', style=ButtonStyle())"
      ]
     },
     "metadata": {},
     "output_type": "display_data"
    },
    {
     "data": {
      "application/vnd.jupyter.widget-view+json": {
       "model_id": "744334bd2b1a43ea9455e954a375915c",
       "version_major": 2,
       "version_minor": 0
      },
      "text/plain": [
       "Output()"
      ]
     },
     "metadata": {},
     "output_type": "display_data"
    },
    {
     "data": {
      "text/markdown": [
       "[![](https://lh3.googleusercontent.com/lr/ANt_8_Y6bW2N_evFltccQWtAShCgY1PdlcypbM69dEj-PwB-w4fJHsUKbqAyF3P9BqGF2HDtNRtKa9gTYlLrElX-v0eO-YWZxrT096aLte-LHIabb7ZQ5-Mt4zHBYs3tZ1qG-COuy349dh1veE9L1Yu0nO9e_HLGtF61agMSMFHJ1rTUwQe6aJ4ffL_rsXDa2timOaHKTlvlAa-rEwnrgU3BAaFqjtl6Oio_KUjPTHGOMI3svGNTCVyjhcAJkOj0OB-ebaTQIX-YFsePu5EsG5XzUcZ7r1tSRnWucg_IicA66qeiY29hQ0r0h640O7sc3UYlBuPtywXxTVzPZ5n0pOtXL2wipteeObstcv8OpOsCeud6uVqN60D4pX6MiQ0CSebFjFL0ZxluR4coXM4pot1yAHhUi8SardnBSlSDI5BjEjwMSmWPNXqte6F4BW3TXRphZdBHvIUsSt6Lf7wY86adw7HmmwP6SMddBq7gYMuYNdAVzhyNDg_vQhLMir_gTi4uc2qJ8OvSXPZFxdcZlEiqRw7VZ4QvwanvHXVvv1NJPoMR6BB9Kx2hy_5O9P361_Q3Z3fZueUYe3finIIbKLSAl_UqOP0WAmqTKCNn1ctKMl_ah3H5KyuRCBDBy37c3NgAhxsE295x0VfeyejE8kVbHgj9ACZGw_cECNY4kdp_M9Oy3ayHxQeGs7knGKHXBoHj_96NgXI9zaJBzEQ7t6_n6CbEtZedP0G7XhY1N1n-yGMQPs6MsFkpjkOoFrvQ4bjDaKWk-pwvUTslcbkU4xM5t7AimHIaZ8-OLrtlDRAfURzR4YS9IOS9ss9aBfsiiUYRnLlVUhY-myugvuysFis5dbJG76AtFUvrQz8ar4jWTZe-XOWPcDl6GQfC6F0VpZUq35_8vor8SJOGklWTgS5MyPsomkY4UwZKlmGXEV7F20lBB4t_4fEuNos6WQabXRLNr3vCa_ZtxM4lT_6XF5jXb6AwRCvAlBMSQvcSs7mvBbDtJ66NTI8AYx-HHHkYBJMPg04FMVh5ndywmqRIg1bCgsrR5gIsYbsE567Hs_dWLN4VrqZ9WRR_f5q4PB3P=w300-h300-no)](https://photos.google.com/lr/photo/ACSOTbsLVVLAZ1kmOuqin43hFFevNfIM4PFBpq1JpwHHSKYKYnKhT4_aIFyVm-BcWIkVr62kcwU0TaoxjN7hiV1Lv_qbOB_8Qg)"
      ],
      "text/plain": [
       "<IPython.core.display.Markdown object>"
      ]
     },
     "metadata": {},
     "output_type": "display_data"
    },
    {
     "data": {
      "application/vnd.jupyter.widget-view+json": {
       "model_id": "49ae565cd42d44cc814dd276019c48f4",
       "version_major": 2,
       "version_minor": 0
      },
      "text/plain": [
       "Text(value='', description='Title', layout=Layout(width='30em'))"
      ]
     },
     "metadata": {},
     "output_type": "display_data"
    },
    {
     "data": {
      "application/vnd.jupyter.widget-view+json": {
       "model_id": "0212408e6cfb413cacf8889fc94b401f",
       "version_major": 2,
       "version_minor": 0
      },
      "text/plain": [
       "Textarea(value='\\n - Migrado desde Google Photos con http://github.com/mgaitan/google-photos-to-youtube\\n - Fe…"
      ]
     },
     "metadata": {},
     "output_type": "display_data"
    },
    {
     "data": {
      "application/vnd.jupyter.widget-view+json": {
       "model_id": "939b41e58d6c44449084218fe71824cd",
       "version_major": 2,
       "version_minor": 0
      },
      "text/plain": [
       "Text(value='google-photos-to-youtube, ', description='Tags', layout=Layout(width='30em'), placeholder='from-go…"
      ]
     },
     "metadata": {},
     "output_type": "display_data"
    },
    {
     "data": {
      "application/vnd.jupyter.widget-view+json": {
       "model_id": "acf289b7d7c247f68fd9a33475f9d546",
       "version_major": 2,
       "version_minor": 0
      },
      "text/plain": [
       "Button(description='Upload to youtube!', style=ButtonStyle())"
      ]
     },
     "metadata": {},
     "output_type": "display_data"
    },
    {
     "data": {
      "application/vnd.jupyter.widget-view+json": {
       "model_id": "a7e88154897a4dd68242e0c0d9846892",
       "version_major": 2,
       "version_minor": 0
      },
      "text/plain": [
       "Output()"
      ]
     },
     "metadata": {},
     "output_type": "display_data"
    },
    {
     "data": {
      "text/markdown": [
       "[![](https://lh3.googleusercontent.com/lr/ANt_8_a6gcZau4me_AL17z9eoMwbFV6x5ABmaQgIHqyv-_2rxBtg59DrPaRq2qrKMNaM8wXat-VzEzjIypBOVIx_lCa47sBxZyTsBEK3-MMK_3vU8OpqKRIQaZy21f9XSrx0iUZ0BUPjwZpWDlGjviQsgX_oN2-9zNQa9taIXg6VLsdVSq4WKNqBPUDTyRoHYzIWbQ-RrWCpZGVE77HtGKjVhznT1vhILL-c8OQdEWv5jFzasuw59CyJKcRhE1J5ovo7EOLwQxC_qv_pB8DR8EBVBHPJ-45WVLkqozvSsPiT_Id_CXsBGSitORg2avrDL4n8tJq17iRj6I2MCAJRocngp3VfKVX-UFyW46EEh-sYbyPkTUX4qoxqwffJcv0S9U3MyzH_ztNXvVKA1BvHqUydPw-kUrrCh3OqnvtHAFMjDTCLzk9O1rV-zNKJ5rP4yrh0dq0_CXbd5aSqcOoyvupA8wtxEiYpO4bA9rIzjtyUwT3ToaGNdQJRTim6qICTp0RFj8m3wHRsumdXcQIZn21lZZ9MoIbZjcHPrkWB_HVtD5eHuo_QZLdabDLb-BLuZzsXtU-33wDZphMxzv1PzEnWKYcdv0U41NcrDh4r5PysY4Wv2VdTogkIk94g9uUmQo2D1MvsoLmhWPDB8dEOEdNSIO3HTJuN_sO1J4WjgOKJ4QssBxaxeg9hfq8rKD9NCP8jzDKBadiJs-YmpN7-SSpzCeECnxZmZ7iEexXmffn26UeJwG1Ej45DlagG81YBwoAEp4pAzhPWPboEv0nyrJF-vQ4IAKdE72OUmKiqIyl3k3d6u5yaXoH5lfOCSob4Ad3ovXq3aozzZt91olx1PIRpeNZrxCo2rFXlFk9dPWs-9Eckg9H4z6fysw4bDLiURpUfjWHPFi5jrtC5M7aPKrXtD_9myrXLl9eLCI_0Lcq0g0DXolGFK4y54gWdPi6nEHjnPuC_dfgLHbxostwb8XjlmEl2pfYXzVk2QNSAPvnRac_kEd_4qJ4txtm8DbI2CJFmohcGhoZHZsovwuNXgvKgC7Dh1-2kFW7vomZJo5tghImYdKybNuF6E-o6CMbw=w300-h300-no)](https://photos.google.com/lr/photo/ACSOTbvooyhlm9DFa6cZik9mOm7RZXgcMJGDi3sLymaDiVbu4S-nL9cu11eL9hZH031xO0jyynOwSZEq1vI2r40db-GgrCgoPg)"
      ],
      "text/plain": [
       "<IPython.core.display.Markdown object>"
      ]
     },
     "metadata": {},
     "output_type": "display_data"
    },
    {
     "data": {
      "application/vnd.jupyter.widget-view+json": {
       "model_id": "297b05292a0542ad813e51599f7b1225",
       "version_major": 2,
       "version_minor": 0
      },
      "text/plain": [
       "Text(value='', description='Title', layout=Layout(width='30em'))"
      ]
     },
     "metadata": {},
     "output_type": "display_data"
    },
    {
     "data": {
      "application/vnd.jupyter.widget-view+json": {
       "model_id": "1ea0df2a361a40faa237c438d2d55755",
       "version_major": 2,
       "version_minor": 0
      },
      "text/plain": [
       "Textarea(value='\\n - Migrado desde Google Photos con http://github.com/mgaitan/google-photos-to-youtube\\n - Fe…"
      ]
     },
     "metadata": {},
     "output_type": "display_data"
    },
    {
     "data": {
      "application/vnd.jupyter.widget-view+json": {
       "model_id": "0c0bea5bdaa84f088ea09dce001552a9",
       "version_major": 2,
       "version_minor": 0
      },
      "text/plain": [
       "Text(value='google-photos-to-youtube, ', description='Tags', layout=Layout(width='30em'), placeholder='from-go…"
      ]
     },
     "metadata": {},
     "output_type": "display_data"
    },
    {
     "data": {
      "application/vnd.jupyter.widget-view+json": {
       "model_id": "03b3cd3a4eb8466da3219d9407a2a5b2",
       "version_major": 2,
       "version_minor": 0
      },
      "text/plain": [
       "Button(description='Upload to youtube!', style=ButtonStyle())"
      ]
     },
     "metadata": {},
     "output_type": "display_data"
    },
    {
     "data": {
      "application/vnd.jupyter.widget-view+json": {
       "model_id": "dff741f0ce5a40f6b5a7e3bd19c31f33",
       "version_major": 2,
       "version_minor": 0
      },
      "text/plain": [
       "Output()"
      ]
     },
     "metadata": {},
     "output_type": "display_data"
    },
    {
     "data": {
      "text/markdown": [
       "[![](https://lh3.googleusercontent.com/lr/ANt_8_bNxB_wPB8UXAla7iM1U50qIEqxWUuBQFdXXzsIBlckkmOdPVFE1NXrC9c4_vwbNLlP7B_ZydOKX_5MNu-0GzdUZ1wXzucck-oysSBwS2l0vexipecAcogg0-5ovSFrdNPCtf5xjJnBjhWd-B-3BpOXO5jttnvXh6UdRwqJCNP39vCYqv2G2_uvEZ6ViUhJchGnavnT5gXJmguOP6EnNVC4jzTKGMciuEygZGDI3WSahG4h8AF-4EKh-xJu5HLX_Dzt5pi_eAUVpn7bPKELu7B9GPjcjrbafbkhtBfASYPv2APf2k5Ee2Q2wZ_kP1JjdFmuFp3KQPN88j-9RmpBs9n4NsFyLjBsngCYTDGWu5Br-iX3r5RJPlNcQGm08XE0mKCwolIDS6x8MT-xGJ_GZxhPZL4JQ0eZX81H-woXJkNqm1x6LBhc1t7Nm6Ufwk-DQquzQhHNLE15d4NgaEivsnnOvR2vwKWg3ur5ULhPV8zytdjIJCW1LfDq0XZDemM_Z8thIzdptkixpk56co5683AupY39sbUZ8x0ioYktGONghuqDX3IegvM76tCBKYfsUQV31ZaTtJfyDB455CtH-U_XrYUHyYkfAWwpRVoFs9pRAcsr7oAcjojYdtFldDffbF-4_MBXyzMd_TRv1uInaZnHdUPb-qbYKdJZl1yTvkHziXlLAURJwaolNRuN6kJu_uVTNUkVi7QIRYrpI2m64pgDGUx10D7cRLBQ2b6QLgTk4DxwRu5Qisy2lZ9wLEjA23sm8oruvymT_LTqjAchYUMT5TAZknbT0te8SOwdgSx_YliQ_9ReDvq62kmasjBk-QtzIJAtZ0bcXkVOVDV9-sKdpxhs5oiwBGG0Kc3OugC4czkn0nfcqOjsVqUa5kxEKgy-iAl0oM92qeQL-ZexLPmal404kywoBiVQxI6BHSx_Z73SSYo3p7nsMginurFi4rSBqqm3Lt1E6IG9vX1yXiaQrWMZdf-NsE7XdrxS8sDeNl8KuMwxVN2vtbcPpBiPpE22Yn2kM5LUShS9Kj38hDzdJrfhCJ8mymIValpmbtnTJl76BOs2x1ut19PT=w300-h300-no)](https://photos.google.com/lr/photo/ACSOTbscBYc07fndiXf8gL7fWyahdjur8yTv_bMTkTQox89wT549lceaL3zysHz68bWEad_hPwI4TErFH3cdOXEEiXH6hMm-Gw)"
      ],
      "text/plain": [
       "<IPython.core.display.Markdown object>"
      ]
     },
     "metadata": {},
     "output_type": "display_data"
    },
    {
     "data": {
      "application/vnd.jupyter.widget-view+json": {
       "model_id": "8d556bdefc2742cb94da99f9b78a36b4",
       "version_major": 2,
       "version_minor": 0
      },
      "text/plain": [
       "Text(value='', description='Title', layout=Layout(width='30em'))"
      ]
     },
     "metadata": {},
     "output_type": "display_data"
    },
    {
     "data": {
      "application/vnd.jupyter.widget-view+json": {
       "model_id": "5dde7d02708f46d59ccfbed34ae9736b",
       "version_major": 2,
       "version_minor": 0
      },
      "text/plain": [
       "Textarea(value='\\n - Migrado desde Google Photos con http://github.com/mgaitan/google-photos-to-youtube\\n - Fe…"
      ]
     },
     "metadata": {},
     "output_type": "display_data"
    },
    {
     "data": {
      "application/vnd.jupyter.widget-view+json": {
       "model_id": "842fb6ba44fb4c8499788387aa548283",
       "version_major": 2,
       "version_minor": 0
      },
      "text/plain": [
       "Text(value='google-photos-to-youtube, ', description='Tags', layout=Layout(width='30em'), placeholder='from-go…"
      ]
     },
     "metadata": {},
     "output_type": "display_data"
    },
    {
     "data": {
      "application/vnd.jupyter.widget-view+json": {
       "model_id": "584fe65b689b45e89c2bef1a0ae59cb1",
       "version_major": 2,
       "version_minor": 0
      },
      "text/plain": [
       "Button(description='Upload to youtube!', style=ButtonStyle())"
      ]
     },
     "metadata": {},
     "output_type": "display_data"
    },
    {
     "data": {
      "application/vnd.jupyter.widget-view+json": {
       "model_id": "85c10abeff6b4673b1dc787b1517c8c5",
       "version_major": 2,
       "version_minor": 0
      },
      "text/plain": [
       "Output()"
      ]
     },
     "metadata": {},
     "output_type": "display_data"
    },
    {
     "data": {
      "text/markdown": [
       "[![](https://lh3.googleusercontent.com/lr/ANt_8_YrEexc5fhO_H748cnyOPqrFYoX59IGN6Qvj1j4P9xaOsTUNW_YbuQOg77RSdwiX2UN5bh1180TowcX4wDERRVKHoDKlUYeRfhio4QopRcZlLlhUbRONL66HaJJYqs8ETJvBGvOveQgRpP9IK_3Q7YCIfCjLKC26L6eq87ksEAZ9SA0FovBd7wiGOIEWvdi36EIR8QLvZKu01_Pr1s4OwPAMdaiw9GH7TE01h65DPhiYcmxKZl_QOZa10eusRVOtapNdqmciYJnRo6Osvl5s9pWgiaQNkfAQ5gazgPC86TEms-qJqWK0ZSz8GnZsd_9l9D6ZZpFG7dlo8mHVSKLtPIvudN0lPFVsgwGhNTMCs3vAmdWrrZBB7yN5fW2w8BRwG7zs8HH0s7eLWknBgtts_JM3rAjY7U_QqwXSN_cz27iXK9EzSJ5_xLSw215Zwk8JFsX736HyYy-nYWVJ4VWwKVFC4qc7cvy4Zwl6b5rXsdVDdaNNWimQPYVwl8bee-pwl4GtNjrA0gaRa96cgV6LRMtbposrLqRDcKaN4U_DzQPMWIpevGNCfX2sHncDRBuV0Zp-kaubSeoSB0dBB2d8X0aw0ZQXgzlXLYhqfnV0exed2kwcFBwwQNgBra2SGfvJR7OdJLyS10f-at-ONfTCmM6nGjcR-lzxuGEk6Hk8JiKbpRq3ciblC28esPaJ3dG5QQMAJFU5OyqfICKwHlZQIg90ygCP4YSgEPZoudq4QWPOwN5vc7GnTqSkgjl5wGX_tGGRUqo1vs5lOt9mnXGIyzk-743U6hoeZtsYlPAzD_csaX5BIFX5ABEesv8fWu_7u-Bl3snJLNDc4_-7bdemTxIgk2LlKINTIVnv7Y02A3jwEWZyk2mvOCpeNpaSqadchAbH2qIeoEgle_lQqeup7CFM4BCx9nt6SejmT4U7c3OWzrMGZuYc11z2SgUl-BU8yE-Pmg2jMX-lpwo1e20pcngRaPjuCYJJkr3eyrRjnw9AYeYZIaGLKP3ODmJW_JUWQHbStb-r7eVPASKS3gUcKkLC3sn-Ci5pwsH0gLR-SN1R_mKp5WyBp62MmMd=w300-h300-no)](https://photos.google.com/lr/photo/ACSOTbuzbJGXs4335VW0F68ST8zDNiOD4ge8aOq-MQuioq4Zjdl2jmwYU43rliDrpD9OvY8SQvGhjrJZgIFi7DNWhOstTVWbsg)"
      ],
      "text/plain": [
       "<IPython.core.display.Markdown object>"
      ]
     },
     "metadata": {},
     "output_type": "display_data"
    },
    {
     "data": {
      "application/vnd.jupyter.widget-view+json": {
       "model_id": "7cb25e11d9fa47109c6b0574c66cdc48",
       "version_major": 2,
       "version_minor": 0
      },
      "text/plain": [
       "Text(value='', description='Title', layout=Layout(width='30em'))"
      ]
     },
     "metadata": {},
     "output_type": "display_data"
    },
    {
     "data": {
      "application/vnd.jupyter.widget-view+json": {
       "model_id": "d50b03a99f7c48a5880dd2fecc049b06",
       "version_major": 2,
       "version_minor": 0
      },
      "text/plain": [
       "Textarea(value='\\n - Migrado desde Google Photos con http://github.com/mgaitan/google-photos-to-youtube\\n - Fe…"
      ]
     },
     "metadata": {},
     "output_type": "display_data"
    },
    {
     "data": {
      "application/vnd.jupyter.widget-view+json": {
       "model_id": "b7adf3fb260f4544be697d09912d684d",
       "version_major": 2,
       "version_minor": 0
      },
      "text/plain": [
       "Text(value='google-photos-to-youtube, ', description='Tags', layout=Layout(width='30em'), placeholder='from-go…"
      ]
     },
     "metadata": {},
     "output_type": "display_data"
    },
    {
     "data": {
      "application/vnd.jupyter.widget-view+json": {
       "model_id": "20e742ca516644828195930c99440c12",
       "version_major": 2,
       "version_minor": 0
      },
      "text/plain": [
       "Button(description='Upload to youtube!', style=ButtonStyle())"
      ]
     },
     "metadata": {},
     "output_type": "display_data"
    },
    {
     "data": {
      "application/vnd.jupyter.widget-view+json": {
       "model_id": "39383409a89e402a92e1d2cffd3255d3",
       "version_major": 2,
       "version_minor": 0
      },
      "text/plain": [
       "Output()"
      ]
     },
     "metadata": {},
     "output_type": "display_data"
    },
    {
     "data": {
      "text/markdown": [
       "[![](https://lh3.googleusercontent.com/lr/ANt_8_ZHrG7_Yk0-1Bve9Xxswqq1euG0tLRn9VsK33tZB1c_gO7i2_nuEqghLqPcBeg5EYQVzxvsd8eqlcy3gR45nujYM0EhfcNhzgRNXnc8yAW6BcY3mIujbxSEW4b1kq1NHpdpm6stjt0xTC_LZgl6IYU-mCdmQFXWxO_9BWWu2Zq4Zs_XdQAHSZWRW8X1j_-IxvuJ78DfM73nNlOup8HsHhlDGRObo-T4pQYpRivCW4d7OU9tG7HyYQ0SBNoxLq7dcs476ngY2ziOzqnQkEn7jEHeP1omeTCiwnFn7w3nfhZxGndSbPVviORrYHQHyY-BC8FvEpVQfIztd8MfI44ysMqSs3eHoYAdFVZS-_DXDQIYYINQPl6PCii38rKgnCDHMvQanTLeE2n9WumGuh5u8zamQWu-T8gd7cUDsmgw5FCjbqR7wohGM68cUKU2wbMqCkmEZynPICEF7zBiTyZG60HyXWOLzybWSEz4gaUoVRtyOXOz9zRN4-ONLX5VhmkYrDdiRmwnZz8-5-at8EIR12_U2GPTfxwyYcYysejpe0WUhU_qAdWDx7t2qfWMIlUru8alYtBpAwbnUoRYb4Z4w9eohwUFwWLJpWnAY6jWpl_3sXQr849F_Z5tXam4cEgFhEPJBOzNck4NizG-7P9GJdbhM9iX4x3oV7oUEGsSSB_Fq8_cKnK1hs3rY9HhpxQIJLkO2nCp3OM5-b4NEXzmLQtQLAnWhoZcHCpo2xDg4PG1uC17Sa6NeIKBX585tbMkDsnP8sXYl1NFmW7JTIzMCpIGYZQ-R5OScmjp-0KnR0EO7YH_xmUu3S8_Kr3k3sSbVQ-SGWVCtGQgzZyfAcqDRkKZYu0r_xaxCXuBzdpQKUppKipcTUr0kebYVcZ_56L4rSrnOJa5uz9RXRUNqvpdqI7xdkZfX5GZ7pzA2dRwZ3JWyNJNrYra_bDycyDC6BL2KAEyd91FEKlhPJTNKVpARtf1GAzre8nS52BwGwBqV-Z4zy55-uwde2MAt5yLSPoAQ8FIvUI8Jx4QZvzwIZD6Qo1FaOIirzxwUCY3FMBXpEGL23DEL91GwsnhSOnb=w300-h300-no)](https://photos.google.com/lr/photo/ACSOTbu_3EEGgZd3WwLtGVeY6IR-HF2kROjoGwQO4LVGdfX-9-RAf9HuKTUFkHoSWbPCNPQtCTa2EVyIZ_un6CxD2Fbb0z7T2g)"
      ],
      "text/plain": [
       "<IPython.core.display.Markdown object>"
      ]
     },
     "metadata": {},
     "output_type": "display_data"
    },
    {
     "data": {
      "application/vnd.jupyter.widget-view+json": {
       "model_id": "5d479d3d101740c09125d8c58bfc8110",
       "version_major": 2,
       "version_minor": 0
      },
      "text/plain": [
       "Text(value='', description='Title', layout=Layout(width='30em'))"
      ]
     },
     "metadata": {},
     "output_type": "display_data"
    },
    {
     "data": {
      "application/vnd.jupyter.widget-view+json": {
       "model_id": "362ec82036ab4477b5fddb86b83fb93e",
       "version_major": 2,
       "version_minor": 0
      },
      "text/plain": [
       "Textarea(value='\\n - Migrado desde Google Photos con http://github.com/mgaitan/google-photos-to-youtube\\n - Fe…"
      ]
     },
     "metadata": {},
     "output_type": "display_data"
    },
    {
     "data": {
      "application/vnd.jupyter.widget-view+json": {
       "model_id": "c47a7fe53d154595a2872896e98e27cb",
       "version_major": 2,
       "version_minor": 0
      },
      "text/plain": [
       "Text(value='google-photos-to-youtube, ', description='Tags', layout=Layout(width='30em'), placeholder='from-go…"
      ]
     },
     "metadata": {},
     "output_type": "display_data"
    },
    {
     "data": {
      "application/vnd.jupyter.widget-view+json": {
       "model_id": "9167c4e6cd324a268391ae969ea577bd",
       "version_major": 2,
       "version_minor": 0
      },
      "text/plain": [
       "Button(description='Upload to youtube!', style=ButtonStyle())"
      ]
     },
     "metadata": {},
     "output_type": "display_data"
    },
    {
     "data": {
      "application/vnd.jupyter.widget-view+json": {
       "model_id": "221f420b40ca45dabc48e58f54b91ac0",
       "version_major": 2,
       "version_minor": 0
      },
      "text/plain": [
       "Output()"
      ]
     },
     "metadata": {},
     "output_type": "display_data"
    },
    {
     "data": {
      "text/markdown": [
       "[![](https://lh3.googleusercontent.com/lr/ANt_8_bvv6KhRboKNJkdiSJ6FJyB66hSuqvzYgNjyVGWf40URr8_Xk0PzIQ0ERp80GxIZGBZjR4c6leYgJhd6zG7jMCqFpVQsmJfDEP0tvqarbV474YO1vuLrADd8rd3h2b_ZoZOagrypxEQsEhb7fAVNMvuC8Nve9fvcwLL51if5aMWo3Y6omvpWLt4v1EEBGIi7O0OYDVz1OwqAMeGAr29d_gm_bFT3fHq8mozvB76dlkWhIAPG73P37oXkEMKfCG8D6qN7lP3KaPmpEkk0-wij3D9hSTrJL2eBHfbacaJWAZYuJdwu4yg5dTp6mGyoqt315rccRaM72gFTaPPsRooayOc9MdDQVvBTuEG2_PoEkD5iJQj5RGi9WwSlhOR5MbQ3y_gRodZF-XVSdcJHpTQuRgDMu-O1iNHuSr4YBzFeL8MxlRrqdII0C4i8aNysZ6Jc-IfLs5R8D4Vk2Rrn-D_6KvVKFxiaci8XAeWQRGZIJ7A4_qYmIeCbMn4ANhr5prqiYsSBpF4XUG7ITlR-tLxC-sJYJcDVJFd64kBeiUBgJku607T_-NA8SVYpCzsP6GKNXsF-NgdoAxNVin3ThoEgZ5_qC_1_SHXKzft8AI81RG1kKbuvAgQ8mTTatDraQJW1K-yk_QDyZSMK7ftL71wz2N-Kq1VJdsKkra0kxI3bwHrtMLqMeUtbBlzw_c4tEYgfZwJ0iuQSa5wLDOrCcKEm3qW6VqNElinbgHJ5S9xm7iKaaZ8YWvpmtulD4hfW-IIh9Sjk8AN94mzMqgLHN8ehJJneOkfO7tcpKsEBZhcGuT9wnyfHVcgbZ_A71htVXOvFpoymFDHFQm8GhDOjaPslenoxHEEOm7SirYUdRq_ysOZKfJ4K1jWYGIUuufTvQK9iA6S7WD7iECVJWqmJQ51VkJVAgP-RKeDykq6PuzSVmmfHwXHD7lbbOV5CGuD4K4qysfxISh0XKfWWKio82dx-VwL4JopNw9JbNI6QOo0YPEmUZfM53sMq3LjqKfPBLTRzdLI84tDbtuS67Df7SabT3Yp8mmECvo6BEa2onkfjgWaoeGaJHZtZayIUCFo=w300-h300-no)](https://photos.google.com/lr/photo/ACSOTbtHxByqM8VPPoYfLXJEJwJL3DspxogEW9t1n6sT48zLAP_1GnsFLFZlugeqkNYDrNPtOJ81b0GH6b2F-nNr7vXnZZwa0Q)"
      ],
      "text/plain": [
       "<IPython.core.display.Markdown object>"
      ]
     },
     "metadata": {},
     "output_type": "display_data"
    },
    {
     "data": {
      "application/vnd.jupyter.widget-view+json": {
       "model_id": "3511fa92c3c243ba99aa501e8130698b",
       "version_major": 2,
       "version_minor": 0
      },
      "text/plain": [
       "Text(value='', description='Title', layout=Layout(width='30em'))"
      ]
     },
     "metadata": {},
     "output_type": "display_data"
    },
    {
     "data": {
      "application/vnd.jupyter.widget-view+json": {
       "model_id": "1a0b0c96612f40498bafea728224749c",
       "version_major": 2,
       "version_minor": 0
      },
      "text/plain": [
       "Textarea(value='\\n - Migrado desde Google Photos con http://github.com/mgaitan/google-photos-to-youtube\\n - Fe…"
      ]
     },
     "metadata": {},
     "output_type": "display_data"
    },
    {
     "data": {
      "application/vnd.jupyter.widget-view+json": {
       "model_id": "2e3d163c5cdc453e8d7190daf7b4df52",
       "version_major": 2,
       "version_minor": 0
      },
      "text/plain": [
       "Text(value='google-photos-to-youtube, ', description='Tags', layout=Layout(width='30em'), placeholder='from-go…"
      ]
     },
     "metadata": {},
     "output_type": "display_data"
    },
    {
     "data": {
      "application/vnd.jupyter.widget-view+json": {
       "model_id": "9b3d25b39f4448559eef876277f862e0",
       "version_major": 2,
       "version_minor": 0
      },
      "text/plain": [
       "Button(description='Upload to youtube!', style=ButtonStyle())"
      ]
     },
     "metadata": {},
     "output_type": "display_data"
    },
    {
     "data": {
      "application/vnd.jupyter.widget-view+json": {
       "model_id": "f49d115583334fb78a4ae4d239353c83",
       "version_major": 2,
       "version_minor": 0
      },
      "text/plain": [
       "Output()"
      ]
     },
     "metadata": {},
     "output_type": "display_data"
    },
    {
     "data": {
      "text/markdown": [
       "[![](https://lh3.googleusercontent.com/lr/ANt_8_Yko1zKcqtmAxCdxYtkXUfjuwAQE-21OSv3UfBjeILWumh4qlm01sqoLPf8q6SO0v3wobBtWyKjDNno53TXyQ-KB_fxa4SN05SCrlHLQTl4PmBjhPaIuoBUF8HxjxhyrN7P3QnEz_5eDmMk3qiyQMg6dCZXP21Qqh4aDD8nixlcLajeeiDCV4ZGjyLPlBVcXnjMah_-GXtvynFHpeluSYHUMfQ-jpnUXSGi44TcJK2Yhe_xx7uBHCiQZ92_86dDw5e5eLVfMrFPI0QS2sb_Va_oWv8SiY5grbkXHTSXcA0c7CBdokO7-PSOSwQGse6h4KBjt8U7mygelpLBNYJjRnFqgvrKnmduU0Z-A39bu_p6Oas_zGFeO7TRwsgHfNo6lKml8Bm8286DStPRjyEjVJJ8k7WrjtaOFpC_W6If-7lZFXp2HbBsMQALYkNNe31pHy24ZFSZhZ6vAO-yGxkpfGNchHK9xd-7leabHAFGJmB9scINMlQ2btjbSDhCTWINH_dpgc5_iBEWpXPZfcpQt1gf9mQEstKIqDNzyOnbkYp1IZjq0-IM-_KoGYOrASrn47DpyOWTk16TqADTo6FXkEQ_GVTloWvtSoB6tcJ-3J1gfWU7pofF95S_XfISH0uRxFQ1pnbWKLXHXfi8uMV2pZYvYITl-Xto0B2KZ063jKo7sTOe8LY1_KEGeVRRi4nrFtu4f-g_ycYg9AMoSurhC-hWgD0b-3ky7qpI-QTa3V06Hf9NyuiFVOh-HSt-278kLEcx8SrRvktHKSq6JX16Bd8t5l74ntWxq8gV-9Tn8KV3q6lZ3uLEkY2bqoF7tx5J_R7Rplhqc6fagDstbjVdONoPPxcl7qD70ihYSn1KkvzVW1UrCk8V2XyeQIPe0jyIJbfDrX1Zetcb4kp-4ZHRxzjQe144_7Mh8nB35vZx9H-Pr4_NT5OJsOROrBYx0TuXc8a0pUK-Aj_sdVogfK1vSzr2FFOimZ-9ygXg3WkWBsBd8i_dsQDoAWFweiwO3Qo7tvVwKEE2iI0N9qbEJ8A0AAtyRcJ_kyN3NTeDqmSxUMgY2MzW4QdQwznnh0XE=w300-h300-no)](https://photos.google.com/lr/photo/ACSOTbt3s9cOtq1SlTty_-Ps8aiiF8YK4ALYcnwX-nvPe0oKAqw3drzt8oMt6bLaE9l9KN4NQvu5EGi0-irI3FqAz8K_7I92Vw)"
      ],
      "text/plain": [
       "<IPython.core.display.Markdown object>"
      ]
     },
     "metadata": {},
     "output_type": "display_data"
    },
    {
     "data": {
      "application/vnd.jupyter.widget-view+json": {
       "model_id": "892d02c1a1c949ccb1b912b097da3c6d",
       "version_major": 2,
       "version_minor": 0
      },
      "text/plain": [
       "Text(value='', description='Title', layout=Layout(width='30em'))"
      ]
     },
     "metadata": {},
     "output_type": "display_data"
    },
    {
     "data": {
      "application/vnd.jupyter.widget-view+json": {
       "model_id": "3d52a9de5a414c6ca17912437c24ba89",
       "version_major": 2,
       "version_minor": 0
      },
      "text/plain": [
       "Textarea(value='\\n - Migrado desde Google Photos con http://github.com/mgaitan/google-photos-to-youtube\\n - Fe…"
      ]
     },
     "metadata": {},
     "output_type": "display_data"
    },
    {
     "data": {
      "application/vnd.jupyter.widget-view+json": {
       "model_id": "9953eb7860af4aab836997037a18f0db",
       "version_major": 2,
       "version_minor": 0
      },
      "text/plain": [
       "Text(value='google-photos-to-youtube, ', description='Tags', layout=Layout(width='30em'), placeholder='from-go…"
      ]
     },
     "metadata": {},
     "output_type": "display_data"
    },
    {
     "data": {
      "application/vnd.jupyter.widget-view+json": {
       "model_id": "7d0bbebd3d144cc8803f4343063f77e7",
       "version_major": 2,
       "version_minor": 0
      },
      "text/plain": [
       "Button(description='Upload to youtube!', style=ButtonStyle())"
      ]
     },
     "metadata": {},
     "output_type": "display_data"
    },
    {
     "data": {
      "application/vnd.jupyter.widget-view+json": {
       "model_id": "99e57257b7a44c41aa065394894acde5",
       "version_major": 2,
       "version_minor": 0
      },
      "text/plain": [
       "Output()"
      ]
     },
     "metadata": {},
     "output_type": "display_data"
    },
    {
     "data": {
      "text/markdown": [
       "[![](https://lh3.googleusercontent.com/lr/ANt_8_YhDcq8iPt_ygOgiKxOBpED0UJH4DbwHJHolyUOUJP-y2HkyObs5jACoHEJwMEkyLJEJbnzvaEzFnF0UukK77IcZYWcLRNAmBW7tFtkqzRU0Co6um-zOW9gBOkdC3ofBmmuqDK5bwc74cqHxPLFtyCnZ0c8zimlT3ptssrPPy1vG36eeCbQN99cT5VNkbBGqWyRRCBlzaHZ_FD1X8YzoIDWWosn2qhYgvz-UwkpZuruVneZrhtBrCM5mFDjJxtdNwkYMvrVlfF2pX0bZp1nmknTmBSLjIs05HyNlVHG3_yQcGsj2hBsR3sZNNvsz_faeZ7A9oODmS97KZQqOEIst620OCqgh4A8BLwlAsNUME0ZaEkLVYR4rQpLucSunFKgS2rww-uTc_k5jdk2mJeCqpbG_d62-pflIg8Zn72Ictihsg_ifyfl-emD74j5-7TdaoDxfUt9t7G3nHnBvldNYY5ERefS0yAk0jeWDvYFhyIYkHkIytNG0pQ3OkFhgfCv6La0wzR075wKDOrQQkUsT01ICxNq6Y9b0HKCE2WwtaW7OSZ3_nkiPgH7gaNjwO5zCXm46ET4gMClqrSwK8JYiHGU3Gt7FZnbctAYu4YPUdovwJc_nPouYsGY1ChycVnZ9tQ69IG9gskalzisodgtLU-1Q8JD1uVvl-ydjR5vUA8kwZCi85sm3ZTb4yTHnm_Dp42h345yh23WismieYdXh4OzFjsnMpFGFAQWwwskGtOOu8SOukGfrEqL7gUKtXndQ_KbBXF-Qxl92JHAoGwVJ1XsngjI2zlnScqaue4HB1qHpwWM8o_CS03dn768eeHR2Z3C_7Z2EvVB6GMDFOfQOq8KCR9aVrDg_gloe36BIr6NsdzAAh57moyPyjkiSNyv-vJbMNXPa2x7g99bybxvfhCodZOSrIJQC8BiStUvd-8JFFWS-5V63CKmd5I22ITVuNZTEyXX7NfCDpkUoFu4R3y1cd59zZQP3tXXyBudQ23NY5PVf8HyEb3tgznjLfiwpyQ7deu3Pj-bjv8DABGaGdPrFwQ4kNdhM6UmSJ3PAr8RB0jX_um6D0uwDNHc=w300-h300-no)](https://photos.google.com/lr/photo/ACSOTbsGxALQ59CyP9MypQgd2K0n8izPyrHWDIxfBzLFEcSrrJELG9vQ0bK7DPovxn3ByrUfxdX7q1JcANY-0a4d3PR5XdR3bw)"
      ],
      "text/plain": [
       "<IPython.core.display.Markdown object>"
      ]
     },
     "metadata": {},
     "output_type": "display_data"
    },
    {
     "data": {
      "application/vnd.jupyter.widget-view+json": {
       "model_id": "037643b2dd6041e2aee8f731c09db173",
       "version_major": 2,
       "version_minor": 0
      },
      "text/plain": [
       "Text(value='', description='Title', layout=Layout(width='30em'))"
      ]
     },
     "metadata": {},
     "output_type": "display_data"
    },
    {
     "data": {
      "application/vnd.jupyter.widget-view+json": {
       "model_id": "5629ebaaa2d44ba5923e45ebbadaf389",
       "version_major": 2,
       "version_minor": 0
      },
      "text/plain": [
       "Textarea(value='\\n - Migrado desde Google Photos con http://github.com/mgaitan/google-photos-to-youtube\\n - Fe…"
      ]
     },
     "metadata": {},
     "output_type": "display_data"
    },
    {
     "data": {
      "application/vnd.jupyter.widget-view+json": {
       "model_id": "cbd33ad29dad4ca8ac8b8d6b79a0b453",
       "version_major": 2,
       "version_minor": 0
      },
      "text/plain": [
       "Text(value='google-photos-to-youtube, ', description='Tags', layout=Layout(width='30em'), placeholder='from-go…"
      ]
     },
     "metadata": {},
     "output_type": "display_data"
    },
    {
     "data": {
      "application/vnd.jupyter.widget-view+json": {
       "model_id": "d314a2e2316b4e87a4bbd2e53d0889af",
       "version_major": 2,
       "version_minor": 0
      },
      "text/plain": [
       "Button(description='Upload to youtube!', style=ButtonStyle())"
      ]
     },
     "metadata": {},
     "output_type": "display_data"
    },
    {
     "data": {
      "application/vnd.jupyter.widget-view+json": {
       "model_id": "e4a038d732c3485983ee1d0411ef2b1e",
       "version_major": 2,
       "version_minor": 0
      },
      "text/plain": [
       "Output()"
      ]
     },
     "metadata": {},
     "output_type": "display_data"
    },
    {
     "data": {
      "text/markdown": [
       "[![](https://lh3.googleusercontent.com/lr/ANt_8_Z3PPsQ3CxNuzQ7Vs-D_u3Xej9S2snZm3ZTNUmdh76E-sb0Nfw75q4CPIK6aBrL2qNEQVMT14sqDwDZYbHhPGERlP21PwZ3sf8xG5aSIl6i2H6ao4_99Dqmq-3xB9TOWQZvUisFOOXh3Hna1DBK6YNFkVEn7dhjpAqgDF25Pn-IsT4L_kUHFA2sNpTRMXAx2vU8s4CLus64egPl-dSqG34OxsgNzNNtEaCWTfEmRilcsoFjrPoYq8T9xql0lajexQs28p0ZHPcfjhsVqJx3P7dD34a9NLQia4JtU7dKGJnnhc6py_ZDm-8IlOjkr39d5js1pKunaNzJNZUvbr4m94tcPYr_uN0lx7FewN8uZIpBnhtnt5ro-hBgqLY6NzizTEKctp5YE5qm6tw_2eA6d_YS1R3mHoMeLN3d03DLrGSfuJ64JabRdQSqMBe-XkCTeCPzO8FttSLeUQ9uVFLnrx0eTf6g3TRrmUoXQEvK4x-S0kGaX_FGK4Ym4d8TIjSki9CNgs1saeOA4GKEOZv4M7F_Wtsfsk4PKXAZ4pHDgSuYMdPWRWLv5Yw2CqyKSVhRgn-8-zzhkBH7ImcbnAsMFUquPrqkzJqyjppcOD6wOOYCOyHjD10t2qHdhkIHzhUodv1DOJz1btG3MBqwKA_uf3FTTBdAObSZSIpr1gVNcS8lf5lMCApnNGlfQEEsJwrsuCYV2Jkzko7i32HqR0pHNs_p98K1mB5BjPx3tJz0kJeovsizlgn2OzR3xbStoMOgOWn91dK2G04XHzKnNu5VB2xDDm4ynhXp5JxI6TcsVMoRL9_34131QrS2LGK99HpXlyyw03SV0QlmV8FkjAMv6jersPa9ZPMSIo6tP2zW_UM0GMrVWlxet_aqUQJsZoWy8ForlAyAknGeEOjc7yjsMv87KmPk-Miw03ceLKTVMfCtnayi56zh-oa_bDy8ch8vPScjr1SkjIDDgBzckYFVAjkCIhkSv0fVSG-_p5w0_Xwpf-UnTVYQSfIxH7RBxNG24PG3SGrK_cMihWuX_c58e-fJaWXM7rC4ozgdc3ACo6IkoOKIaa7KmDuPyBMd=w300-h300-no)](https://photos.google.com/lr/photo/ACSOTbvWuC32KDUqs3_dwAc5RaGlSTPTtwrZhRipnAMgnWjBmL_GALDVPfpI2oWokSq0y9aAUoGz63FZjy5gaz0uluzIF1NtIA)"
      ],
      "text/plain": [
       "<IPython.core.display.Markdown object>"
      ]
     },
     "metadata": {},
     "output_type": "display_data"
    },
    {
     "data": {
      "application/vnd.jupyter.widget-view+json": {
       "model_id": "a85b6d51ed084173b944141817235c60",
       "version_major": 2,
       "version_minor": 0
      },
      "text/plain": [
       "Text(value='', description='Title', layout=Layout(width='30em'))"
      ]
     },
     "metadata": {},
     "output_type": "display_data"
    },
    {
     "data": {
      "application/vnd.jupyter.widget-view+json": {
       "model_id": "1d4c670ce8c04590b6b3be1e5f17fc03",
       "version_major": 2,
       "version_minor": 0
      },
      "text/plain": [
       "Textarea(value='\\n - Migrado desde Google Photos con http://github.com/mgaitan/google-photos-to-youtube\\n - Fe…"
      ]
     },
     "metadata": {},
     "output_type": "display_data"
    },
    {
     "data": {
      "application/vnd.jupyter.widget-view+json": {
       "model_id": "3c90b589bedd4e1abd094e8f2eaa1e2d",
       "version_major": 2,
       "version_minor": 0
      },
      "text/plain": [
       "Text(value='google-photos-to-youtube, ', description='Tags', layout=Layout(width='30em'), placeholder='from-go…"
      ]
     },
     "metadata": {},
     "output_type": "display_data"
    },
    {
     "data": {
      "application/vnd.jupyter.widget-view+json": {
       "model_id": "987e80bef81b46dbb1e9fad84366ce9d",
       "version_major": 2,
       "version_minor": 0
      },
      "text/plain": [
       "Button(description='Upload to youtube!', style=ButtonStyle())"
      ]
     },
     "metadata": {},
     "output_type": "display_data"
    },
    {
     "data": {
      "application/vnd.jupyter.widget-view+json": {
       "model_id": "4e7b94c243b24a5dabe892b92f1ad9ca",
       "version_major": 2,
       "version_minor": 0
      },
      "text/plain": [
       "Output()"
      ]
     },
     "metadata": {},
     "output_type": "display_data"
    },
    {
     "data": {
      "text/markdown": [
       "[![](https://lh3.googleusercontent.com/lr/ANt_8_ac7f5fL_GOnCGQdZGyu1x4lJLnZ9SN_DwDh8hQPPylwyMewnlulh85b85_o1cJFqQAqy99u8v6PuIJJJ44T4myFTzgV26HAgyFAF0sZFd1jokoNq9is8LrHmyE4KCiFBw8AzDMtFvlNG_p9w8j399ubzXBcFhhWuSKaF14uaVvOXJGQUnt6SGeXE11lVAhHgjkqrIAu2dgdMOqzQ3Q4x_Q3fzgSIysl57eX2oZCSYAT5vkRL1JyBXbBEh1OluG4CR21vev-_uFXVcpNn92pVaxtpviClWTAK9Z7R3qFeu5LpDAh4NeGI18TSF-Hva4leMa1PA6qV2B24dGAeDABMqMxRtE7UZOPm7NaRXAg7xvihBdOfNZ-7p6U-j-HmzuF-e3DwBFEuexGLzVh-3GM003efjIuSJox_UGJ8q7F5ez1gjfKo1JUD9KFmgy-GAItJkimMrwmOM--vCvc4FncXwzVzPCJtZL7B_qScB-n65fOewnqqe6jiORwmOaTEzkA35oDLfyxb5T4mPPWCa6ZZ-pRzRJrbYOyXRbs7E7DfSD0JYkfr4Nt6VrS2zAXONM8clqIXHXTsFfSg8t5DwLDcutzafKr5aiVT5JuNyZbV3onPZTj2hZz_s-RDjBChgGJvz7UqWXFh2cgfzVt3WbC_VJZKByVbHdIXb78uOBMKg1USV-EVgg9MvRDUb7B_p5lMaP9HjdcrYqTgEkQjJQHZsyuZax8YLQVm3Ea9hGOXQ0cNH-5suncZh-VTd7BQgskK7wihq_MDeButyiwMoqedDv1oI5EIqhpdx6pn2t3v2IqVRXRy46oqQPFk7x-Q440B5w0CZFtf2f6b_Gx2TjJZ1tVu37IVto6E4iNGpC5MssKjWf2HSuSxGzG0sgZHHvdOQTHgx1XPF9fQBB_X9ibYCew4Y9azbcJf_krZ6DHFw0E8iBXzTRFRdxpT_BogRX6Jn7UPKqZnG60hxovQp4t7YUg17s6BoOsWD3Hl6efalkSZDrYJrS2HoJyrJJNzHw_V0vfzoy04I7z5U4k7GSD1HD-xJpOBGOjllcok9iyZOW6k-a8YdXqmyDJupV=w300-h300-no)](https://photos.google.com/lr/photo/ACSOTbuKgWusWmZFrZreKnPHjJ0GYn7K498X-aF70gpyOyROxTjotQwK-_cyAmWwvXxFmxEd2aza0EAYf_eMGE5EowpNAdgLjw)"
      ],
      "text/plain": [
       "<IPython.core.display.Markdown object>"
      ]
     },
     "metadata": {},
     "output_type": "display_data"
    },
    {
     "data": {
      "application/vnd.jupyter.widget-view+json": {
       "model_id": "c1e9eacf638b412b870fd707d37bc72b",
       "version_major": 2,
       "version_minor": 0
      },
      "text/plain": [
       "Text(value='', description='Title', layout=Layout(width='30em'))"
      ]
     },
     "metadata": {},
     "output_type": "display_data"
    },
    {
     "data": {
      "application/vnd.jupyter.widget-view+json": {
       "model_id": "9c9d4697760840798dae24d38a79f402",
       "version_major": 2,
       "version_minor": 0
      },
      "text/plain": [
       "Textarea(value='\\n - Migrado desde Google Photos con http://github.com/mgaitan/google-photos-to-youtube\\n - Fe…"
      ]
     },
     "metadata": {},
     "output_type": "display_data"
    },
    {
     "data": {
      "application/vnd.jupyter.widget-view+json": {
       "model_id": "77736984fa154d0eb06a1410684b3f88",
       "version_major": 2,
       "version_minor": 0
      },
      "text/plain": [
       "Text(value='google-photos-to-youtube, ', description='Tags', layout=Layout(width='30em'), placeholder='from-go…"
      ]
     },
     "metadata": {},
     "output_type": "display_data"
    },
    {
     "data": {
      "application/vnd.jupyter.widget-view+json": {
       "model_id": "08a5b1bad13e42e4b90b6ba02ae99ab7",
       "version_major": 2,
       "version_minor": 0
      },
      "text/plain": [
       "Button(description='Upload to youtube!', style=ButtonStyle())"
      ]
     },
     "metadata": {},
     "output_type": "display_data"
    },
    {
     "data": {
      "application/vnd.jupyter.widget-view+json": {
       "model_id": "de8e5edea4524ecab72f74dc6143d899",
       "version_major": 2,
       "version_minor": 0
      },
      "text/plain": [
       "Output()"
      ]
     },
     "metadata": {},
     "output_type": "display_data"
    },
    {
     "data": {
      "text/markdown": [
       "[![](https://lh3.googleusercontent.com/lr/ANt_8_bqnGOeKbr0Vg5Aor0QbhttbyX14H4cTfR3aomH96Rqo_z7P9Sv3xd8LuRuCRH6D1NiIUTPV5N0Iq6mU91W-UUJZNahYj_Le-5jRMEfY7R4Jjlgnq3S-NRMFfmIEOX3nSZ5jEhpmM9t2eJAKkjigHxwEMEqydd7aqnBd4pwwMDt6QccTok0rkhuy8cu-OhnNeBK5zdGYS27wYDfFB4_D23hzMh-373EAMDF-oNYub4weenyuBEhYXNL8Funkq4ModQ8snlTqgspG48n-JmW9K_DBmX1oXUw9Sc4mLYxXvnFib1_jtBhNOoOc3dwSjL4Wty4W77IFGtLiUvfJ00u3W3oUOo3FsbL3FAQaVB4iPis5JTnBLz0hTGRNNZc3Hcl78TnbAw46y8yKoK96vC_Ddj2QVLquXV9dMWdW6gqAJFYARsdWaVYrfyPy8dl8sDK16MLzFWBuSP5cMZEEvGX2dkFHJmOMstKzRyhegC5y8pBLifDGkhsKTqNu-GHGmVGmafSuFfmQ8ZwcvRFcWOeLlu1VPNbZOb12UnSCEDt4zn-Cs1gxkN64VBn-_fhkmxYHpd8eYO-5kd6PPtrd0R-CVdk9tqfEWbmalLHAOAxfvpX5xDClWEAI3Ds00kdFqa-mQLXvmZ7tUuG3ahlAuJsfcz9ZXP1H6d8j7h7HzY4MWhIDDkbqjeDjS-Wv4nN1HkWEqGV7ZH6Vws5yC5b4IPI_SuR0RDXajgaxAsUG5AF8YV0U1XzR_bWKDgRqdmuo0si8hyMixW6p7n-4Q6d58f8AMQ3FNZv8V97bdWq5DPWPx8QUGaSc7KH05l7Tx_dY9r2-1k9ZUh_YUOplQM6LRHzM1DUmaaCP4DD4b_RfVyOuCFlpPs5IJC7Hdk8_hlUdFBGEl-OJA5IFayfxU0Kf40ViEs6PS90y9_gWVF97O88w3UT_kHkOIroFCnq5ikbgfjLrUpB4Kf8AiyhzD9r4gKttOdmhnKD0TTB8I7bWGaNljqJGwNoquinHT1shIZMS3cC1otI6k-Z0q-WiFD0zkZgO9cKx1kEJyAsMpTonl90N3wILAtTd2cFFOZACj8U=w300-h300-no)](https://photos.google.com/lr/photo/ACSOTbvRfESb3XWXbiDLImU8rqFev6zU6XaDIJcT5s5Py8bQsyGZ_K3B7-K0Iel6t8x2ucjKGmnjeXl3nuDTL6rfXlB4CGpajQ)"
      ],
      "text/plain": [
       "<IPython.core.display.Markdown object>"
      ]
     },
     "metadata": {},
     "output_type": "display_data"
    },
    {
     "data": {
      "application/vnd.jupyter.widget-view+json": {
       "model_id": "0078ad66cf89495bab13a9722344f603",
       "version_major": 2,
       "version_minor": 0
      },
      "text/plain": [
       "Text(value='', description='Title', layout=Layout(width='30em'))"
      ]
     },
     "metadata": {},
     "output_type": "display_data"
    },
    {
     "data": {
      "application/vnd.jupyter.widget-view+json": {
       "model_id": "d6ee0ca324ab4ce1bae388b0cfeed01d",
       "version_major": 2,
       "version_minor": 0
      },
      "text/plain": [
       "Textarea(value='\\n - Migrado desde Google Photos con http://github.com/mgaitan/google-photos-to-youtube\\n - Fe…"
      ]
     },
     "metadata": {},
     "output_type": "display_data"
    },
    {
     "data": {
      "application/vnd.jupyter.widget-view+json": {
       "model_id": "7bbab226240a4bca97d28b2cfcded1ff",
       "version_major": 2,
       "version_minor": 0
      },
      "text/plain": [
       "Text(value='google-photos-to-youtube, ', description='Tags', layout=Layout(width='30em'), placeholder='from-go…"
      ]
     },
     "metadata": {},
     "output_type": "display_data"
    },
    {
     "data": {
      "application/vnd.jupyter.widget-view+json": {
       "model_id": "9084c84513cb4bafb4f75baeda2e8014",
       "version_major": 2,
       "version_minor": 0
      },
      "text/plain": [
       "Button(description='Upload to youtube!', style=ButtonStyle())"
      ]
     },
     "metadata": {},
     "output_type": "display_data"
    },
    {
     "data": {
      "application/vnd.jupyter.widget-view+json": {
       "model_id": "8e5a4f180892428abf5c9b636fd169ea",
       "version_major": 2,
       "version_minor": 0
      },
      "text/plain": [
       "Output()"
      ]
     },
     "metadata": {},
     "output_type": "display_data"
    },
    {
     "data": {
      "text/markdown": [
       "[![](https://lh3.googleusercontent.com/lr/ANt_8_Zvmp4PpdcF8AHlKVb4T22Gg4qkmDddC4poz3yUOprm4IQg6vcgdG1p9dEg_LzcYlEGUtNdZHXLQcmENCJERaLwOHCgtQIhOlr1ZT4u4O4ZOI653oy59MDs8P_3oEKF0GOrVxe8NMoBqR5GnkfKC_CZzlRzDddVKyuw2giEpIKeMnFDZeizd1TZ9foOnz9eFhSY6mxTgT5MtlPJDstiSCgDYtD5XglEotijtJ7QKSaZZOQ20rXy-V1NJ5GjXWAjzQM-7F6zKnB-TYgD3Ra5Z8c6ExVcUCtEWhKE2SbU6TFMDcd_1zOcPbaNvrgri11OLYcyDsfT8TfDFOIUQSdJl_WDmi6byXSXoRx0O-hN32qrS95MP--DeIa7mdf-EWGOeFktODG-52AHRo5eHkUtbSBLvUG7F1bWRRN8buY0BdlKlF4FB4gezLEVLXGj1o0qaZgjDfNZnbWSeWrdlgUsRn-rxwGvhu9XmGfmeErFr6shFrn1KtyXgGPRwJ2UOfLCPuSehTSqQdkVYaH7vRdPZBt20K4zmqccDQ5JQeu965KduKvxjEF1pKNecD9DMDokWL4MYl6DUnvduN-XXJYC0HP2fMCsw9u0eZ2XXbL0woJELmNGxH3t1jLw-sthkMa9i_sETi0iJaNDme0L5nxB6UcAfiQFw6MOQp0nDIZLxQbkOQLlJQS1s8Rj2y5Kq6cA4eFFrPCaTAtgDtqXanhp0OpqYk5jSDV1CPPqO2WRA4Kq4_9tfd9gRyuK3eXJ2u8EpEgv7wcYNA48KA8VV281P-kUfOxMPyWn7yBAF9STjNh10S2502b5lPmAhTwidWJiIfUq4GISmWNBQYCtkC8VUZXrPTDqucfEe8BecTfJ7KEIAoKgpaXtK9Q9XOFPEBA8Ih0iCHlxZtsv1S12gBUDbexi4CljAHEuxbCaxUJEexvJ5LdZap8e74AEP0DaQkUBqEADnRbMd9bXZcqEEB9I8TuD9FexIIvFQAGNweNTTwXc2HfsIZmKhWYmH1GMk3jjF2m6rzxJ9Tx_T1PM3MqDa0UUmMNBEwzeA3VQUL3TpLX9pcZ9Xb1-VxKdTeDA=w300-h300-no)](https://photos.google.com/lr/photo/ACSOTbvNJQyqFHECFQyZF53L-UbzV_rEXTLt22NM2ESDtBWbid1iBgoW5oW1M5bpm3LG1daArQkTlmli6Hm0Y-Vpo21KU9wC4w)"
      ],
      "text/plain": [
       "<IPython.core.display.Markdown object>"
      ]
     },
     "metadata": {},
     "output_type": "display_data"
    },
    {
     "data": {
      "application/vnd.jupyter.widget-view+json": {
       "model_id": "4aaa018164084b569ff4091686b70c83",
       "version_major": 2,
       "version_minor": 0
      },
      "text/plain": [
       "Text(value='', description='Title', layout=Layout(width='30em'))"
      ]
     },
     "metadata": {},
     "output_type": "display_data"
    },
    {
     "data": {
      "application/vnd.jupyter.widget-view+json": {
       "model_id": "07e849f23af64f2d9927cc9d1c769811",
       "version_major": 2,
       "version_minor": 0
      },
      "text/plain": [
       "Textarea(value='\\n - Migrado desde Google Photos con http://github.com/mgaitan/google-photos-to-youtube\\n - Fe…"
      ]
     },
     "metadata": {},
     "output_type": "display_data"
    },
    {
     "data": {
      "application/vnd.jupyter.widget-view+json": {
       "model_id": "19e44c8f694840de92c935581915ccdd",
       "version_major": 2,
       "version_minor": 0
      },
      "text/plain": [
       "Text(value='google-photos-to-youtube, ', description='Tags', layout=Layout(width='30em'), placeholder='from-go…"
      ]
     },
     "metadata": {},
     "output_type": "display_data"
    },
    {
     "data": {
      "application/vnd.jupyter.widget-view+json": {
       "model_id": "7223eb1de65c4933beee8a35caad127b",
       "version_major": 2,
       "version_minor": 0
      },
      "text/plain": [
       "Button(description='Upload to youtube!', style=ButtonStyle())"
      ]
     },
     "metadata": {},
     "output_type": "display_data"
    },
    {
     "data": {
      "application/vnd.jupyter.widget-view+json": {
       "model_id": "97560d6034044acd847371a34785fbdd",
       "version_major": 2,
       "version_minor": 0
      },
      "text/plain": [
       "Output()"
      ]
     },
     "metadata": {},
     "output_type": "display_data"
    },
    {
     "data": {
      "text/markdown": [
       "[![](https://lh3.googleusercontent.com/lr/ANt_8_Y_AkcGqKOyWm7I6eCWR4DDmnJu3K46_gV1cBppWdFLi7kNEY_hl3ATY3bn8kxmJIlFsuKRmqYcR-PG4k6qNVj6cL3Lw1v9xWMRgT9rmvSIpagh_b6dZepvVDf6eGmg0gP_drBxXVp28UmfengI6qPi96oZj7yw6cZ9xKkg-hZp_vh1Pt97u4_lKOxZdCvUpBUihbgDRvkIFpGrkVPmRZ7tTgejyUECbN-QKfLxIbtxpex3GYuWA_17ydUxeQMYN2VKXNBQcuglu5t45moRfoUZ0xaslOgv3lapWK1d6SMFL_CZ-wFBf18fK8QurblW0H7wYAUUk09PW6f5CwOj0b31QtEGhhhCgueQYl3grDBbBG9l57YJcYsFs3QqccmL0Yhs1tQr-QUm2j4gSJylGQWqJEnBVIx1HA1X7brQfm_a89DbgylvE7jTYiOzj7UWiuoKqeVuljaHQlvsKz3uP_JJEbu2tuTnUaMpNrY89FtZi1fWWAWSa-g-odj_tEBBuzzwTabOmkUTch15Re09Ml-LeE-hGvcomY5YCPb72kIulZx0fqMhkKWsfh85c2D_EwSdShKEM-Q6XILnG4j0Ku--xWMT5c7_dIdKCRcVujlxRNag-x-TND-MosQuEwJsHHKG0Dl2gQJAyMiDCMjJvXTj8FCLkgooVteRaIl5BE2Mtb7PYtefGH8ngfypHsuCTPR1lsJ9dlAfRCTWsMBRq8wOPvEsQhQVseLdet0ENjb28I8NW8dvwFMoH85c7xxQQndJJBmmAI3fXd0GLpgC4AsZkMV7ofyeqXIGTaB5vOEdmLsw9_F3iRiKLVRYTjcYzVd4sCvgULtc8AfysgCica-Sm5e2j0_1fsO4aYvPpgzzS_CrqE1402ASIuKwjJLTpLY2fTFTJtcgKqAe5E4mGszLFC0ddl15XtCWdlKvlyKa9C4ONfDkyUdUU6dRUj8P0SlxlWIRdpVuJQcoJGJT2qgpu5hPTsw4VxUD3PzuCYS_wHFy_i4gCgpyZHfIUu6uX_97oMAHtPCioDeBj_w6TlyReQuHFxnlosNowZQeVzVzTOSi3i4mUiX9GgsS=w300-h300-no)](https://photos.google.com/lr/photo/ACSOTbsH2TCvpZ011FmmIgYJtuwlyQT2TxldXtjA1o3a3hlB33Cys6mpeYhGlh4yTSJi13RCQgxPqo_qC-DlPDK8wYQfhQbK3g)"
      ],
      "text/plain": [
       "<IPython.core.display.Markdown object>"
      ]
     },
     "metadata": {},
     "output_type": "display_data"
    },
    {
     "data": {
      "application/vnd.jupyter.widget-view+json": {
       "model_id": "61e54e5cee5d4b5fa0709f32ad41acd5",
       "version_major": 2,
       "version_minor": 0
      },
      "text/plain": [
       "Text(value='', description='Title', layout=Layout(width='30em'))"
      ]
     },
     "metadata": {},
     "output_type": "display_data"
    },
    {
     "data": {
      "application/vnd.jupyter.widget-view+json": {
       "model_id": "eb40dee7dec845c4ad8b42d24b44c105",
       "version_major": 2,
       "version_minor": 0
      },
      "text/plain": [
       "Textarea(value='\\n - Migrado desde Google Photos con http://github.com/mgaitan/google-photos-to-youtube\\n - Fe…"
      ]
     },
     "metadata": {},
     "output_type": "display_data"
    },
    {
     "data": {
      "application/vnd.jupyter.widget-view+json": {
       "model_id": "c98f68a4486f4ae491afb752de7d7ade",
       "version_major": 2,
       "version_minor": 0
      },
      "text/plain": [
       "Text(value='google-photos-to-youtube, ', description='Tags', layout=Layout(width='30em'), placeholder='from-go…"
      ]
     },
     "metadata": {},
     "output_type": "display_data"
    },
    {
     "data": {
      "application/vnd.jupyter.widget-view+json": {
       "model_id": "8e28abc567f44aeeb4134b27ffc0977f",
       "version_major": 2,
       "version_minor": 0
      },
      "text/plain": [
       "Button(description='Upload to youtube!', style=ButtonStyle())"
      ]
     },
     "metadata": {},
     "output_type": "display_data"
    },
    {
     "data": {
      "application/vnd.jupyter.widget-view+json": {
       "model_id": "97a6d09f69514cf7b18f4fabfca394ac",
       "version_major": 2,
       "version_minor": 0
      },
      "text/plain": [
       "Output()"
      ]
     },
     "metadata": {},
     "output_type": "display_data"
    },
    {
     "data": {
      "application/vnd.jupyter.widget-view+json": {
       "model_id": "a1c04e09dfb54a9cb3fef7ae52051c3f",
       "version_major": 2,
       "version_minor": 0
      },
      "text/plain": [
       "Output()"
      ]
     },
     "metadata": {},
     "output_type": "display_data"
    },
    {
     "data": {
      "application/vnd.jupyter.widget-view+json": {
       "model_id": "53662004a66b43d4982c207eba9c0e38",
       "version_major": 2,
       "version_minor": 0
      },
      "text/plain": [
       "Button(description='Load more...', style=ButtonStyle())"
      ]
     },
     "metadata": {},
     "output_type": "display_data"
    }
   ],
   "source": [
    "load_page(session, youtube)"
   ]
  },
  {
   "cell_type": "code",
   "execution_count": 5,
   "id": "35eaf201-3611-4b7b-9cbc-0cd18c5128fd",
   "metadata": {},
   "outputs": [
    {
     "ename": "NameError",
     "evalue": "name 'videos' is not defined",
     "output_type": "error",
     "traceback": [
      "\u001b[0;31m---------------------------------------------------------------------------\u001b[0m",
      "\u001b[0;31mNameError\u001b[0m                                 Traceback (most recent call last)",
      "Cell \u001b[0;32mIn [5], line 1\u001b[0m\n\u001b[0;32m----> 1\u001b[0m \u001b[43mvideos\u001b[49m\n",
      "\u001b[0;31mNameError\u001b[0m: name 'videos' is not defined"
     ]
    }
   ],
   "source": [
    "videos"
   ]
  },
  {
   "cell_type": "code",
   "execution_count": null,
   "id": "f2660c55-df7b-49f3-bb8f-f171db89d2a9",
   "metadata": {},
   "outputs": [],
   "source": []
  }
 ],
 "metadata": {
  "kernelspec": {
   "display_name": "Python 3 (ipykernel)",
   "language": "python",
   "name": "python3"
  },
  "language_info": {
   "codemirror_mode": {
    "name": "ipython",
    "version": 3
   },
   "file_extension": ".py",
   "mimetype": "text/x-python",
   "name": "python",
   "nbconvert_exporter": "python",
   "pygments_lexer": "ipython3",
   "version": "3.10.6"
  }
 },
 "nbformat": 4,
 "nbformat_minor": 5
}
