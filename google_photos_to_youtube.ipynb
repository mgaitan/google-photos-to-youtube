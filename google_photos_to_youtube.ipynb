{
 "cells": [
  {
   "cell_type": "code",
   "execution_count": null,
   "id": "ebc3f5e4-9c88-4b70-8ae9-429341a2bbfa",
   "metadata": {},
   "outputs": [],
   "source": [
    "!wget https://raw.githubusercontent.com/mgaitan/google-photos-to-youtube/main/google_photos_to_youtube.py\n",
    "!pip install -r https://raw.githubusercontent.com/mgaitan/google-photos-to-youtube/main/requirements.txt"
   ]
  },
  {
   "cell_type": "code",
   "execution_count": 1,
   "id": "9a677990-e76a-484c-bda1-920129ef2c56",
   "metadata": {},
   "outputs": [],
   "source": [
    "from google_photos_to_youtube import *\n",
    "import ipywidgets as widgets\n",
    "from IPython.display import display, Image\n"
   ]
  },
  {
   "cell_type": "code",
   "execution_count": 2,
   "id": "d3068fbb-5e82-4ce8-9252-cd4afcfa27a3",
   "metadata": {},
   "outputs": [],
   "source": [
    "session, youtube = get_authorized_sessions(\"token.json\")"
   ]
  },
  {
   "cell_type": "code",
   "execution_count": 3,
   "id": "71eb7587-43fc-4742-90db-e6b6b86fed3c",
   "metadata": {},
   "outputs": [],
   "source": [
    "videos = get_videos(session)"
   ]
  },
  {
   "cell_type": "code",
   "execution_count": 4,
   "id": "f85210a2-4b1f-4ea7-aed4-6dce64bb0454",
   "metadata": {},
   "outputs": [
    {
     "data": {
      "text/plain": [
       "{'id': 'ACSOTbspc6amgAqxywaWpMnicBvhbMZlUrzB1V01iIqJ_4E2R7Wc0GB7eCTZuUPjMcJQ4iG7lfJtX8eSpu2WVBsRzogg89vOtA',\n",
       " 'description': 'Este video es muy lindo',\n",
       " 'productUrl': 'https://photos.google.com/lr/photo/ACSOTbspc6amgAqxywaWpMnicBvhbMZlUrzB1V01iIqJ_4E2R7Wc0GB7eCTZuUPjMcJQ4iG7lfJtX8eSpu2WVBsRzogg89vOtA',\n",
       " 'baseUrl': 'https://lh3.googleusercontent.com/lr/ANt_8_YlLM_jZqDtBKk_52q-YRoC5THGvElMvmWW2eOAJFxKITUGMf3mCwDd8EFTHIhFNme6wHnb_bkrnjb0MNqyGOitjxIyIHtX9PGfx1OqmFFLW0ghclTycEHwlWhBpHQI3KlhD3uK8OD_N9T4oP7QT8oLHC_pQeNP_NWJ09M31XB85bQYVhSJ9n6yBm4Y_Q2Py3WtK8wUYb6xIH2LB6VRkp0mDRA9xkshWXhyB_5RceQt9YWUrCqJjln_zbcFGPqKHLaLutMpLfgrdEVCFaTrqkH8Gg0SEGPjChw5r0BK8-xe_AZ9FMqAnoplxVcGCOPiiv_fu5nvOaVInyQQQDWItg_H_DHaf5qQ7vKbqgcApqkWQQzfzKOxYhD510uv_zyq81axM35cRBjsOKmJ4FfjK6l0Vvn8ExURlG33ZxbGFixN-JGM8Eok58nJXguQHvzNumiQnaybQTHfeudYBL-s4udO09k_rYqjTcOVnJgMqPiW1FYI8-8bLR34c4E33nJLRWBpd7lVWZknb2whWLo9nja6_9HdjMfJXtpw3R6bVVL5J3z0l1KZy36LMUWTjO7LkP829-Lplyh03Apfdxk6-CyxRKNURGmhSleBYhAMrnz-OVlkuKgLmHglEWdh_KylWrLZFsQGE2V0WC1tAZo7SP5Tr4dhorlKtQ9m-9LKXLNOoLBc1pYqYRSHeEf-9Tf49LkVTRyquLhv6KCe_LIjhkaxbNr0yqBql1OfnjLpjnNi8bmyI4LRGI2pblwMklAZ2F8bgzosZP-oNjAyhHSREr62XrBHJL0zUasgepSiT2lkTgSlrd5nYi1YGNPWa4cRh9qHzegXpuvToFX-M2u7for3Hh2RPDGxU8XgA2T7x9AcexT4OlKdFP6y_A8s3dEuXudXiI3VRgGSjyRFMxgGnEdYeSluQgB7',\n",
       " 'mimeType': 'video/mp4',\n",
       " 'mediaMetadata': {'creationTime': '2020-09-25T19:05:24Z',\n",
       "  'width': '640',\n",
       "  'height': '352',\n",
       "  'video': {'fps': 29.98127696913933, 'status': 'READY'}},\n",
       " 'filename': 'VID-20200924-WA0008.mp4'}"
      ]
     },
     "execution_count": 4,
     "metadata": {},
     "output_type": "execute_result"
    }
   ],
   "source": [
    "videos[\"mediaItems\"][0]"
   ]
  },
  {
   "cell_type": "code",
   "execution_count": 15,
   "id": "30746781-b16f-4f56-ae5e-38632d88ab7f",
   "metadata": {},
   "outputs": [
    {
     "name": "stdout",
     "output_type": "stream",
     "text": [
      "Page 1 - 8 videos\n"
     ]
    },
    {
     "data": {
      "text/html": [
       "<img src=\"https://lh3.googleusercontent.com/lr/ANt_8_auwqGWJ1Vd8TAr7ThD1uUcwJA_Qo8d-PlOHEDQF9TbKzy6b2dlDec7OUQ1RXysDi-2RFdy90jYYhG3mmbkGbPXLQyo7ZNupIEcIFNvq8VWL8js-tGvvF9x2-VX60QQShOzjVzs64M859wYZ_0dj-jJK272q3rReYV5ziI8dtIjnhXAgt6OHnunkj1FlaZ2hNfZ5u0rvMyB3YrDxZvEyK8waTXxqA7miYgt5K2iOhTEJoQ4pKdd15AaQmxLZ6O9WQ-xnCtX5xuH6ABLDzZimDTEiX9wzMGYJvu28PanPqmBoge3kEfmQjF9TRswkV18jpMAl4_pvE6d45Fa6RUx1xFpme-cF3Y-5Mz07Jlm6h_e2YGVgX4nhUuaZrlYnepgNie-rEXzo20hi_EpaZ7PxrBOmmtNeV9aOEo6awH9GAEO5VrOkDcag04sHi80QbMAMp6eRaMevb7WxOGs_7Xw9SlZwSMgTVmFKow9YWPUtiiwNEUEXPUKpWHHwDIJ1D12WttBTTESRIE7XdIc83BaA4YuGMEerTA7HQwEu7D1oqTC-ILC2Gz7cQNP1ZLhJHGwNX4rE_KD7kbyN8ukvAS5YeY00B4bn9eoX2x7ZmSeUsUCSae1QbRP9AYDt-DXrB8mirvfS-FyOCT3cxOMg7NcjKmY5LO1yx6Nb7xWg46iCDfc1S1WxdmVor27Bo3sq4YcOaogmFeCzTEabJJIpfouiMShmFaUrw2_iuXCrttLb0ERwKXk150mviq7j1YHXOQmvsWQZym1Ple_5dcwC-GGbOCE2T8uNITPr6FuayxBHshbfbxkyC-jpsd1UxX_clN__kCdeYYyXzCbhBpS0ciEIlDmsP9axi0nK6aa4MKyg1m5-5TD2XqhXDdLIzrjKIs4kGRgdPy6h3tIdt8HeS_6fBpOP4RtMEbV=w300-h300-no\"/>"
      ],
      "text/plain": [
       "<IPython.core.display.Image object>"
      ]
     },
     "metadata": {},
     "output_type": "display_data"
    },
    {
     "data": {
      "application/vnd.jupyter.widget-view+json": {
       "model_id": "41998edc621d4c29b3159e17b6d6718b",
       "version_major": 2,
       "version_minor": 0
      },
      "text/plain": [
       "Text(value='Este video es muy lindo', description='Title')"
      ]
     },
     "metadata": {},
     "output_type": "display_data"
    },
    {
     "data": {
      "application/vnd.jupyter.widget-view+json": {
       "model_id": "03ce31d299d3491593947458854d4233",
       "version_major": 2,
       "version_minor": 0
      },
      "text/plain": [
       "Textarea(value='\\n - Migrado de Google Photos con http://github.com/mgaitan/google-photos-to-youtube\\n - Fecha…"
      ]
     },
     "metadata": {},
     "output_type": "display_data"
    },
    {
     "data": {
      "application/vnd.jupyter.widget-view+json": {
       "model_id": "17d1dae58b6c4f65924a4204cc4a7fd2",
       "version_major": 2,
       "version_minor": 0
      },
      "text/plain": [
       "Text(value='google-photos-to-youtube, ', description='Tags', placeholder='from-google-photos')"
      ]
     },
     "metadata": {},
     "output_type": "display_data"
    },
    {
     "data": {
      "application/vnd.jupyter.widget-view+json": {
       "model_id": "efb4cb805ac04dc6b0d2da31953f0480",
       "version_major": 2,
       "version_minor": 0
      },
      "text/plain": [
       "Button(description='Upload to youtube!', style=ButtonStyle())"
      ]
     },
     "metadata": {},
     "output_type": "display_data"
    },
    {
     "data": {
      "application/vnd.jupyter.widget-view+json": {
       "model_id": "e464f7e97c804c9b8924575a66cb2961",
       "version_major": 2,
       "version_minor": 0
      },
      "text/plain": [
       "Output()"
      ]
     },
     "metadata": {},
     "output_type": "display_data"
    },
    {
     "data": {
      "text/html": [
       "<img src=\"https://lh3.googleusercontent.com/lr/ANt_8_Ya1uWXdmbUk3AX2NrEr7M1ObISmicsqnox3BmwJQ9UjHkt0uzXI96tt00NusLENnCdd355os43ZPQBOo2E1qDDq7LXQO-vOQKAYLn1Lik7GgARJvR5LC_OWxl1q-ynOInoibbJ269sasID99pdaRTqs_edDRBho1UB4RNW7BDHrDFTjjrF4-uJa3l5EkoTLkG6x82eqKKYBtqbKHQ3Nwcy--xvgQsTTmkKaoJOSxi1xz_0fF7xEirKksU4XLsIr2rv6iVOJGGQlMhq84-fauYWcZUAGC81_Ztx2tGig4QbmcFeTftKsIOfpagnMRgT3vqiv-LN-QBVua_WoWzd6VIOWDycBhVsOxlhS2I9Q_hicIjWfZ6Lwc5ViQHgzzdFJFOGc3RISTypIqLX_BxiZm92J3gC79AoPfysML_ZdsRY4hc9bXAeWHFyutYH9uD20YdNrIa5ghPIXfwy_oJ8_RkhRkvLNVUyo4Z1o3O92s0R3d74Nys7Oeyn6-SreyTFyrHpIvQgs2kz26h_uNPj4ZkGc9TNPtnBfcY5Qb31I4qab2lErthrC7uqr5q6T1kYGecvjKVoG-rK4fo8fS9KLw2IpJnJyp_7Btn-NE17WGpjVoNf0J1UEuUeskwVTvi6M1Tm8n25OssF9MN0Tm6JP6FNRfhME6CBWMa6jReG_fMCsiNaS7LccpQ1G7LaQ6OKtKsoQ6F2DPQtnOrrxXoQy1WNmXRf-kBJM0yFsBg77nndUd9o_IAkNElBeKY0VN4M7d-z8Mtip4xBoNh72qLZsOZh4Hbf-i9IxrvFLC-AfXjROBb5n_D0q4eA9GWlDnq5RFb78aDLkS0HVGcDnoiWYbSwWfNeBF3P3Ke6Bks__E03qukvlrHMs8GyWs_B3-FKs_Mmcvi7IdV0_pr4C_q-Ip7jBH5enFfg=w300-h300-no\"/>"
      ],
      "text/plain": [
       "<IPython.core.display.Image object>"
      ]
     },
     "metadata": {},
     "output_type": "display_data"
    },
    {
     "data": {
      "application/vnd.jupyter.widget-view+json": {
       "model_id": "94982b0be4c448f6aa09e13d24946e62",
       "version_major": 2,
       "version_minor": 0
      },
      "text/plain": [
       "Text(value='ACSOTbsLVVLAZ1kmOuqin43hFFevNfIM4PFBpq1JpwHHSKYKYnKhT4_aIFyVm-BcWIkVr62kcwU0TaoxjN7hiV1Lv_qbOB_8Qg…"
      ]
     },
     "metadata": {},
     "output_type": "display_data"
    },
    {
     "data": {
      "application/vnd.jupyter.widget-view+json": {
       "model_id": "a654556b63c1497e856be9d654068759",
       "version_major": 2,
       "version_minor": 0
      },
      "text/plain": [
       "Textarea(value='\\n - Migrado de Google Photos con http://github.com/mgaitan/google-photos-to-youtube\\n - Fecha…"
      ]
     },
     "metadata": {},
     "output_type": "display_data"
    },
    {
     "data": {
      "application/vnd.jupyter.widget-view+json": {
       "model_id": "d19eafa7ba104e5faa4adb3aadd1f2c9",
       "version_major": 2,
       "version_minor": 0
      },
      "text/plain": [
       "Text(value='google-photos-to-youtube, ', description='Tags', placeholder='from-google-photos')"
      ]
     },
     "metadata": {},
     "output_type": "display_data"
    },
    {
     "data": {
      "application/vnd.jupyter.widget-view+json": {
       "model_id": "62613f8a8db742d881d81592a89c9e1c",
       "version_major": 2,
       "version_minor": 0
      },
      "text/plain": [
       "Button(description='Upload to youtube!', style=ButtonStyle())"
      ]
     },
     "metadata": {},
     "output_type": "display_data"
    },
    {
     "data": {
      "application/vnd.jupyter.widget-view+json": {
       "model_id": "a560fdc3a58e43a59a93138643401886",
       "version_major": 2,
       "version_minor": 0
      },
      "text/plain": [
       "Output()"
      ]
     },
     "metadata": {},
     "output_type": "display_data"
    },
    {
     "data": {
      "text/html": [
       "<img src=\"https://lh3.googleusercontent.com/lr/ANt_8_ZAskz28Q-7zKDaCQrMnzOOPjNP_jG2_UHwmwBzgVH3OAzgDVW4pdmBNNIt-oNVuF4U7jNX14juC-kp521wkLtWfp0n2QG4A48rA6w_uyKji6TDkcZBbIJtypd9vqj4zjgwKkZ3nT5wKJzSnNgcopuhuxxmEkPffKCHVwYSQ58jTjkjjvZ5hgOvqyCgtBIccrfJFbbIKt1u0oaZbDQYxI4si2t9PACRrOGtr5wLMb2Z_gQdgnwF5yIKmnW2vwTViv-7HVyzMDibH4ZYl4ajLs3MhGESQyxVPGaEJhylKzCPx0M4KprvhuqO4X5limujMzsvKmIdcXSMcUF2wBtcjiKD3XmOL5sGqsSMrsWvwBAYkU8pdlF6mmdKZXzW_nTVS09aMhbXP3J6dJ1hZm8CR8RI7SpZQXmNDBgOthNDiJFzXEneARsxPuXfJ2xZty8zWNnyL19SX0zpWkcXWheHns5FHeH_YQF-SqwzKKzwqqTAAPFe1SwAJ1B3_efWLvBGnZDjv2QdIKXqLw5aVmiXEmRyFJ5510W4yD4EadHVHu5mK4tQze5mxQzjFvwEKQ99yVxDw0kSFFld2MBZQmbXVPf_EZVmCSPp1MTlLtkTwwcaNSWl9DUhHGor3fuWf4eVG8rrbOQnjLTblOmAhzmirGb3JDRZ5JZ0iBcEQ252LZMNihGOgftk0X9D_JiSfgLOwSvN8T8BnnlYoih63_DlWiW3HJ56DZIGL30U5NFIuZdyx0sUCOpkL-dckwmhXnRErvk-oLU0pxWjkQmvlPPRGuTUdCRrE50iiYg7HncNJkkwD7TBnzka33Q_sg-ijHcsuiTKbhjrU7IKrgu3baiCH7vGyV9S4SQl2kDeIrfTncoldMUcRR7xQ-g0gugxUldvvNc82ytuq7E4B9xYzEYLc3wliPkW41Yf=w300-h300-no\"/>"
      ],
      "text/plain": [
       "<IPython.core.display.Image object>"
      ]
     },
     "metadata": {},
     "output_type": "display_data"
    },
    {
     "data": {
      "application/vnd.jupyter.widget-view+json": {
       "model_id": "ffabc78d973146549964f12e0267d564",
       "version_major": 2,
       "version_minor": 0
      },
      "text/plain": [
       "Text(value='ACSOTbvooyhlm9DFa6cZik9mOm7RZXgcMJGDi3sLymaDiVbu4S-nL9cu11eL9hZH031xO0jyynOwSZEq1vI2r40db-GgrCgoPg…"
      ]
     },
     "metadata": {},
     "output_type": "display_data"
    },
    {
     "data": {
      "application/vnd.jupyter.widget-view+json": {
       "model_id": "c67f02f10fd347a5af5b94ac0d15dd45",
       "version_major": 2,
       "version_minor": 0
      },
      "text/plain": [
       "Textarea(value='\\n - Migrado de Google Photos con http://github.com/mgaitan/google-photos-to-youtube\\n - Fecha…"
      ]
     },
     "metadata": {},
     "output_type": "display_data"
    },
    {
     "data": {
      "application/vnd.jupyter.widget-view+json": {
       "model_id": "5494bcd6e7184127b4c90782eabc42c3",
       "version_major": 2,
       "version_minor": 0
      },
      "text/plain": [
       "Text(value='google-photos-to-youtube, ', description='Tags', placeholder='from-google-photos')"
      ]
     },
     "metadata": {},
     "output_type": "display_data"
    },
    {
     "data": {
      "application/vnd.jupyter.widget-view+json": {
       "model_id": "0f0afcba3df542b38b40b65664248784",
       "version_major": 2,
       "version_minor": 0
      },
      "text/plain": [
       "Button(description='Upload to youtube!', style=ButtonStyle())"
      ]
     },
     "metadata": {},
     "output_type": "display_data"
    },
    {
     "data": {
      "application/vnd.jupyter.widget-view+json": {
       "model_id": "db944b47112745e6a5ff07b45e865e3d",
       "version_major": 2,
       "version_minor": 0
      },
      "text/plain": [
       "Output()"
      ]
     },
     "metadata": {},
     "output_type": "display_data"
    },
    {
     "data": {
      "text/html": [
       "<img src=\"https://lh3.googleusercontent.com/lr/ANt_8_bk1Ut1LFhk2OmqIcBqNKLrj20GvwK5OjQGMiw5jtSqQC48KyZi3TVUzPneKakZX-qcX_NLp6OXIuHLBSGBOf10UfMpe90bMCJ5lVjwD1Grp6fmIXFuWyiG4mP_nDIMd2pLImOj5L_ToXWuISNhojL-vH9JKbGf_mgrjfH_h8gunXF3x4AxSLjhw5N_HYChxzrWFzENzDy0yhIjFsZXhPM8mIYcaaxROZ2AAonPz04y8eLQXzO1iLbigmncYoDHNlzfhy3zFXXx-EH4d2EEfoycyzxQkVdHj2ddsl2hrPARBfO9MZWdoVW4J6xJODX7oLhqpudhSSR3Ld6VEdrBnJNl6KMnmhJUkke5plabUkk6lmMzaBvUzJVMziTWTEtBf-xCXWxBeSFMAKC4s1PVAvHGkgJgeGufgjKc_DxBHmTFhg1AtJ1wyrULxvycxHygEOKF1Akl01eh3gPi6QeIjsnjs8TOB_NwQ6eXNrmdXapAwlyocfM7saypypNICGzxd-uwy92aCuQzpPzf897Qjgpjrn3VpcCHRSd5KaLFOq9FF82xLPAWJgou9nkQgP5MqkkwMIuupE7ah10lZB-VdGLTnt5jZFMU8GoyvZzfC1KFfVXR8NunJFrP02wDX0Tg30owCdTMiA4f7E71IV0XObRyumJMb_LJGTcnZSWLVKiM3L3Fb6IpIRuK9NzRE-HQHhL9hhJxJYTUO7M8O2UudJN4UTy8jkJCO3XZxk99jlwhosJByUDC1U_LDtOFdjoke5i2cPBA0POFAfC1fHlZjLhBNVwvIGnF515FlJf4AKJZS5Y--PENfkHptcw81Dblx2LxlSm-M-YnkfH1emD0_UouIYvW39ZngD2BaBMOsszr1xxDJQpN16Dx-8Kcgsu2KGOwIZSls6463uAs8HjJDxVTvBiW0FR4=w300-h300-no\"/>"
      ],
      "text/plain": [
       "<IPython.core.display.Image object>"
      ]
     },
     "metadata": {},
     "output_type": "display_data"
    },
    {
     "data": {
      "application/vnd.jupyter.widget-view+json": {
       "model_id": "fb54be7fd85849dc885a39b80bd05800",
       "version_major": 2,
       "version_minor": 0
      },
      "text/plain": [
       "Text(value='ACSOTbscBYc07fndiXf8gL7fWyahdjur8yTv_bMTkTQox89wT549lceaL3zysHz68bWEad_hPwI4TErFH3cdOXEEiXH6hMm-Gw…"
      ]
     },
     "metadata": {},
     "output_type": "display_data"
    },
    {
     "data": {
      "application/vnd.jupyter.widget-view+json": {
       "model_id": "0761ddc707c440c8986012560a151908",
       "version_major": 2,
       "version_minor": 0
      },
      "text/plain": [
       "Textarea(value='\\n - Migrado de Google Photos con http://github.com/mgaitan/google-photos-to-youtube\\n - Fecha…"
      ]
     },
     "metadata": {},
     "output_type": "display_data"
    },
    {
     "data": {
      "application/vnd.jupyter.widget-view+json": {
       "model_id": "f06200ca89a84b28961a10ad8545d25b",
       "version_major": 2,
       "version_minor": 0
      },
      "text/plain": [
       "Text(value='google-photos-to-youtube, ', description='Tags', placeholder='from-google-photos')"
      ]
     },
     "metadata": {},
     "output_type": "display_data"
    },
    {
     "data": {
      "application/vnd.jupyter.widget-view+json": {
       "model_id": "27454505191a413da582348c7b72501f",
       "version_major": 2,
       "version_minor": 0
      },
      "text/plain": [
       "Button(description='Upload to youtube!', style=ButtonStyle())"
      ]
     },
     "metadata": {},
     "output_type": "display_data"
    },
    {
     "data": {
      "application/vnd.jupyter.widget-view+json": {
       "model_id": "cc42f43a8ac340c58cebc4723974a562",
       "version_major": 2,
       "version_minor": 0
      },
      "text/plain": [
       "Output()"
      ]
     },
     "metadata": {},
     "output_type": "display_data"
    },
    {
     "data": {
      "text/html": [
       "<img src=\"https://lh3.googleusercontent.com/lr/ANt_8_YBrVgPpt5GPJzcisBS6-kmDvn4qezdnsLrpPvsMBcz4-hglhBN9ESvzdTV3odW9n2jDWScR5nvQstm_QFdwe8lft5EdLNlOMg3SpXHSkRkWYzUqM7jQ0jBA42GmQxS5nFQiZvaZiptBUq0xOVlTZ_tMbMw7Lp6Glk4TgzOwhPFblP3px09f-tjiCg0vVlNEHeSXLPqRXQ-alJxAiUtFJV9iyn0J40f9SOEeOwI1Acam3GUPUydXopkd6EmQ_nk7n9IhaksH9ECrDOkVWBBLMrufx_Q7-qSw3dFlxEeGYCj-6brzRioCpeJaSg2Ngueb6lWkmvaPC3qTHYRGgBJjvPKHkSNT0Hd74L9v-8sjzJQRa4dROcx2RzlAilI0Mo9GVjUH04OQZDtOr_gfgvI8WRwQAhmDBkoM4T7yXQ2vVPu7dfq_8O9UKHTY45ZsOUN9R5TeVF5St7PuFFNDFEtlsKtJ_o4B0zy0Iiof8mdkF6UHbKP_AIL_nb53bG-4QV1-qS-uYOkdWwiYO-U5TZrZ0yApFZ29D6sy4MNf_5GSPtv7RCxBvnP1b1SMNYketItcGELJGubw6Z_F6CeDoWnE9AzP__kqY-vIgV0WaUvc_bj3Ts8fooWP8gpqz7j6YXRWynJXMVAvBkFbmkaeFNXUlmljLrrZ8qLkraSPuM7Q0guNsoSWkTPzPcOQORCW_56rJ6x-Jb7se0xaQi5O26MacDAMnAgLwRSGgEY5noWS1EdVKaw5JK_4ocJJCk0uzXLAOeJyQLK1kNqVIYVu6I_uIgpRId6ucSXq4weu0xL6PRH51NOphNCI1wZmb6BM3oxXZGAcDlep0M0J8C95qdjr9V7bs4IpdS6O-6SZ7aQestSYhur_n1YPiyKjftts7A09SqrXQjEG26eCzGq1qIFc6JZubZsvtic=w300-h300-no\"/>"
      ],
      "text/plain": [
       "<IPython.core.display.Image object>"
      ]
     },
     "metadata": {},
     "output_type": "display_data"
    },
    {
     "data": {
      "application/vnd.jupyter.widget-view+json": {
       "model_id": "35a5d75f240444fd83d54ca52ea0b0cb",
       "version_major": 2,
       "version_minor": 0
      },
      "text/plain": [
       "Text(value='ACSOTbuzbJGXs4335VW0F68ST8zDNiOD4ge8aOq-MQuioq4Zjdl2jmwYU43rliDrpD9OvY8SQvGhjrJZgIFi7DNWhOstTVWbsg…"
      ]
     },
     "metadata": {},
     "output_type": "display_data"
    },
    {
     "data": {
      "application/vnd.jupyter.widget-view+json": {
       "model_id": "778e094eec3440d98650092887b20e7b",
       "version_major": 2,
       "version_minor": 0
      },
      "text/plain": [
       "Textarea(value='\\n - Migrado de Google Photos con http://github.com/mgaitan/google-photos-to-youtube\\n - Fecha…"
      ]
     },
     "metadata": {},
     "output_type": "display_data"
    },
    {
     "data": {
      "application/vnd.jupyter.widget-view+json": {
       "model_id": "61d2f90168384c7fb4e5a8317cd26bcf",
       "version_major": 2,
       "version_minor": 0
      },
      "text/plain": [
       "Text(value='google-photos-to-youtube, ', description='Tags', placeholder='from-google-photos')"
      ]
     },
     "metadata": {},
     "output_type": "display_data"
    },
    {
     "data": {
      "application/vnd.jupyter.widget-view+json": {
       "model_id": "d30e63e3e1dc409599072e32bb18d9d0",
       "version_major": 2,
       "version_minor": 0
      },
      "text/plain": [
       "Button(description='Upload to youtube!', style=ButtonStyle())"
      ]
     },
     "metadata": {},
     "output_type": "display_data"
    },
    {
     "data": {
      "application/vnd.jupyter.widget-view+json": {
       "model_id": "cfb60af052e5450b9fe0151790cf24e5",
       "version_major": 2,
       "version_minor": 0
      },
      "text/plain": [
       "Output()"
      ]
     },
     "metadata": {},
     "output_type": "display_data"
    },
    {
     "data": {
      "text/html": [
       "<img src=\"https://lh3.googleusercontent.com/lr/ANt_8_arpf3vsh4kc4J9izRMqck1lcrPipOmzZWtGVLZPaM5IREZmbFP4Yga-CCliVuDiz9zfBpHjfsWiQtpnLjsQBgb7zNWcPc_IASQ0NyC4t2v5EWqSTHM0obtIdCSzdlJxvmEVR1GSl55G3hgQvc2G0DEI72VaP-s534QJYmK3TpD1l-cYPie3NZBAuwH-b5KqM3c6MN9k8WP2p_k1VVvkcPYv6dTCMa5XpVRNsVuygKbRSBn23FcrQwA13lnej2tmqmGN6YNLLYE9rkR_tzoobP7qn-FxDg8KUi4XGtkz006jfzuSVt7aHDlDBVJgtnHikxOFHvSLJfj0NPwDx14Jfal98YG8DXrJkH6PgspSa_VKMKVTHwF72raZQpOlZy2mHZ2_OWtHqQjamn5HuVr8qKrwzlrH-K_yPoZc9WQCTicvqCrIsJBaAo2gfYWnN_4Teid7Cb7MGcaIeH02UuFUDzAHLePK4fXub7CEpPxpd9H9U9xnNpyCY8DynoGs-lKQOY-HUd0B3k_HUu1Xgtg2sOvcRnYscm2FfA0nsIkHub67CWGTgUwpHgNN0JbHAmc2C3uPI8dstgqbnetN0Y__PlrH47-Qmpg6cv4GiGDeSvDDFMdcjH7Zde9NAOgCRy31cOiH-5QdJVsTx-ItxN48ZRKPAVjmgv4wYciCTaeAMIWwuEn77ZkLc1fLkKzizDtxqDTqoeSEOAN0ZJn4J1dWNby-oMLzsUsfHp3G4pMUygP8L5GIhjJixG8t7Y4ccEu2TaaE3gCJYKJ45gRKzO6LBP3d3dShxPJAL52y7Xms0Jxz7NcI71XRF6xHeMZSANrF3XkzsKiURhlkGTgMv0wOBMw36ygi1yQ7QwNb_73pXRnKvkJMKSmUmIcplNG0cESnwcDCTri9pMltiMa8Uvu4qxPq9w8FW-O=w300-h300-no\"/>"
      ],
      "text/plain": [
       "<IPython.core.display.Image object>"
      ]
     },
     "metadata": {},
     "output_type": "display_data"
    },
    {
     "data": {
      "application/vnd.jupyter.widget-view+json": {
       "model_id": "6abc86079b98452f8807101caf35acd1",
       "version_major": 2,
       "version_minor": 0
      },
      "text/plain": [
       "Text(value='ACSOTbu_3EEGgZd3WwLtGVeY6IR-HF2kROjoGwQO4LVGdfX-9-RAf9HuKTUFkHoSWbPCNPQtCTa2EVyIZ_un6CxD2Fbb0z7T2g…"
      ]
     },
     "metadata": {},
     "output_type": "display_data"
    },
    {
     "data": {
      "application/vnd.jupyter.widget-view+json": {
       "model_id": "3510fb34782c4452a69a410cdc78ca76",
       "version_major": 2,
       "version_minor": 0
      },
      "text/plain": [
       "Textarea(value='\\n - Migrado de Google Photos con http://github.com/mgaitan/google-photos-to-youtube\\n - Fecha…"
      ]
     },
     "metadata": {},
     "output_type": "display_data"
    },
    {
     "data": {
      "application/vnd.jupyter.widget-view+json": {
       "model_id": "1850a72e3c264adea5a19e081972e4c0",
       "version_major": 2,
       "version_minor": 0
      },
      "text/plain": [
       "Text(value='google-photos-to-youtube, ', description='Tags', placeholder='from-google-photos')"
      ]
     },
     "metadata": {},
     "output_type": "display_data"
    },
    {
     "data": {
      "application/vnd.jupyter.widget-view+json": {
       "model_id": "3bb26a1f46864184a372272b07068c06",
       "version_major": 2,
       "version_minor": 0
      },
      "text/plain": [
       "Button(description='Upload to youtube!', style=ButtonStyle())"
      ]
     },
     "metadata": {},
     "output_type": "display_data"
    },
    {
     "data": {
      "application/vnd.jupyter.widget-view+json": {
       "model_id": "cb2de04c265147a989063ddf5d0e884f",
       "version_major": 2,
       "version_minor": 0
      },
      "text/plain": [
       "Output()"
      ]
     },
     "metadata": {},
     "output_type": "display_data"
    },
    {
     "data": {
      "text/html": [
       "<img src=\"https://lh3.googleusercontent.com/lr/ANt_8_b22Y98nAY7W652m0xYSolRs7lZz_aquj7UtqAtZTznVGJFjQg2b0Ut2G6sDA-FY1rhuvxnRvn-0HY-2AF-3bzVCUnrN5PVrkqyq490OA8V2ZwM_CzBoQqfPNM6_OU7IeTdlGfcn8VT8Ym6A6AYAbmxwO7Mts5NyDaEMwUDJg5LPQnBEmxjaINB3R_VgVtoa3cjcJWhoSV2BbRjp0a9Ffib5SzfU7V2Cso_Wafk5IXdT0tT_soGps36glmg7t2Qd4LVLNz8DeEGy8XI_Z8CZ4Y5rGTC4CuEOWouWRhtdVwv1DbYRcImAGPdFEJwRYZIzD2NbtMd_7TM3tR6-lMs3HQdfIUukaJOBYk5XHQUhVTnZ1omyN040WithqvYPDI3_P7im7zjBXb29ESaq3ptZ2KjZL1BioCb7kcGGl68a6BixXAkUUaURp4YbWO9sPFyNtBw38tXe3dSU27AWE7AOM0HytXfqThTvCR4W3H104pdOHjQg2E5HY_kF7jVrw4Qaly3ois8_b97MapnjgqLzs_O2ipb2LKCLf0479wXkRJJ4r0D4FijOHy249HQ93D1sZZ3HHxXWZLXi8YnuilrV9VG5tC2Da3hE1XLdUG15IqKTnAMRwXw8h9thkEh5KoXlAvzQJnPG0t4iPyATmj60o8UDJyx01aGGQmsWMtGeao0Nf1wH6EAPXqD3Se8AC8VmBF-vRv7mAOuR92RqeHov_aiR_6hiZUG50KFY0uAfoQ47QX-j6uLoeGXs6rcWrpCTkRvhZYBnJrb92PtvtNkbjFqJ-H4DaKOGHlP0Hs_izkuNclq3JkpZQ4LWWTvSgrt67VfLapDy8GT6QeJuALSdCSI6MPoAu2hsUotYy9zY2N46dj4Nz0Y5zt7LPwcIMJmrdrOTo6e0M8UOGrpn1CcShYsubDi4pwE=w300-h300-no\"/>"
      ],
      "text/plain": [
       "<IPython.core.display.Image object>"
      ]
     },
     "metadata": {},
     "output_type": "display_data"
    },
    {
     "data": {
      "application/vnd.jupyter.widget-view+json": {
       "model_id": "d1757c2168f44d9d9152577456cb628d",
       "version_major": 2,
       "version_minor": 0
      },
      "text/plain": [
       "Text(value='ACSOTbtHxByqM8VPPoYfLXJEJwJL3DspxogEW9t1n6sT48zLAP_1GnsFLFZlugeqkNYDrNPtOJ81b0GH6b2F-nNr7vXnZZwa0Q…"
      ]
     },
     "metadata": {},
     "output_type": "display_data"
    },
    {
     "data": {
      "application/vnd.jupyter.widget-view+json": {
       "model_id": "a6e5117f7f824ecca3f6a440db23c6b8",
       "version_major": 2,
       "version_minor": 0
      },
      "text/plain": [
       "Textarea(value='\\n - Migrado de Google Photos con http://github.com/mgaitan/google-photos-to-youtube\\n - Fecha…"
      ]
     },
     "metadata": {},
     "output_type": "display_data"
    },
    {
     "data": {
      "application/vnd.jupyter.widget-view+json": {
       "model_id": "a075152dbc6849f8801c947a247ebc5d",
       "version_major": 2,
       "version_minor": 0
      },
      "text/plain": [
       "Text(value='google-photos-to-youtube, ', description='Tags', placeholder='from-google-photos')"
      ]
     },
     "metadata": {},
     "output_type": "display_data"
    },
    {
     "data": {
      "application/vnd.jupyter.widget-view+json": {
       "model_id": "be0387e234e148f2af225eb2a9c2f935",
       "version_major": 2,
       "version_minor": 0
      },
      "text/plain": [
       "Button(description='Upload to youtube!', style=ButtonStyle())"
      ]
     },
     "metadata": {},
     "output_type": "display_data"
    },
    {
     "data": {
      "application/vnd.jupyter.widget-view+json": {
       "model_id": "482a631171f4487fa91b1af1b5ff827b",
       "version_major": 2,
       "version_minor": 0
      },
      "text/plain": [
       "Output()"
      ]
     },
     "metadata": {},
     "output_type": "display_data"
    },
    {
     "data": {
      "text/html": [
       "<img src=\"https://lh3.googleusercontent.com/lr/ANt_8_axzXKVz4GiF2rT0v0Rjh_TMS1ICnWp4j2KFhHm8qwUZyZIUtcmHlsi-JpRPVLyv9BDVtyHQlO78kXCUlSgKvB2ROfkb87FeR4eb5lfjSWIt2jpVhrgmVWWgAWg8r9LM3SLLFBrwg1tiW-93mIR9X7ChexnPd_CsYSe5aF6PnnKgSpoyFRkBRxzt0VoGiK3IH1S4pC3Png4N229wgDt3jGy4zvYVBPEDV6XW4eukP8OdMhvW2P_Frlz35OBkoJZvg5D9w5yNZ2tW68JkgjYmXL_Yc-NvBQyqFxcJtppdTlDA-IGlCHAMXmvG2qoR3UCwebujfoVo8NsASxw0ihJDK_91HmWXnaeDDJyhtFnrS0E2MHNLtR0GIGlUNSB1dwPaW00wzwzc6kxVt7aE7KabjSB_2xG_VOSffHq2szHx_WWXcxypmkciUkmmrsbz1IMbNmmT_rWn8D4ysPcKv-tPG9LipmOxqzBHCidoxy_xqUrPn_chTTmOCSt-mufW0TCcOiOlXgYmB7aZBaRmsAm55S3IZH8G3DELypWGBjDG0e4diCLKWrqY0Ft3rtO2G-NkrF3n6SmGFOLFO1R79_1eje4XnrKj8F6PsE_9J_f-_1gzdnefhym69C2sjyzm6b7VXEPux0AX6CP2QHh1ePlksh9w6QOt6FYY_KoBG_JI3MJ3Rk1vtyFiTKSpC_BfO6cE26DPIMZ7uiSDBKSw24Ae7cjIzkUkhxUoFejGQpWErVGG0YcvriqGiObOeivDKD-qPepGtfn71h4j6czHBiqDtdzLTG_0sP520Nc8WryGqOrkMDKXzzHLBVxp3er8--88lYzY8Xr1vZ1f8V95vCmNnICTazgb0pEsnyKtvquOpYdjQaLB_2GYmB8mFVx3jILdyAa5SjQk9pr6_IujsTKcG39yQqTUTh2=w300-h300-no\"/>"
      ],
      "text/plain": [
       "<IPython.core.display.Image object>"
      ]
     },
     "metadata": {},
     "output_type": "display_data"
    },
    {
     "data": {
      "application/vnd.jupyter.widget-view+json": {
       "model_id": "3d5c5353170d4ba6bfb4a1581eefe769",
       "version_major": 2,
       "version_minor": 0
      },
      "text/plain": [
       "Text(value='ACSOTbt3s9cOtq1SlTty_-Ps8aiiF8YK4ALYcnwX-nvPe0oKAqw3drzt8oMt6bLaE9l9KN4NQvu5EGi0-irI3FqAz8K_7I92Vw…"
      ]
     },
     "metadata": {},
     "output_type": "display_data"
    },
    {
     "data": {
      "application/vnd.jupyter.widget-view+json": {
       "model_id": "8e9d7e784d304d9e8fb636db58e98d1a",
       "version_major": 2,
       "version_minor": 0
      },
      "text/plain": [
       "Textarea(value='\\n - Migrado de Google Photos con http://github.com/mgaitan/google-photos-to-youtube\\n - Fecha…"
      ]
     },
     "metadata": {},
     "output_type": "display_data"
    },
    {
     "data": {
      "application/vnd.jupyter.widget-view+json": {
       "model_id": "56a6d238441243078f50957658561660",
       "version_major": 2,
       "version_minor": 0
      },
      "text/plain": [
       "Text(value='google-photos-to-youtube, ', description='Tags', placeholder='from-google-photos')"
      ]
     },
     "metadata": {},
     "output_type": "display_data"
    },
    {
     "data": {
      "application/vnd.jupyter.widget-view+json": {
       "model_id": "be52e769d48d40ec9b11557ee7f261a4",
       "version_major": 2,
       "version_minor": 0
      },
      "text/plain": [
       "Button(description='Upload to youtube!', style=ButtonStyle())"
      ]
     },
     "metadata": {},
     "output_type": "display_data"
    },
    {
     "data": {
      "application/vnd.jupyter.widget-view+json": {
       "model_id": "2c2956784a42477199d741656da77c77",
       "version_major": 2,
       "version_minor": 0
      },
      "text/plain": [
       "Output()"
      ]
     },
     "metadata": {},
     "output_type": "display_data"
    }
   ],
   "source": [
    "token = None\n",
    "for page in range(1, 2):\n",
    "    videos = get_videos(session, token=token)\n",
    "    print(f\"Page {page} ({len(videos['mediaItems'])} videos)\")\n",
    "    token = videos[\"nextPageToken\"]\n",
    "    for video in videos[\"mediaItems\"]:\n",
    "        title = widgets.Text(\n",
    "            value=video.get(\"description\", video.get(\"id\")),\n",
    "            description='Title',\n",
    "            disabled=False\n",
    "        )\n",
    "        description = widgets.Textarea(\n",
    "            value=\"\\n - \".join([\n",
    "                \"\",\n",
    "                \"Migrado de Google Photos con http://github.com/mgaitan/google-photos-to-youtube\",\n",
    "                f\"Fecha de subida original: {video['mediaMetadata']['creationTime']}\",\n",
    "                f\"Google photo ID:  {video['id']}\",\n",
    "                f\"Url original:  {video['productUrl']}\"\n",
    "            ]),\n",
    "            description='Description',\n",
    "            disabled=False\n",
    "        )\n",
    "        tags = widgets.Text(\n",
    "            value='google-photos-to-youtube, ',\n",
    "            placeholder='from-google-photos',\n",
    "            description='Tags',\n",
    "            disabled=False\n",
    "        )\n",
    "        output = widgets.Output()\n",
    "        button = widgets.Button(description=\"Upload to youtube!\")\n",
    "\n",
    "        thumb = Image(url=video['baseUrl'] + \"=w300-h300-no\")\n",
    "        display(thumb, title, description, tags, button, output)\n",
    "\n",
    "        def on_button_clicked(b):\n",
    "            with output:\n",
    "                stream = session.get(f\"{video['baseUrl']}=dv\", stream=True)\n",
    "                response = upload_stream(\n",
    "                    youtube, stream, title=title.value, description=description.value, tags=[t.strip() for t in tags.value.split(\",\")]\n",
    "                )\n",
    "                print(response)\n",
    "\n",
    "        button.on_click(on_button_clicked)"
   ]
  },
  {
   "cell_type": "code",
   "execution_count": null,
   "id": "9cbfdf25-2676-4d1e-9af8-edb34153d061",
   "metadata": {},
   "outputs": [],
   "source": []
  },
  {
   "cell_type": "code",
   "execution_count": 16,
   "id": "99ef37b0-e77a-4aa0-952b-be7111507177",
   "metadata": {},
   "outputs": [],
   "source": [
    "from IPython import display"
   ]
  },
  {
   "cell_type": "code",
   "execution_count": null,
   "id": "b192273a-5b5d-4959-830f-26ef1f2cb634",
   "metadata": {},
   "outputs": [],
   "source": [
    "display.display_markdown"
   ]
  }
 ],
 "metadata": {
  "kernelspec": {
   "display_name": "Python 3 (ipykernel)",
   "language": "python",
   "name": "python3"
  },
  "language_info": {
   "codemirror_mode": {
    "name": "ipython",
    "version": 3
   },
   "file_extension": ".py",
   "mimetype": "text/x-python",
   "name": "python",
   "nbconvert_exporter": "python",
   "pygments_lexer": "ipython3",
   "version": "3.10.6"
  }
 },
 "nbformat": 4,
 "nbformat_minor": 5
}
