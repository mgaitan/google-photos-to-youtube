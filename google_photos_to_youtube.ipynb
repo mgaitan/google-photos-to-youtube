{
 "cells": [
  {
   "cell_type": "markdown",
   "id": "5a7d553b-c3c1-430d-84b5-1f5f73f8b51d",
   "metadata": {},
   "source": [
    "# Migrate videos from Google Photos to Youtube\n",
    "\n",
    "This notebook helps you migrate your videos from Google Photos to YouTube using the modernized OAuth flow (no more deprecated OOB method!)."
   ]
  },
  {
   "cell_type": "markdown",
   "id": "54259dcf-cd49-4657-a0c8-f261fad49e4f",
   "metadata": {},
   "source": [
    "## Import the code"
   ]
  },
  {
   "cell_type": "code",
   "execution_count": null,
   "id": "ebc3f5e4-9c88-4b70-8ae9-429341a2bbfa",
   "metadata": {},
   "outputs": [],
   "source": [
    "!git clone --depth=1 https://github.com/mgaitan/google-photos-to-youtube.git src\n",
    "%cd src\n",
    "!pip install -r requirements.txt"
   ]
  },
  {
   "cell_type": "code",
   "execution_count": null,
   "id": "1742a439-09ed-4cf9-9644-2d66284873b9",
   "metadata": {},
   "outputs": [],
   "source": [
    "from google_photos_to_youtube import *"
   ]
  },
  {
   "cell_type": "markdown",
   "id": "oauth-test-section",
   "metadata": {},
   "source": [
    "## Test OAuth URL Parsing (Optional)\n",
    "\n",
    "If you want to test the URL parsing functionality with a sample URL, run this cell:"
   ]
  },
  {
   "cell_type": "code",
   "execution_count": null,
   "id": "oauth-test-cell",
   "metadata": {},
   "outputs": [],
   "source": [
    "# Test the OAuth URL parsing with a sample URL\n",
    "test_url_parsing()"
   ]
  },
  {
   "cell_type": "markdown",
   "id": "9e3e7010-1d99-4c68-b2d0-5e7206f16c14",
   "metadata": {},
   "source": [
    "## Setup your app\n",
    "\n",
    "The following function will ask for the CLIENT_ID and CLIENT_SECRET of your Google App. \n",
    "\n",
    "**IMPORTANT:** Before running this, make sure you've configured the OAuth redirect URIs in your Google Cloud Console:\n",
    "- `http://localhost:8080`\n",
    "- `http://127.0.0.1:8080`\n",
    "- `http://localhost:8081`\n",
    "- `http://localhost:8082`\n",
    "\n",
    "Check [README](README.md)'s Setup section for detailed instructions."
   ]
  },
  {
   "cell_type": "code",
   "execution_count": null,
   "id": "02db8b48-e7a8-48e3-86bf-2a4bd2eb2448",
   "metadata": {},
   "outputs": [],
   "source": [
    "create_client_id()"
   ]
  },
  {
   "cell_type": "markdown",
   "id": "9445479b-f1cb-4b35-84cf-447d9deeda43",
   "metadata": {},
   "source": [
    "## Login \n",
    "\n",
    "Login to the source account (Google Photos) and the target account (YouTube). They can be the same account. Both accounts should be listed in the [consent](https://console.cloud.google.com/apis/credentials/consent) page.\n",
    "\n",
    "**For Colab users:** The OAuth process will open a browser window. After authorization, you'll be redirected to a localhost URL that won't load. Simply copy the complete URL and paste it when prompted."
   ]
  },
  {
   "cell_type": "code",
   "execution_count": null,
   "id": "d3068fbb-5e82-4ce8-9252-cd4afcfa27a3",
   "metadata": {},
   "outputs": [],
   "source": [
    "session, youtube = login(\"photos\"), login(\"youtube\")"
   ]
  },
  {
   "cell_type": "markdown",
   "id": "14e4e0f1-b981-47aa-b41d-dd9e59c7ff5d",
   "metadata": {},
   "source": [
    "## List already migrated videos"
   ]
  },
  {
   "cell_type": "code",
   "execution_count": null,
   "id": "78f80c9f-78a6-43f3-affa-5e678fffc337",
   "metadata": {},
   "outputs": [],
   "source": [
    "DB(session)"
   ]
  },
  {
   "cell_type": "markdown",
   "id": "2311f9d7-a965-4b33-8b77-74a8b4ebc7b1",
   "metadata": {
    "tags": []
   },
   "source": [
    "## Start migrating videos\n",
    "\n",
    "Search your account and list the first page of available videos. You can watch the video by clicking in the thumbnail. "
   ]
  },
  {
   "cell_type": "code",
   "execution_count": null,
   "id": "c7dd94c7-05fa-46ac-b009-4407724c72fc",
   "metadata": {},
   "outputs": [],
   "source": [
    "load_page(session, youtube)"
   ]
  }
 ],
 "metadata": {
  "kernelspec": {
   "display_name": "Python 3 (ipykernel)",
   "language": "python",
   "name": "python3"
  },
  "language_info": {
   "codemirror_mode": {
    "name": "ipython",
    "version": 3
   },
   "file_extension": ".py",
   "mimetype": "text/x-python",
   "name": "python",
   "nbconvert_exporter": "python",
   "pygments_lexer": "ipython3",
   "version": "3.10.6"
  }
 },
 "nbformat": 4,
 "nbformat_minor": 5
}
