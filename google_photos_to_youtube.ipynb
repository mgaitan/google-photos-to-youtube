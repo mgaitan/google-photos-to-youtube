{
 "cells": [
  {
   "cell_type": "code",
   "execution_count": null,
   "id": "ebc3f5e4-9c88-4b70-8ae9-429341a2bbfa",
   "metadata": {},
   "outputs": [],
   "source": [
    "!wget https://raw.githubusercontent.com/mgaitan/google-photos-to-youtube/main/google_photos_to_youtube.py\n",
    "!pip install -r https://raw.githubusercontent.com/mgaitan/google-photos-to-youtube/main/requirements.txt"
   ]
  },
  {
   "cell_type": "code",
   "execution_count": 1,
   "id": "9a677990-e76a-484c-bda1-920129ef2c56",
   "metadata": {},
   "outputs": [],
   "source": [
    "from google_photos_to_youtube import *"
   ]
  },
  {
   "cell_type": "markdown",
   "id": "9445479b-f1cb-4b35-84cf-447d9deeda43",
   "metadata": {},
   "source": [
    "# Login \n",
    "\n",
    "Login to the source account (Google Photos)"
   ]
  },
  {
   "cell_type": "code",
   "execution_count": 2,
   "id": "d3068fbb-5e82-4ce8-9252-cd4afcfa27a3",
   "metadata": {},
   "outputs": [
    {
     "name": "stdout",
     "output_type": "stream",
     "text": [
      "Please go to this URL: https://accounts.google.com/o/oauth2/auth?response_type=code&client_id=659865493965-igmm43ccgdqep2j1u0hcfcj4kn63tiss.apps.googleusercontent.com&redirect_uri=urn%3Aietf%3Awg%3Aoauth%3A2.0%3Aoob&scope=https%3A%2F%2Fwww.googleapis.com%2Fauth%2Fphotoslibrary+https%3A%2F%2Fwww.googleapis.com%2Fauth%2Fphotoslibrary.sharing&state=O3BkR4TwJcoHcYb2d1epqAH4dTS2LV&prompt=consent&access_type=offline\n"
     ]
    },
    {
     "name": "stdin",
     "output_type": "stream",
     "text": [
      "Enter the authorization code:  4/1AWgavde70MZj_R51NPj7XKLFFhtomgIJuRtOF8ou1dO7q8_1k2RU8L4MF2Y\n"
     ]
    },
    {
     "name": "stdout",
     "output_type": "stream",
     "text": [
      "Please go to this URL: https://accounts.google.com/o/oauth2/auth?response_type=code&client_id=659865493965-igmm43ccgdqep2j1u0hcfcj4kn63tiss.apps.googleusercontent.com&redirect_uri=urn%3Aietf%3Awg%3Aoauth%3A2.0%3Aoob&scope=https%3A%2F%2Fwww.googleapis.com%2Fauth%2Fyoutube.upload&state=DkqdbMg52fGD86X791hbEimUZRjVaz&prompt=consent&access_type=offline\n"
     ]
    },
    {
     "name": "stdin",
     "output_type": "stream",
     "text": [
      "Enter the authorization code:  4/1AWgavddxfrnMVfwZ4F8-RvfZfeFxh4WaW5AkFRpFphkQJdMc_rcBnEnsF6Q\n"
     ]
    }
   ],
   "source": [
    "session, youtube = login(\"photos\"), login(\"youtube\")"
   ]
  },
  {
   "cell_type": "markdown",
   "id": "2311f9d7-a965-4b33-8b77-74a8b4ebc7b1",
   "metadata": {
    "tags": []
   },
   "source": [
    "### Preview and click to upload\n",
    "\n",
    "\n"
   ]
  },
  {
   "cell_type": "code",
   "execution_count": 16,
   "id": "f85210a2-4b1f-4ea7-aed4-6dce64bb0454",
   "metadata": {},
   "outputs": [
    {
     "name": "stdout",
     "output_type": "stream",
     "text": [
      "Getting 8 videos\n"
     ]
    },
    {
     "data": {
      "text/markdown": [
       "[![](https://lh3.googleusercontent.com/lr/ANt_8_ZtKtGClnkfLvBgzIngjHNOjT0lBEQcFI6QRLD8wRgS7z9MHolTEUvB3r8NIb8IHvlzhOWqxL51Nl4FP-NpKkGgA8vVjTVxlL2f-z1VApJY-AK2fiTv94ofllBwECht7N9Car1beqO2zQ0x4rx4FZ6biXhH-EG5Y3gEvOyJRLG1vrCEkjNE8L0ZCxeaRZWI4VkqPRrSyTKH20XS9meLfNlm8waQt57kKcoK9OdZVtQM0GDZ6fuMcvxVl6eS242wgAksDf-J2SthChACc9BgWdkWDNJj59KYhcmhTHvtwMm6lerZPgInwr3w7-zrIoWcYojWl3JPLYJQXyCibG4JE5QzUs6DjhInVgjQrgd6jgi3ChtL7yXXP_oL7VVJUQw4W_J_Nk_5acryNqUtTTW_IFLEkmSWkGBMBAJ1uPXMQGb_zY3MgWN-NksbE_onMNls8qtsRBTrtZW_PWuPApM4y3gjgOXdVaSGfx2DvHf_jCwU8mmL7rUeNv1Iw15QTXX7bLp2_hZWxmdtxmMtBlfwjM_o8U8sC9MSlDxX6ionYi12Drg7VxXYLhSc89ceuqouaPvkpuJlGC_fLbKPq-wGWbQw2Uv0RrbEXq4RTpGWoo4PTZVXwYyy3vDbpyLs-hxcd4Sp08pwb6qtZ27m8B0LMC-v7pX82GjnZqTciEiyQrwQh02QbgDISFP1ibw99frCfhgp3nxur7Gw4J8K0bUWG7nM8DXvqrvHuR855UYYKUsuGmp7UgnAKUwO6tD70deY0k5jjCfYekpSj7XlPbswiHCeC6G4FosMHpZZqE9TBh-Yic_txKSe9DguPCOqPXEc0WhbwbOagK2L0EGn1tp0r56VIAfWI7IaInyOsyj7kXNVORd8ljnB6UpnAkk5t5wZ3HNQP7TKNCLqHa8uAlgxHA-tqPhAmifY=w300-h300-no)](https://photos.google.com/lr/photo/ACSOTbspc6amgAqxywaWpMnicBvhbMZlUrzB1V01iIqJ_4E2R7Wc0GB7eCTZuUPjMcJQ4iG7lfJtX8eSpu2WVBsRzogg89vOtA)"
      ],
      "text/plain": [
       "<IPython.core.display.Markdown object>"
      ]
     },
     "metadata": {},
     "output_type": "display_data"
    },
    {
     "data": {
      "application/vnd.jupyter.widget-view+json": {
       "model_id": "7dfae920f7a34bd3b3b5088cfea3b0e5",
       "version_major": 2,
       "version_minor": 0
      },
      "text/plain": [
       "Text(value='Este video es muy lindo', description='Title')"
      ]
     },
     "metadata": {},
     "output_type": "display_data"
    },
    {
     "data": {
      "application/vnd.jupyter.widget-view+json": {
       "model_id": "954e6870a6114e4aa7d9b724e5efa067",
       "version_major": 2,
       "version_minor": 0
      },
      "text/plain": [
       "Textarea(value='\\n - Migrado de Google Photos con http://github.com/mgaitan/google-photos-to-youtube\\n - Fecha…"
      ]
     },
     "metadata": {},
     "output_type": "display_data"
    },
    {
     "data": {
      "application/vnd.jupyter.widget-view+json": {
       "model_id": "db4e138c6b26491ea3b8fb79648bd75e",
       "version_major": 2,
       "version_minor": 0
      },
      "text/plain": [
       "Text(value='google-photos-to-youtube, ', description='Tags', placeholder='from-google-photos')"
      ]
     },
     "metadata": {},
     "output_type": "display_data"
    },
    {
     "data": {
      "application/vnd.jupyter.widget-view+json": {
       "model_id": "84ef9188f8d34e58b5f01d23ff385155",
       "version_major": 2,
       "version_minor": 0
      },
      "text/plain": [
       "Button(description='Upload to youtube!', style=ButtonStyle())"
      ]
     },
     "metadata": {},
     "output_type": "display_data"
    },
    {
     "data": {
      "application/vnd.jupyter.widget-view+json": {
       "model_id": "11a46e87e9ac49ef91a78d5aec9d697c",
       "version_major": 2,
       "version_minor": 0
      },
      "text/plain": [
       "Output()"
      ]
     },
     "metadata": {},
     "output_type": "display_data"
    },
    {
     "data": {
      "text/markdown": [
       "[![](https://lh3.googleusercontent.com/lr/ANt_8_aRxFFhZEIApF0dyDO1DnsjBm86rBnHjb2JxDN9SNtCB78VKkVQMtP2fx4dhnv267hNRGDw4yU8ynN8Lc8mq8z-rz9dhYMrLydGpabzSaInoBf1OqaNfhR4hOUL7Ic02KS7bNBg3m0ulCZL8_LrlHej6ValymyHDHUX7r-Q57Th56pvd-KaUkowxOmx23GHiBeVS8alPLmaIlY3QYQ30wbEUucAPlj0s1VWuov9LesGY5N7L0s1kxg3uAuZ-b6qzVdROHBceeuUMlya6xIeR67ujcBDS5wIWEepvesK5lHD-nvAubQCGtLmAfEgfrOuz5GdEUkw7CxquPvC_u1h6SnrFYhcpnke5i3ivLXLqZvDsl3gP93lLjxy2FjXH1_M3txM5UFselSNpAx0sZIcsOkNbqfWXLojgL71DOSkRWoC6uGTf8GORy0hlz2lfXBVK_Uvo9YUyJ927K-1fGVv_N3G3Q2ro9TIS3kYRPS8KSItJXwEUA_qjIfP74KNWEUoGMuqbunZek0X_Pvvhm8PsD6EBMPxBp5GI7QlzabcTupkRchUzx6Fc_dbEHrDMIF4cx64fahGn0jOfx96w-Z2T4Ia4o7g1JxuekU6GNy5KEOCuyRAw7byIdQYr4BgUXMO9stJrfMS2aolJdXWY7XTL-gOya_ALbZRNaaBoF-BU2sqbiETaiY5FFLkpp9Z5LFfHIY1ZzBe2luuQGE0k7UwAXZPAXvuXLZktdCNg0AvNzzBhoP__PGJ3lWVrFFutlzRDpfsHTkUOiFj3ELnD8bi0g59o7yELy0xhofpylCk1wqydJhWHjtzHDIUFIgEddNop-RTf8gIISffEIoKBnCZnyrckI4y4XCVcwcuWnbPMPZhbCbHfnj5o5orD83EkD9fHc86N-QfnLKeACW0GFLuUs1lpQUcaH_v=w300-h300-no)](https://photos.google.com/lr/photo/ACSOTbsLVVLAZ1kmOuqin43hFFevNfIM4PFBpq1JpwHHSKYKYnKhT4_aIFyVm-BcWIkVr62kcwU0TaoxjN7hiV1Lv_qbOB_8Qg)"
      ],
      "text/plain": [
       "<IPython.core.display.Markdown object>"
      ]
     },
     "metadata": {},
     "output_type": "display_data"
    },
    {
     "data": {
      "application/vnd.jupyter.widget-view+json": {
       "model_id": "d98fa2d91a92498b9efb1446424429d9",
       "version_major": 2,
       "version_minor": 0
      },
      "text/plain": [
       "Text(value='ACSOTbsLVVLAZ1kmOuqin43hFFevNfIM4PFBpq1JpwHHSKYKYnKhT4_aIFyVm-BcWIkVr62kcwU0TaoxjN7hiV1Lv_qbOB_8Qg…"
      ]
     },
     "metadata": {},
     "output_type": "display_data"
    },
    {
     "data": {
      "application/vnd.jupyter.widget-view+json": {
       "model_id": "ded0c8e3b7784897b83af4d683775396",
       "version_major": 2,
       "version_minor": 0
      },
      "text/plain": [
       "Textarea(value='\\n - Migrado de Google Photos con http://github.com/mgaitan/google-photos-to-youtube\\n - Fecha…"
      ]
     },
     "metadata": {},
     "output_type": "display_data"
    },
    {
     "data": {
      "application/vnd.jupyter.widget-view+json": {
       "model_id": "0d0599235aca4bd5a74f21df4fbc6b69",
       "version_major": 2,
       "version_minor": 0
      },
      "text/plain": [
       "Text(value='google-photos-to-youtube, ', description='Tags', placeholder='from-google-photos')"
      ]
     },
     "metadata": {},
     "output_type": "display_data"
    },
    {
     "data": {
      "application/vnd.jupyter.widget-view+json": {
       "model_id": "25a5bf14723f4e8387af1e37122f4bac",
       "version_major": 2,
       "version_minor": 0
      },
      "text/plain": [
       "Button(description='Upload to youtube!', style=ButtonStyle())"
      ]
     },
     "metadata": {},
     "output_type": "display_data"
    },
    {
     "data": {
      "application/vnd.jupyter.widget-view+json": {
       "model_id": "c41ed34407a04cd89ddff6829804195a",
       "version_major": 2,
       "version_minor": 0
      },
      "text/plain": [
       "Output()"
      ]
     },
     "metadata": {},
     "output_type": "display_data"
    },
    {
     "data": {
      "text/markdown": [
       "[![](https://lh3.googleusercontent.com/lr/ANt_8_b_dVFqAVfYFmK612j9eEh3giOXV8yI5jheIPU_cxB9wwb14gUONdsZDaAgY1aV_UCser38oOlgUBeVToYB1CB2jMOIuY4o1hjrG8JbWX91jxkZNUasxuz8SQ7CaxEGs4dgH-8IVrdMWhk8IxYZJzTlx3E2fn6JbUtSoBPc64Uq2rG6nKt37ulfa62QjzLhrawNsglspLy8SKBziAWep08Dwffad80qEVlhtlLhp-Vejpke6DWasZwwMyqqAaQqSzPSkqgz5rotR5jeycjt-nY9NmJZurhAccj-J3hwMGZcES8-n4dnOvdi-gfW649V2LS9G9OjMmjmBqJ5fQDTKLRfoUrhGzoBJpYPP0ann3mUIvGkTPPLu-6Y7-zZy3FppnvNLhb-5QTU4KBK4rCHBjMEg52IVekgayXGBCqCJx-wu8l32I_8-EAqOebR3GF40leBFbGO-g9T0Q6n-8ksFa3RpGlyYpXOjMBq9FdlIvn8fg9IMfHi4ybD8pjcGm_TiTeb29PhO4Q-ceMv01g9Hmuoc0N_T2oIPbOk6S5SNWmJoZ5HwnHAo3Rh7k3JqtSW6pIYvT5O-KA5LE_mUlePEHYgKPTRG2sLYw5AEPEECA3a9-CQpGLVOcmEn44tWilKwZ9NstSpqBQ4jWMXxGwgdLHNzLVavei3WRwfHlIjeWx3VKVf2pS5EiAskzfBhxLihsOlByRPyKdZcykhTZlUpeHEGSE8A8nhS3DAFlegdvZ553nCHS13yqyB2bWGwmSaDI_ZQSheiv2Fx8wvYL6EQJDn9K1H0i_AyH6njmoPMeqTLzSEUAvfrzTXkxWQs1gDYqWnKiAZwhKQMhYkrNSUuR45uY8FMHrBD53cySG4ImZyA7mt9R2HRMpGV64F7Pg2Okntugh_fR_rb5AVVR30x5LSh5OJKlpD=w300-h300-no)](https://photos.google.com/lr/photo/ACSOTbvooyhlm9DFa6cZik9mOm7RZXgcMJGDi3sLymaDiVbu4S-nL9cu11eL9hZH031xO0jyynOwSZEq1vI2r40db-GgrCgoPg)"
      ],
      "text/plain": [
       "<IPython.core.display.Markdown object>"
      ]
     },
     "metadata": {},
     "output_type": "display_data"
    },
    {
     "data": {
      "application/vnd.jupyter.widget-view+json": {
       "model_id": "f8dfd1c2eafb4d6684b28d8c306ca344",
       "version_major": 2,
       "version_minor": 0
      },
      "text/plain": [
       "Text(value='ACSOTbvooyhlm9DFa6cZik9mOm7RZXgcMJGDi3sLymaDiVbu4S-nL9cu11eL9hZH031xO0jyynOwSZEq1vI2r40db-GgrCgoPg…"
      ]
     },
     "metadata": {},
     "output_type": "display_data"
    },
    {
     "data": {
      "application/vnd.jupyter.widget-view+json": {
       "model_id": "89b41d76a9cb41d085cd86357c4a7d4d",
       "version_major": 2,
       "version_minor": 0
      },
      "text/plain": [
       "Textarea(value='\\n - Migrado de Google Photos con http://github.com/mgaitan/google-photos-to-youtube\\n - Fecha…"
      ]
     },
     "metadata": {},
     "output_type": "display_data"
    },
    {
     "data": {
      "application/vnd.jupyter.widget-view+json": {
       "model_id": "d3a64d8fbd8c4e8098443a03a3e67cf8",
       "version_major": 2,
       "version_minor": 0
      },
      "text/plain": [
       "Text(value='google-photos-to-youtube, ', description='Tags', placeholder='from-google-photos')"
      ]
     },
     "metadata": {},
     "output_type": "display_data"
    },
    {
     "data": {
      "application/vnd.jupyter.widget-view+json": {
       "model_id": "3302c51aa27a469a80431eb8262f2839",
       "version_major": 2,
       "version_minor": 0
      },
      "text/plain": [
       "Button(description='Upload to youtube!', style=ButtonStyle())"
      ]
     },
     "metadata": {},
     "output_type": "display_data"
    },
    {
     "data": {
      "application/vnd.jupyter.widget-view+json": {
       "model_id": "49e449db10d04e86ad408c2005e1b397",
       "version_major": 2,
       "version_minor": 0
      },
      "text/plain": [
       "Output()"
      ]
     },
     "metadata": {},
     "output_type": "display_data"
    },
    {
     "data": {
      "text/markdown": [
       "[![](https://lh3.googleusercontent.com/lr/ANt_8_aiY5rVGJnyvv4GG0javTml8ZHnWaCNaqcPNSX-ITeluyR_5uXFoUKwoRQ7MKfoEMexFgs9TBcJepzjksAFfVF3QW9-InkoVEB4tfoq-mmhkwb_YHqOmQtJdLMTdlDWwhzWlPzvkKBfcAW-GAmbEFZ2UFpOnkJHlNSc5IZgVV1AZzD09-cI1jamyX-aDUFywe6Q1JFDdYGl5noLEHjQ1RFv7ZmhsPxu37Uts3LiK_Vo7Kfqe8b3GQcImvfNdrUXGpHs8DAw1mCLvgHPBNqog-bIoiD3hbg5AwyFv5SUpJltbLTjGoh_zCeQciqRa1eOvCD0IDcftEc2v48KVOr0XCs6aa75d4dSIBaHV9l03M5ZQ8vL2YVmy074ERsMkPuMScqkmAjohglN2MhpiYdQ8QI4ecKmn990UdXMS9BtW4hVH8hnReW_CJApaYoXd2fSR9AUHWyJYXwp8ng0m3oN2r_Tg3ux24HYXedrAJowpIuBR_d5VC_8VE6ikP5oG9HPmPJiLVKc9a9YD4Ut97w-uxBk4xt2ONHy9OSuRYb8NY8R64iYCbWgH4oYzV78WYOfLile2VQf6QRcja9Z9LAUXRm-GlYQl6qnmEeXA7xzeQo8jokvrCBO0cs3psT_6V0XgNcawsoObRdTxZHFFcbvQnDT401dNKw-y8sj_yBSNHBpZHUt56yVZ5t6RQRQ_v4BpHreNtew74ibsVXx1snO8eH_xJUv8ge8rzl4xuABIdXgzJ2Pr9OlA-JhDqC5AcuT4lPAqKzWVOoFPLnl2PeG9bQBekBCRu60gFK5xjUnVFfw4OzY7TqGDuuyHy64fJ6agCuiFyA7yyVnneR6En7gnRQmCdS3ocaTAibRmGKADK-vtIKvD7AMIkKk9bjwDLfFm0H_6gZiCtdAtze6AJDSzEv5qMnP4vHF=w300-h300-no)](https://photos.google.com/lr/photo/ACSOTbscBYc07fndiXf8gL7fWyahdjur8yTv_bMTkTQox89wT549lceaL3zysHz68bWEad_hPwI4TErFH3cdOXEEiXH6hMm-Gw)"
      ],
      "text/plain": [
       "<IPython.core.display.Markdown object>"
      ]
     },
     "metadata": {},
     "output_type": "display_data"
    },
    {
     "data": {
      "application/vnd.jupyter.widget-view+json": {
       "model_id": "ecd619b774cb4c86a373c41a6d6d096a",
       "version_major": 2,
       "version_minor": 0
      },
      "text/plain": [
       "Text(value='ACSOTbscBYc07fndiXf8gL7fWyahdjur8yTv_bMTkTQox89wT549lceaL3zysHz68bWEad_hPwI4TErFH3cdOXEEiXH6hMm-Gw…"
      ]
     },
     "metadata": {},
     "output_type": "display_data"
    },
    {
     "data": {
      "application/vnd.jupyter.widget-view+json": {
       "model_id": "3d6940c87225469e83c8b3987e834d49",
       "version_major": 2,
       "version_minor": 0
      },
      "text/plain": [
       "Textarea(value='\\n - Migrado de Google Photos con http://github.com/mgaitan/google-photos-to-youtube\\n - Fecha…"
      ]
     },
     "metadata": {},
     "output_type": "display_data"
    },
    {
     "data": {
      "application/vnd.jupyter.widget-view+json": {
       "model_id": "7a634f7c053c410284a8db205a966b43",
       "version_major": 2,
       "version_minor": 0
      },
      "text/plain": [
       "Text(value='google-photos-to-youtube, ', description='Tags', placeholder='from-google-photos')"
      ]
     },
     "metadata": {},
     "output_type": "display_data"
    },
    {
     "data": {
      "application/vnd.jupyter.widget-view+json": {
       "model_id": "acf90a2050fd4d01acc39104fe532dbb",
       "version_major": 2,
       "version_minor": 0
      },
      "text/plain": [
       "Button(description='Upload to youtube!', style=ButtonStyle())"
      ]
     },
     "metadata": {},
     "output_type": "display_data"
    },
    {
     "data": {
      "application/vnd.jupyter.widget-view+json": {
       "model_id": "f0c346a715a4421f85b1f9d11488c60c",
       "version_major": 2,
       "version_minor": 0
      },
      "text/plain": [
       "Output()"
      ]
     },
     "metadata": {},
     "output_type": "display_data"
    },
    {
     "data": {
      "text/markdown": [
       "[![](https://lh3.googleusercontent.com/lr/ANt_8_aUy0O2KdTwbWZQCaJCr9gvMvGbD6eDlAwrqsy0u5WlJjUc27s04pz5OlXFlV4Y2Gl5g-EdsMndsD23bzQPuKPw26rCSaDHp2LhWs-kzfVN_TNZS7TEN5IJUzm6spIYQOlq4DhBlQt5JNMbVsll_voLb13eXrngg2YMOWy2Kn19ikgIwZvAaOV5F1HpT_E-aJf08_Pkqdp0SfRdSPhKtRDeFS4x5HDfyQ4IU2i1jtmPgJY75kzj3bhVgcQxvfEYRojQqDe95CVKlOV0Mqlj5ar87h28uzGp3sXAi_-MgJW78YZdnp629tfRC1nIvrJwgHGSQ9qXFVHx3finm3VtnXNNU528WR-I8voLYOJ6FzQrp-OoL0RjWNiPPb2XrZOB9dvBlxlbkNRdVVOuLufMsQXifaRzJ9yabaUdHGMQp0I6URr4JZhMOqHI2-9szHXMUgnfTfSlEqoFHwTsGCAMcd8A_F345hQtNFo3EcZFdyhkskCeThQ176diBxeyjwXismGtGkl57-NzsBZM92_xonbrYdir6VCl6QpQu9445hlC8ZmKYmNNEPWixyi4o_U0L67uB9FQTimefKll_B9WS8B4djjtk3SbEbxURJxVpv_aEaYIbg2lgDOleDwLU5Itb5-f5nx9xMRyg8y1fGwweCJfsKprfOPSHd2eKmjim7zpTu6QksqAfx2ErcnnwWTvwVOkI76Cl72W0U7T_Kv5Het8kwx7PkjajYZrUVkgsBm2dE9mbBOwdvUOBYPBv0hJw155cVWZ9Hlc4NcFSdCPmKPmkmuDAGjoBTNyL635HTvrxIBBi0ScxX2myy8uw3Z-lxVaFJRvWQRincb7mSnRGRAxjPnER_vpbYtZJ_JRiHQ3-5OA11vnoSc81GWJYN_wYXoVn1w1-x4aJ7Idx-DiCn0xKEb724Ff=w300-h300-no)](https://photos.google.com/lr/photo/ACSOTbuzbJGXs4335VW0F68ST8zDNiOD4ge8aOq-MQuioq4Zjdl2jmwYU43rliDrpD9OvY8SQvGhjrJZgIFi7DNWhOstTVWbsg)"
      ],
      "text/plain": [
       "<IPython.core.display.Markdown object>"
      ]
     },
     "metadata": {},
     "output_type": "display_data"
    },
    {
     "data": {
      "application/vnd.jupyter.widget-view+json": {
       "model_id": "0c50edd42cc64ce18f19cdf59bf72dd7",
       "version_major": 2,
       "version_minor": 0
      },
      "text/plain": [
       "Text(value='ACSOTbuzbJGXs4335VW0F68ST8zDNiOD4ge8aOq-MQuioq4Zjdl2jmwYU43rliDrpD9OvY8SQvGhjrJZgIFi7DNWhOstTVWbsg…"
      ]
     },
     "metadata": {},
     "output_type": "display_data"
    },
    {
     "data": {
      "application/vnd.jupyter.widget-view+json": {
       "model_id": "97c4aae52d614c97bc380d19c72e87b0",
       "version_major": 2,
       "version_minor": 0
      },
      "text/plain": [
       "Textarea(value='\\n - Migrado de Google Photos con http://github.com/mgaitan/google-photos-to-youtube\\n - Fecha…"
      ]
     },
     "metadata": {},
     "output_type": "display_data"
    },
    {
     "data": {
      "application/vnd.jupyter.widget-view+json": {
       "model_id": "16c2e0e361aa428e8f06cc8a4519feb6",
       "version_major": 2,
       "version_minor": 0
      },
      "text/plain": [
       "Text(value='google-photos-to-youtube, ', description='Tags', placeholder='from-google-photos')"
      ]
     },
     "metadata": {},
     "output_type": "display_data"
    },
    {
     "data": {
      "application/vnd.jupyter.widget-view+json": {
       "model_id": "c236de9e83b6479bb333fe31ea124d90",
       "version_major": 2,
       "version_minor": 0
      },
      "text/plain": [
       "Button(description='Upload to youtube!', style=ButtonStyle())"
      ]
     },
     "metadata": {},
     "output_type": "display_data"
    },
    {
     "data": {
      "application/vnd.jupyter.widget-view+json": {
       "model_id": "b519511bf9394a97b4b48605222a20a4",
       "version_major": 2,
       "version_minor": 0
      },
      "text/plain": [
       "Output()"
      ]
     },
     "metadata": {},
     "output_type": "display_data"
    },
    {
     "data": {
      "text/markdown": [
       "[![](https://lh3.googleusercontent.com/lr/ANt_8_aU9bE8URsZ_Kn3CEG-ZmAtl52Lb839_n-eEW__I1Jqj1zdM8ilRuOZs7hn2_BVJQ4YE-nT7ucVsgfgKrATIbplf1zIFFSNG37AF9_lFWSThzNQA-AINXUm1xIIqDTpCZTomxX7A01Zb79RMmpzAAj9VXUDrxViVzww2QQZP2DoRfMPYWrQkFdmmZVrirZTW49RpMfTmkV_FPe_WZFruIJpXpnqowgah6lTi7G1zOadhmVIl0U4YUjKwPGgqMSG_vUhUUq58UYoyA1Y_QKdVGFGk73uTXF9p6nbrPU6N0-D7X6U_4DamFfBMC8bzohPoc-yN2BYPHHm5kdrABiDg3R7lVNGbLsVuwqncNBy6jRtBBkTxDyxuW-gzVJ3ryY8okauCPkYF2wRalDygNK4hJnbegQemDTPuY-HBuRSvh1CHGR-Qoxq4Nnn_GCRJ2qu1p_gkqqQNqNq5SR1bEwZB1SdLSzgMbl4EBLiRI6J-XkGWv7NLODZbySO1S7XAbu25ZWw_YZNm-xUda--3q7HropSARYA4CpJF-RsVv-e3T7LRbX7ybAHAwuM3RyiP5Rpl3mwkodHPsL34My35TobAsaDp1KzpaMa-UmTqeQzyqhTVMmkKv9zvoGfRZkNWa0Q7xsVXoj3Lj6Wnhjgxi26x2PTiiczMHNyJHZPcdjuf-HuUNGjGIrWrQ9GtliOgVC7tL88ssJBgJPf7EVKlxpauhaVsrylSq5oASbvyENMzctsfmlaSTuMZIy70k0fN_7MHogdM9XzNd9FMz0NzPv1JWJb3Wwm81lzcznFNao2kQ9JCxi9uiPgiRqzAe-Tr1E_Tl9ajC4fVSRXxgNSkvScSb1ZbcAn4Ff7QTbRANw-qJd8y2Di1LvkoQ0GC_GYwCl-wLAQ38wyY8Hfajkj7_K3y-5N822drl_9=w300-h300-no)](https://photos.google.com/lr/photo/ACSOTbu_3EEGgZd3WwLtGVeY6IR-HF2kROjoGwQO4LVGdfX-9-RAf9HuKTUFkHoSWbPCNPQtCTa2EVyIZ_un6CxD2Fbb0z7T2g)"
      ],
      "text/plain": [
       "<IPython.core.display.Markdown object>"
      ]
     },
     "metadata": {},
     "output_type": "display_data"
    },
    {
     "data": {
      "application/vnd.jupyter.widget-view+json": {
       "model_id": "68748b19931d4964bfa13d1988c96544",
       "version_major": 2,
       "version_minor": 0
      },
      "text/plain": [
       "Text(value='ACSOTbu_3EEGgZd3WwLtGVeY6IR-HF2kROjoGwQO4LVGdfX-9-RAf9HuKTUFkHoSWbPCNPQtCTa2EVyIZ_un6CxD2Fbb0z7T2g…"
      ]
     },
     "metadata": {},
     "output_type": "display_data"
    },
    {
     "data": {
      "application/vnd.jupyter.widget-view+json": {
       "model_id": "a5e536b583334a1f934ad233155a6fc1",
       "version_major": 2,
       "version_minor": 0
      },
      "text/plain": [
       "Textarea(value='\\n - Migrado de Google Photos con http://github.com/mgaitan/google-photos-to-youtube\\n - Fecha…"
      ]
     },
     "metadata": {},
     "output_type": "display_data"
    },
    {
     "data": {
      "application/vnd.jupyter.widget-view+json": {
       "model_id": "c81a310147cf4c56b8d5aec00216fabb",
       "version_major": 2,
       "version_minor": 0
      },
      "text/plain": [
       "Text(value='google-photos-to-youtube, ', description='Tags', placeholder='from-google-photos')"
      ]
     },
     "metadata": {},
     "output_type": "display_data"
    },
    {
     "data": {
      "application/vnd.jupyter.widget-view+json": {
       "model_id": "c73ae758d7f140e186fb71088d7e8fc4",
       "version_major": 2,
       "version_minor": 0
      },
      "text/plain": [
       "Button(description='Upload to youtube!', style=ButtonStyle())"
      ]
     },
     "metadata": {},
     "output_type": "display_data"
    },
    {
     "data": {
      "application/vnd.jupyter.widget-view+json": {
       "model_id": "35dbbddef59d4bebb1796cf93316a95e",
       "version_major": 2,
       "version_minor": 0
      },
      "text/plain": [
       "Output()"
      ]
     },
     "metadata": {},
     "output_type": "display_data"
    },
    {
     "data": {
      "text/markdown": [
       "[![](https://lh3.googleusercontent.com/lr/ANt_8_bjqVpRe_Zo2oQUNE0UiyMREEVmbIKrrc-ALRMItnUGDzVPb_w6reT3IoouGUwzEjCb6oQ-EGf3Z-f-nLRNgr_jIV-wq9EvjVNhpjcL3OO7XGlxhSZrh3asvVbih1R-3rYxoQ7UiY0o7x2ihBbJPpxEFkJmqYLxoi2mMjnFIrxevOB4OFZ7M9a1HElNs9nO7eZnEQDWqJ6Ajpf0yhwygrTGzMk_XAMqe1r72krZ4uzT53OPSlSf7NhNM6aGbV5Ba3FCskwTl_2-yIDSaZxC5E5MlV1p7DpJJY6aP_op6qBlcH6QknIfcDchGEGw0GhkcAnHCuNmOP8REGhnm2q8QMxi-p6ADb8smLJ6AGTSNBC3VMgfzR1LCwkthiLB4clRx-tVlhGhzbk5pHu7G3HXXxyFWhS_t-zmtwKG9rgaTXDZ0bVx1Zd0vhKU3W5oDQnKRXI4JyUZjSwDroadezylLr3iC8Vlb9MXKgAs7cgXTiaSeKSzRwYgvMQEwriOcv0ZjqyVvIPDYakBRyJCIfpUdMgN_mDBEko9Tb8RD4O66vpZ-VWXN0BKeFdmkjoEF7dbnakTzmTTguy2XOj8KlI88vvN_61MwryWHTArf0tSXlI6_FY-RpYS-aN0KAnPgN8d7CKBi7fQAnR40vlkNRjWuq0s9LKdwgFjZEpJ5efiSvBlKiUtxqGV80dDTuM9CpBoy5RWOEmztwfe9YgysQl3kC3t7e07hzkvkjuIymEr8Ay34aCjaC-UZqPJ4uNhSZnzI5yJLIAYDHkPOAloekAv4cnL48gsEwM38fzVzGaCtcPWLtx0w00IjK7b_rI92qQYARGSQBbebjM-08i2SvcdeJZ1Kh7HmjJcamTunueDyxoM1kz5F_sVpquzRV4ed9IwyVVRwqkfgmb0hi1NmTitS84Ncd9eCFCS=w300-h300-no)](https://photos.google.com/lr/photo/ACSOTbtHxByqM8VPPoYfLXJEJwJL3DspxogEW9t1n6sT48zLAP_1GnsFLFZlugeqkNYDrNPtOJ81b0GH6b2F-nNr7vXnZZwa0Q)"
      ],
      "text/plain": [
       "<IPython.core.display.Markdown object>"
      ]
     },
     "metadata": {},
     "output_type": "display_data"
    },
    {
     "data": {
      "application/vnd.jupyter.widget-view+json": {
       "model_id": "d937ebaed091417b9c12bf5d158f7125",
       "version_major": 2,
       "version_minor": 0
      },
      "text/plain": [
       "Text(value='ACSOTbtHxByqM8VPPoYfLXJEJwJL3DspxogEW9t1n6sT48zLAP_1GnsFLFZlugeqkNYDrNPtOJ81b0GH6b2F-nNr7vXnZZwa0Q…"
      ]
     },
     "metadata": {},
     "output_type": "display_data"
    },
    {
     "data": {
      "application/vnd.jupyter.widget-view+json": {
       "model_id": "2dbfae4cd1104240b64d6467064d4454",
       "version_major": 2,
       "version_minor": 0
      },
      "text/plain": [
       "Textarea(value='\\n - Migrado de Google Photos con http://github.com/mgaitan/google-photos-to-youtube\\n - Fecha…"
      ]
     },
     "metadata": {},
     "output_type": "display_data"
    },
    {
     "data": {
      "application/vnd.jupyter.widget-view+json": {
       "model_id": "e4b24c899b2944148639ca31e80f1ade",
       "version_major": 2,
       "version_minor": 0
      },
      "text/plain": [
       "Text(value='google-photos-to-youtube, ', description='Tags', placeholder='from-google-photos')"
      ]
     },
     "metadata": {},
     "output_type": "display_data"
    },
    {
     "data": {
      "application/vnd.jupyter.widget-view+json": {
       "model_id": "043e9298f11947cf8869f8934716a7b3",
       "version_major": 2,
       "version_minor": 0
      },
      "text/plain": [
       "Button(description='Upload to youtube!', style=ButtonStyle())"
      ]
     },
     "metadata": {},
     "output_type": "display_data"
    },
    {
     "data": {
      "application/vnd.jupyter.widget-view+json": {
       "model_id": "cf3f853ffbe64535b94b506ee88cf6f6",
       "version_major": 2,
       "version_minor": 0
      },
      "text/plain": [
       "Output()"
      ]
     },
     "metadata": {},
     "output_type": "display_data"
    },
    {
     "data": {
      "text/markdown": [
       "[![](https://lh3.googleusercontent.com/lr/ANt_8_YdjwOXC-IRZR6pUg-WqkQ6ujh6NLpr7HCNGdFPyMQTFm8nKy4aUxE0hB4wDo2URHAdtZuKKlEG05GprhxJUPscvVIld-Pp96_65y0mzjym6jTzG58j_lKGB8cSQsSCMDtgPecSoxM2B2mXN_RbYev9toej99vJpIZXHjDV6mBPLUsM291YgczTnCJuHR-jzfCzkJX-IC4bMJOdgA6GRDtVWow0NpV1VDD1t_hRHSENdm9FHrHZegVKVLiFB987julChXHjFla_ZNp9B57ypixwY2e0H1obuOlkzy0DeKizxLL17y3DXjgmcW5zO8fj9Fby3VGafSraHLZSGIlyDGE3xaCWinHvkxnIfaGZZ97yjGHgv_vYhFTUYt9yY4n6cMDTptrVQL9SUVkcO9zgANce46mkRzhA3UgaIihQBenDsk9ieiP_h8LriRJ2QYZ-UtmAL6UEDbJxVzWGHF7C6pdX2uf0_T9SVqQv8dsCTaVis2p4lOuD2sYvu2tHQhBUb7avIkCxgPYnhu3d3VvpshxkkIWiOkR2-eOmpHWUk9tuVuvD7k877rFrunY0XdnZvVZnwNH63tdmMASa8S3_edFXNGhTGVMcJkVNU79VBvlYs7_bjOIS-sad_wQLth9lSD8V_NVyG2PczLWTF_EV3Wrx4_3E1R-JAqytQwM0RjdMp_qwKLNqaHhCu-Z3rjdedDJwwYwe9zBm5uj0L1QBSrN0IfkKWkOvuWlT2kzG6hnNT8lKxQ0Ovn-gicDPcA1DIQamhdEKBkiGoAr3MyR_kmAFctPyJ7Yv_2zGedE4zHZW8RJtvijgZLVozeGa7YFpRymjWYrKjz7MvBV8DVL2iYuUU0RV_rwSaT-9tSmHk_5DAJ7ckiQIgMpLPLS1jFJDFYRKfLjFI8Znh1EYNr7h2I6qt6TgjT_z=w300-h300-no)](https://photos.google.com/lr/photo/ACSOTbt3s9cOtq1SlTty_-Ps8aiiF8YK4ALYcnwX-nvPe0oKAqw3drzt8oMt6bLaE9l9KN4NQvu5EGi0-irI3FqAz8K_7I92Vw)"
      ],
      "text/plain": [
       "<IPython.core.display.Markdown object>"
      ]
     },
     "metadata": {},
     "output_type": "display_data"
    },
    {
     "data": {
      "application/vnd.jupyter.widget-view+json": {
       "model_id": "44d704134ffe4178b81e671f676d9a8c",
       "version_major": 2,
       "version_minor": 0
      },
      "text/plain": [
       "Text(value='ACSOTbt3s9cOtq1SlTty_-Ps8aiiF8YK4ALYcnwX-nvPe0oKAqw3drzt8oMt6bLaE9l9KN4NQvu5EGi0-irI3FqAz8K_7I92Vw…"
      ]
     },
     "metadata": {},
     "output_type": "display_data"
    },
    {
     "data": {
      "application/vnd.jupyter.widget-view+json": {
       "model_id": "27fe1f6bf24144a3a586403a21060178",
       "version_major": 2,
       "version_minor": 0
      },
      "text/plain": [
       "Textarea(value='\\n - Migrado de Google Photos con http://github.com/mgaitan/google-photos-to-youtube\\n - Fecha…"
      ]
     },
     "metadata": {},
     "output_type": "display_data"
    },
    {
     "data": {
      "application/vnd.jupyter.widget-view+json": {
       "model_id": "93a2da9c0fb54ebb8afa111ff04b4e87",
       "version_major": 2,
       "version_minor": 0
      },
      "text/plain": [
       "Text(value='google-photos-to-youtube, ', description='Tags', placeholder='from-google-photos')"
      ]
     },
     "metadata": {},
     "output_type": "display_data"
    },
    {
     "data": {
      "application/vnd.jupyter.widget-view+json": {
       "model_id": "99fdcd63dbe243fa9fe877c749ded9d4",
       "version_major": 2,
       "version_minor": 0
      },
      "text/plain": [
       "Button(description='Upload to youtube!', style=ButtonStyle())"
      ]
     },
     "metadata": {},
     "output_type": "display_data"
    },
    {
     "data": {
      "application/vnd.jupyter.widget-view+json": {
       "model_id": "272126c9c50b44a48274b4121d83775e",
       "version_major": 2,
       "version_minor": 0
      },
      "text/plain": [
       "Output()"
      ]
     },
     "metadata": {},
     "output_type": "display_data"
    },
    {
     "name": "stdout",
     "output_type": "stream",
     "text": [
      "Getting 6 videos\n"
     ]
    },
    {
     "data": {
      "text/markdown": [
       "[![](https://lh3.googleusercontent.com/lr/ANt_8_bvleQc8GmKS-H_Td2CwM569PBiYol6tBIizGqz1KktdvYc8Gavj7j1a3RFG1hLTbIhVvuhOV45cuu7j3r7fwIyR9nBe_nkqCZBGJoge-Ornv7cTGNuc18Twmax-4Wk2SppOpKQJqMhPtwgvQ5Tb5LkHB3KPdf4Zq91G68xSzHAaSel4-xET4owxmqzdzSgs_9EB1_3qpZLsnBI19SHB92jXfyJtpQ_JC7eWgShJ_kjAmaSUdh2_YhJXLXl8ki6CNzJI_EUzeoUTncY2dB6LVF6rvbQXB3y0mLDTZjRbG49Pqrg6_ucQtIeWHjlA0jaGZjZD-921oMr4fHV3rFMOGLwpRhcg4A9dBPm0bo_CvF5ntz5wPdlGcwObvoF7mx9AnaUilzNC18ZmmgS1XqXY8Ew58K9FKbIkme_PHxnkpzGCowlCTGPlKcR-5lHYWavswPgfFiMMDSXdUwD8L415gsucrn8iUlIiXjWx463GjRMIwLnZMhpRIt2IoN_GH-i6BRt5w87-MfbqXGy6TFMOj9oCWn_WtsvCTjKayYSSj3YKRgzB18hW50JXW3Rikyy7Zxp8YxztaJkL9wTytBaqjKEvsl57NoiM4Hk_XCqI3pYV6rbD7H7dEL34v82UwROujfpbAtNlIkEdSRZ9SFD9Q421TvQvjsP_odWrAQ_jkBk6b4Y9ooAhHe13mKXfPDb5bt7x4DjjOkx3oaNGbupxbOwN_3pLtkRUiHRUFqYli0WLqBJ8TYhqGNf1NbJ6FTXE1lFYfIp4K14BYEscHAAswBUeEXKVc5x55aVB5ErzuSL1wCv0lflTUoXyPYej-CL_rWjOr5elfazW_tZaxJZiHhCzE5E6MT5LrNiMvPakTaJGtfMeU_6uqJWqsrZxYKQkGh1U5MubE_YJV9qIZVVpyG7ISvoS3TL=w300-h300-no)](https://photos.google.com/lr/photo/ACSOTbsGxALQ59CyP9MypQgd2K0n8izPyrHWDIxfBzLFEcSrrJELG9vQ0bK7DPovxn3ByrUfxdX7q1JcANY-0a4d3PR5XdR3bw)"
      ],
      "text/plain": [
       "<IPython.core.display.Markdown object>"
      ]
     },
     "metadata": {},
     "output_type": "display_data"
    },
    {
     "data": {
      "application/vnd.jupyter.widget-view+json": {
       "model_id": "1612b49be05e450188d2e9a734a241f0",
       "version_major": 2,
       "version_minor": 0
      },
      "text/plain": [
       "Text(value='ACSOTbsGxALQ59CyP9MypQgd2K0n8izPyrHWDIxfBzLFEcSrrJELG9vQ0bK7DPovxn3ByrUfxdX7q1JcANY-0a4d3PR5XdR3bw…"
      ]
     },
     "metadata": {},
     "output_type": "display_data"
    },
    {
     "data": {
      "application/vnd.jupyter.widget-view+json": {
       "model_id": "020e8895caa74355be8130f9df3e9889",
       "version_major": 2,
       "version_minor": 0
      },
      "text/plain": [
       "Textarea(value='\\n - Migrado de Google Photos con http://github.com/mgaitan/google-photos-to-youtube\\n - Fecha…"
      ]
     },
     "metadata": {},
     "output_type": "display_data"
    },
    {
     "data": {
      "application/vnd.jupyter.widget-view+json": {
       "model_id": "32616105fe604a1e84967044997502a7",
       "version_major": 2,
       "version_minor": 0
      },
      "text/plain": [
       "Text(value='google-photos-to-youtube, ', description='Tags', placeholder='from-google-photos')"
      ]
     },
     "metadata": {},
     "output_type": "display_data"
    },
    {
     "data": {
      "application/vnd.jupyter.widget-view+json": {
       "model_id": "9994af1e875b41ea87e383c14683d8c0",
       "version_major": 2,
       "version_minor": 0
      },
      "text/plain": [
       "Button(description='Upload to youtube!', style=ButtonStyle())"
      ]
     },
     "metadata": {},
     "output_type": "display_data"
    },
    {
     "data": {
      "application/vnd.jupyter.widget-view+json": {
       "model_id": "f02ff61b74d6444bb3c4f2aa74d8f22b",
       "version_major": 2,
       "version_minor": 0
      },
      "text/plain": [
       "Output()"
      ]
     },
     "metadata": {},
     "output_type": "display_data"
    },
    {
     "data": {
      "text/markdown": [
       "[![](https://lh3.googleusercontent.com/lr/ANt_8_a76PIMb5MtK8CxF6O1tJnaUcVFosel0QSBaZDNVzRpLyUKLxOQFLkLfOTcaWZa8SJ_12U0xibwNHsg182UA1PHGA-kEi_F5podY_PH5PDFGFMGkI-ls7zFlWoGTrLz_YoIXM8NcZvp1aq1WRa2E4Ud9DjhfRZbycbNTX2aGt9YuSKiQClcbrdB2mIlsibiH3FR-nzC23qo72i2zWUdzouffIzQs1ZZ1IfkuQV_cF5NCvZNa_q--AmdnlU--QpQZgzoFryAtQ6nHvbtmdn19ip4dheelSjDrAEQm03h5QhBpuQSEr99nvoMxp1JkY-GwItUMa_hckP5n8lHVJYMAzc-kYo2s_wdSpCL8V_Oq4P3dCi1ihJCEVXdjffjSvPYSGOIDz2JzItt1zxlR-YFL8DRV3rKkF2YGt0nlb_OlArORulH3JdcVJIudWedTXQLH7u_gv7GE-ThejHpoQqeclQYkYn1cbzn9YfHBtB0fC5j6vwfbA2pemlnpnB_zNBqN_c9zqUNwty24nIqwm56xdNF24q3eEWncAY1NItFcyfVdNn2nFsGeyIOHjQnPzFwcVHTPj_0pO7Yrw85t3YDgumw04QiPS4_4HYL0fDVx9VberLJHUr3ZPPuz_0924ZMa0CH28sQVWrQjEeo1RWwQ04cmIWRp6-37GxZrUfbVDZn3I-5L17J3QEXao873O_rMEETQkDVlEq8j7VuR5FGKkf4wLfOWFwb-NBvwrc2rvfbIegHp6ygC4ZvABGwd1ZfJWYKnDGg4Uk9yhyHUfy5bi-dUWas58tIKKQzTU_WcyWYkSAT3qFyqK_J6hHm8tdHFmWz0QkXDSL3pkXustEVnd2es1kh3qCAm2L0A0NOTFULaPo2l7ht73v01E7coijJnFj_JqrH7lLmrxN6bkzVDhP7SqZHU5-b=w300-h300-no)](https://photos.google.com/lr/photo/ACSOTbvWuC32KDUqs3_dwAc5RaGlSTPTtwrZhRipnAMgnWjBmL_GALDVPfpI2oWokSq0y9aAUoGz63FZjy5gaz0uluzIF1NtIA)"
      ],
      "text/plain": [
       "<IPython.core.display.Markdown object>"
      ]
     },
     "metadata": {},
     "output_type": "display_data"
    },
    {
     "data": {
      "application/vnd.jupyter.widget-view+json": {
       "model_id": "7adae0eb81f048ca872714c22673e01d",
       "version_major": 2,
       "version_minor": 0
      },
      "text/plain": [
       "Text(value='ACSOTbvWuC32KDUqs3_dwAc5RaGlSTPTtwrZhRipnAMgnWjBmL_GALDVPfpI2oWokSq0y9aAUoGz63FZjy5gaz0uluzIF1NtIA…"
      ]
     },
     "metadata": {},
     "output_type": "display_data"
    },
    {
     "data": {
      "application/vnd.jupyter.widget-view+json": {
       "model_id": "7d382173ea9d43d39358fecb165830be",
       "version_major": 2,
       "version_minor": 0
      },
      "text/plain": [
       "Textarea(value='\\n - Migrado de Google Photos con http://github.com/mgaitan/google-photos-to-youtube\\n - Fecha…"
      ]
     },
     "metadata": {},
     "output_type": "display_data"
    },
    {
     "data": {
      "application/vnd.jupyter.widget-view+json": {
       "model_id": "de24efba930b44d5810a09c884563e20",
       "version_major": 2,
       "version_minor": 0
      },
      "text/plain": [
       "Text(value='google-photos-to-youtube, ', description='Tags', placeholder='from-google-photos')"
      ]
     },
     "metadata": {},
     "output_type": "display_data"
    },
    {
     "data": {
      "application/vnd.jupyter.widget-view+json": {
       "model_id": "270e81b1661f4d449a74a32f24b5ebfe",
       "version_major": 2,
       "version_minor": 0
      },
      "text/plain": [
       "Button(description='Upload to youtube!', style=ButtonStyle())"
      ]
     },
     "metadata": {},
     "output_type": "display_data"
    },
    {
     "data": {
      "application/vnd.jupyter.widget-view+json": {
       "model_id": "4b7e2d9816ac4138a9c9bf454b9ce377",
       "version_major": 2,
       "version_minor": 0
      },
      "text/plain": [
       "Output()"
      ]
     },
     "metadata": {},
     "output_type": "display_data"
    },
    {
     "data": {
      "text/markdown": [
       "[![](https://lh3.googleusercontent.com/lr/ANt_8_aTC4_BuuiiqsgHBMj3rNUsdRpdJfT8M_SsKQGBnFhe5C1BhAM6aUes0odIssE1gK7LW_tZG1E2sOL1XtXM8etKUWrxn398e1OLA8hCyKYRJZuYKHOIPa4zGfdCV8HvoZG--RuDCXNtvFaPvOv5Ssl9YSdAn4tZMxUrjHyhFlxvNgv3LrcyGeGX6AzNnKDzYLmLE-g--ao5-LUoH89NBwr153hOoQDOXFc_iSm4T_yzz6GM41qZ1DZ4k7PHhMFUQ2amzmpIKpk461r1CcBLiCOPVg8Ry3Ni4xcBF4pWfQS5mKeZuTe7zYcGSxHF0Bd5bkVToWBPUoRg-0OT4--qWdMRrpXt1y5zll8KCEfrv0BSGkjE7DMTKyE_PooBV17wGqAJhB0tO6EcktAzbYARA4P_kCuzctkM2uDEKY_dli5V3KYjOyShYBFN0n3RgaknXEN-tfSoEogBPELImXCIFIWpPZUIhdU7_lX7jnTHDlQ6fsWQNirmRxjachyE68uLDoBtUIh0f0idUg1sb-7vp7etE96DVPh7-cJAgTtWUqdVe3ZKqsNvbt33TMM5_7E-HDhRCTRCVkDiUpzhMbBxeNjlROU5Vf72G_Yrl0WH4E8zhQr7BqmdRdhE4-NNzQz-3ed3Le_RIlV-Moy-D8Uv9-YlXy42oX1sKFeeBzd8xVrux4X-LBnQs95W-cSza_auQlnMkBZEoVa0EuF5iEaf4Y4Q-BtQa2gPqAyAcQDuRGgkWutdf3-dCc_u6zG4fWM6qrHhPiHWIEKKgP5cIa-5wv9KT3jmZzL2uj0ELSOig03Z-sn9no9kSsN6QBx3cGZBM4x00MSRC42byudF-195z1sUi8XXoOTAnyVLkEdxZ71m0fSCBi9nOS3rjT5RFn2LMCOvgtLuZm94Sf3YLV5S_D9yKluKHS1c=w300-h300-no)](https://photos.google.com/lr/photo/ACSOTbuKgWusWmZFrZreKnPHjJ0GYn7K498X-aF70gpyOyROxTjotQwK-_cyAmWwvXxFmxEd2aza0EAYf_eMGE5EowpNAdgLjw)"
      ],
      "text/plain": [
       "<IPython.core.display.Markdown object>"
      ]
     },
     "metadata": {},
     "output_type": "display_data"
    },
    {
     "data": {
      "application/vnd.jupyter.widget-view+json": {
       "model_id": "a64faac77f9c47e7a5db137e69cf455d",
       "version_major": 2,
       "version_minor": 0
      },
      "text/plain": [
       "Text(value='ACSOTbuKgWusWmZFrZreKnPHjJ0GYn7K498X-aF70gpyOyROxTjotQwK-_cyAmWwvXxFmxEd2aza0EAYf_eMGE5EowpNAdgLjw…"
      ]
     },
     "metadata": {},
     "output_type": "display_data"
    },
    {
     "data": {
      "application/vnd.jupyter.widget-view+json": {
       "model_id": "4be53b7865b34255b85aeffbaddca6ed",
       "version_major": 2,
       "version_minor": 0
      },
      "text/plain": [
       "Textarea(value='\\n - Migrado de Google Photos con http://github.com/mgaitan/google-photos-to-youtube\\n - Fecha…"
      ]
     },
     "metadata": {},
     "output_type": "display_data"
    },
    {
     "data": {
      "application/vnd.jupyter.widget-view+json": {
       "model_id": "cdcb980fb84f41f8b1f67a94992de23f",
       "version_major": 2,
       "version_minor": 0
      },
      "text/plain": [
       "Text(value='google-photos-to-youtube, ', description='Tags', placeholder='from-google-photos')"
      ]
     },
     "metadata": {},
     "output_type": "display_data"
    },
    {
     "data": {
      "application/vnd.jupyter.widget-view+json": {
       "model_id": "2c762cd87712474688e6a8b99df76c6e",
       "version_major": 2,
       "version_minor": 0
      },
      "text/plain": [
       "Button(description='Upload to youtube!', style=ButtonStyle())"
      ]
     },
     "metadata": {},
     "output_type": "display_data"
    },
    {
     "data": {
      "application/vnd.jupyter.widget-view+json": {
       "model_id": "fd359a3658434d3bb1f839acc43547aa",
       "version_major": 2,
       "version_minor": 0
      },
      "text/plain": [
       "Output()"
      ]
     },
     "metadata": {},
     "output_type": "display_data"
    },
    {
     "data": {
      "text/markdown": [
       "[![](https://lh3.googleusercontent.com/lr/ANt_8_Yo2wHjm-4oktMev0OHschlY1VIcgSIlCX_4msIDLHURgHDRMlXOEbgjIO2e0Jh_dhQAgfHFZ1RTqpxeTYQFExUVNVuBt-sjTBtHTHk_qIpa82G7TxK1ic32G3TtXqkz2QpuwHSEslarHBEbbsa_JRf-U1vcQP3XLkrvT2PfA620O0Q1Sbt8SZBnopIrnq_4cLWxCa8-xiOHmk4QpuKPrlbxeW59Tb9_NicU8fnH5IKuPMlWolGh5l1MPeqhzlxADSIbLTMM2aDT_FTT-lFubelJT268bP_BsL8K1ND56wkwPeFvcvbPfTlKu4kOZGZrNNmN_wR9VGuI-f8ExMzO4r5bF6yKcAcURpav_NaRjHhmKO5GunivzSxfiwtT_mGs4XBs65qJgyKGFkgMeDT-ogKcDTWTQaip9CKxIe8wiS0bHTwThy-I_hZMIQFbEbv_zOKIHO2IRztAVOZQIl8eV3vKnWX-ug3x97aG35KgI3WXXLcoLpGXul512ytyf-yo6_R-zvoGC3ECI3w-tnOTGMBvyYPwNP8YeQ7_qZqUCaeb-66C6a7GB1y9EewRVhY8aVVXn8H4ggVz71r038HUCSEflia8X_bQF4cffMYfI6dP2dmPTMgggEK6MJK8nek2unf3ymVP7nT9lETI_VivSsa_kpPAry0a8K74QKNxq02wdQjL-UriKEVd3QtLgm-8DFUw4299AGTs_FfaKN9iZF0vcVU7ODAwp5FRwvYxsNCMgophcDNXZWbsnRRRB5Vo_V2a70Zl9XtYnxPj9sRqkGEzhF5jF7YnLU7LdmsBqGjYL82FNXvvMuUw6wybsnNOHYXPV0L26nEhpSiACmnbossljF_KvK3cFtXOKJdYTkSvyCHd62uboAZqEZ-qYNKJT3Vx3QThSL-u2O2HkR11lwea-suaAxH=w300-h300-no)](https://photos.google.com/lr/photo/ACSOTbvRfESb3XWXbiDLImU8rqFev6zU6XaDIJcT5s5Py8bQsyGZ_K3B7-K0Iel6t8x2ucjKGmnjeXl3nuDTL6rfXlB4CGpajQ)"
      ],
      "text/plain": [
       "<IPython.core.display.Markdown object>"
      ]
     },
     "metadata": {},
     "output_type": "display_data"
    },
    {
     "data": {
      "application/vnd.jupyter.widget-view+json": {
       "model_id": "a11111743bc546a5a6c9ff04ba30fc87",
       "version_major": 2,
       "version_minor": 0
      },
      "text/plain": [
       "Text(value='ACSOTbvRfESb3XWXbiDLImU8rqFev6zU6XaDIJcT5s5Py8bQsyGZ_K3B7-K0Iel6t8x2ucjKGmnjeXl3nuDTL6rfXlB4CGpajQ…"
      ]
     },
     "metadata": {},
     "output_type": "display_data"
    },
    {
     "data": {
      "application/vnd.jupyter.widget-view+json": {
       "model_id": "9139dfe473284514a2264e0d819e4489",
       "version_major": 2,
       "version_minor": 0
      },
      "text/plain": [
       "Textarea(value='\\n - Migrado de Google Photos con http://github.com/mgaitan/google-photos-to-youtube\\n - Fecha…"
      ]
     },
     "metadata": {},
     "output_type": "display_data"
    },
    {
     "data": {
      "application/vnd.jupyter.widget-view+json": {
       "model_id": "c34c030fffed44468fe086a348a1dbe5",
       "version_major": 2,
       "version_minor": 0
      },
      "text/plain": [
       "Text(value='google-photos-to-youtube, ', description='Tags', placeholder='from-google-photos')"
      ]
     },
     "metadata": {},
     "output_type": "display_data"
    },
    {
     "data": {
      "application/vnd.jupyter.widget-view+json": {
       "model_id": "af7373c450f9404590e7e1c765b66acd",
       "version_major": 2,
       "version_minor": 0
      },
      "text/plain": [
       "Button(description='Upload to youtube!', style=ButtonStyle())"
      ]
     },
     "metadata": {},
     "output_type": "display_data"
    },
    {
     "data": {
      "application/vnd.jupyter.widget-view+json": {
       "model_id": "226ca95498be4aff9f7599760d372524",
       "version_major": 2,
       "version_minor": 0
      },
      "text/plain": [
       "Output()"
      ]
     },
     "metadata": {},
     "output_type": "display_data"
    },
    {
     "data": {
      "text/markdown": [
       "[![](https://lh3.googleusercontent.com/lr/ANt_8_b1UtU6UOfItJkyZM_P7qIotVz4Y6RthglGlzkaaXz5aCmMtuBlyT15rj3gek_nVeDrzXxvHoqSbuCfaOQbKYzNfnccMUrx5UglMOXU0vbY5EPTEOs_OC67xtFdZlP0iz_XVlf_hn0j5hr-LVlAV6dgNJmRvMtMpTgXL8LV-NAvxez49iIf-h07_rGOKDOMFTtxf3B2T4qjhh32FW6MiwboIOlIiTIdsk4JuZFAbDjzgCA8oikytLkYukK1hESx3BU-XENqZmAMpFnUlrMznL24oftuvpOrL3yQXjaVNNuSBItOtOphoz1CktLYWlBqPQCL8zqrnzoz7FJTV7DlLfmZhLceonG7TicAVTI7MwgJoL3hqHQkFIqWbj8m8PD15_L_e1rt_MqeOI7Nvbe_vBd7YkIc3VOUcmjrBNbfUnyKCFvHANMo2yT2nADXKmtH8FE0WVSPfrPsZoc9Td3Kohe3tLq75ALZCgrwyt1HyrHVBQ34LoEQ7NSppenxLp7yV_7DZO7pxQBQTHnsV-Wthpnx2GZxrkkKJdfqu_arSDs9MpYhfEu7e1K5O4Nghs-chLbqjoutBESaTgw0C7zlkTX_FnAAZjYHeoaNrFEyO49EkLqReTRoNJZ0drRJ9HcQ5pcL8TrlWs2qULVGcgKH_Bm76znhppE2-aBXrhbNu7c0FKCZzJsA8M4LCPGJLbRfkxxPQVUZHMS2909tiwMfljN-oN8oADEsQklghZ8AP6yrAY6DpSdJnC_p9iDvLz2y35n-qwTnkh7JIqAg95WDSCr1dzgnlx-DH02PsY41_r8HEvu8bGZyE8Lpdpjx2MjrDbrrCkVUwHMKgxTB5tjpAIu8c7EMhAtEjLnuWfPqpBvVsW-MzIt2Sdz5NxC8ZwEz3YMEUw_rbzWPsPvcw93MoniVaPEltvgT=w300-h300-no)](https://photos.google.com/lr/photo/ACSOTbvNJQyqFHECFQyZF53L-UbzV_rEXTLt22NM2ESDtBWbid1iBgoW5oW1M5bpm3LG1daArQkTlmli6Hm0Y-Vpo21KU9wC4w)"
      ],
      "text/plain": [
       "<IPython.core.display.Markdown object>"
      ]
     },
     "metadata": {},
     "output_type": "display_data"
    },
    {
     "data": {
      "application/vnd.jupyter.widget-view+json": {
       "model_id": "9dc727d72871441bb2cd8bbda694fae1",
       "version_major": 2,
       "version_minor": 0
      },
      "text/plain": [
       "Text(value='ACSOTbvNJQyqFHECFQyZF53L-UbzV_rEXTLt22NM2ESDtBWbid1iBgoW5oW1M5bpm3LG1daArQkTlmli6Hm0Y-Vpo21KU9wC4w…"
      ]
     },
     "metadata": {},
     "output_type": "display_data"
    },
    {
     "data": {
      "application/vnd.jupyter.widget-view+json": {
       "model_id": "c4c7269914ff45a0a75797fdf4f2472d",
       "version_major": 2,
       "version_minor": 0
      },
      "text/plain": [
       "Textarea(value='\\n - Migrado de Google Photos con http://github.com/mgaitan/google-photos-to-youtube\\n - Fecha…"
      ]
     },
     "metadata": {},
     "output_type": "display_data"
    },
    {
     "data": {
      "application/vnd.jupyter.widget-view+json": {
       "model_id": "d1adc04953ca4b20821f488c1a45a4c9",
       "version_major": 2,
       "version_minor": 0
      },
      "text/plain": [
       "Text(value='google-photos-to-youtube, ', description='Tags', placeholder='from-google-photos')"
      ]
     },
     "metadata": {},
     "output_type": "display_data"
    },
    {
     "data": {
      "application/vnd.jupyter.widget-view+json": {
       "model_id": "305640061f334a3294cc5aaffa565eb0",
       "version_major": 2,
       "version_minor": 0
      },
      "text/plain": [
       "Button(description='Upload to youtube!', style=ButtonStyle())"
      ]
     },
     "metadata": {},
     "output_type": "display_data"
    },
    {
     "data": {
      "application/vnd.jupyter.widget-view+json": {
       "model_id": "837debfe46904a53b459e7b2c21dbfcf",
       "version_major": 2,
       "version_minor": 0
      },
      "text/plain": [
       "Output()"
      ]
     },
     "metadata": {},
     "output_type": "display_data"
    },
    {
     "data": {
      "text/markdown": [
       "[![](https://lh3.googleusercontent.com/lr/ANt_8_YaOEKhOYNK7_pBORmSosLbCRK-63gQtoHzRF6LLiKPwg2M-c8zRdeBm24j2Z85ueCYpRXyR4iVNWnFBXfCqguzSFoKzKFURF8BqEmBdSNRyD9kuioWOYbHwWcZNzl-FIf8PnjN3UNkGJhzetdiLzw1Iie_L0BpDEAc4ioVtcg2gxmwAB_A01Ed0vXoMXyqvNbn-je-op8NW15lEWruChA3142lbSfwxZWsJ9R7GNNha6wGyJ0Ok3K0AyyL85JKQ5QB4OdY0f9dab3gFvbGqiHtOGUPHBY4nXcbvseCSmYrFvDpj0NmOLYSx5vlrQtcG3z1GI41GRM5eeWi1E14ZLAg1sNmp_daHcZ76PmhJ3fCYLKwmRN9rfWBHNavVCbdhhB5HbJeeXTyAFKM7LPa1MxYGvcYG77gpqHzyKgyyGmQr7zaIsI-lpIUt02hhCVNyT-ADiInBnaUMi0PQjLZW79rkd9q3Ts1FPOKr2x5rm9y5AcTPUpxVOreCi3AewNjL4kQ410N_SCuMJaNnDZpPi7jzI96b8KIZsQMxoh20EBdBva-ZhDjvYG_9jOSFIoi3hTp0hyc9WP-cH7UHuOMrAq-oQIq-cl3orjVT-LFHM-tBrPL4-gh9y7Enyc2Omgkk4DB0TE999xYmi3sKjEc_MF2Qo1kBy3SR58YKl4ZEZ4_EB5pu3dRqgd8EXOtDVBSuDePzdK-voz8rCBL1n4jZ-z3yVH4uIEK-PO7NVX86TCyqnul1X6RqXvyqrlESzVcaSck6rD0it4HYuSw3W0mEjelwLwRLfAT32cqMXMrBDWtu1_7RJ_TI2dkfc8xW-aRb_YcZPJ52AaGXjy_71Y_XoWKIQUQfID4_K0-tpGyy-YRd5qE7-QQa3owoZqpxROKrO0emzpb4B7iLnl8TUYMh0FwXtcqsZaz=w300-h300-no)](https://photos.google.com/lr/photo/ACSOTbsH2TCvpZ011FmmIgYJtuwlyQT2TxldXtjA1o3a3hlB33Cys6mpeYhGlh4yTSJi13RCQgxPqo_qC-DlPDK8wYQfhQbK3g)"
      ],
      "text/plain": [
       "<IPython.core.display.Markdown object>"
      ]
     },
     "metadata": {},
     "output_type": "display_data"
    },
    {
     "data": {
      "application/vnd.jupyter.widget-view+json": {
       "model_id": "4449cfc7d6574fc4ae2f5970f959656c",
       "version_major": 2,
       "version_minor": 0
      },
      "text/plain": [
       "Text(value='ACSOTbsH2TCvpZ011FmmIgYJtuwlyQT2TxldXtjA1o3a3hlB33Cys6mpeYhGlh4yTSJi13RCQgxPqo_qC-DlPDK8wYQfhQbK3g…"
      ]
     },
     "metadata": {},
     "output_type": "display_data"
    },
    {
     "data": {
      "application/vnd.jupyter.widget-view+json": {
       "model_id": "4d7c4d36d7754c169fae945c872f1f94",
       "version_major": 2,
       "version_minor": 0
      },
      "text/plain": [
       "Textarea(value='\\n - Migrado de Google Photos con http://github.com/mgaitan/google-photos-to-youtube\\n - Fecha…"
      ]
     },
     "metadata": {},
     "output_type": "display_data"
    },
    {
     "data": {
      "application/vnd.jupyter.widget-view+json": {
       "model_id": "3ad7dca94375493caa726a6dc0db5cb3",
       "version_major": 2,
       "version_minor": 0
      },
      "text/plain": [
       "Text(value='google-photos-to-youtube, ', description='Tags', placeholder='from-google-photos')"
      ]
     },
     "metadata": {},
     "output_type": "display_data"
    },
    {
     "data": {
      "application/vnd.jupyter.widget-view+json": {
       "model_id": "a1696ec54e9f4f208dcf4937dde70c65",
       "version_major": 2,
       "version_minor": 0
      },
      "text/plain": [
       "Button(description='Upload to youtube!', style=ButtonStyle())"
      ]
     },
     "metadata": {},
     "output_type": "display_data"
    },
    {
     "data": {
      "application/vnd.jupyter.widget-view+json": {
       "model_id": "8f8babaaa88a40a4a74ea8835a1aa1b9",
       "version_major": 2,
       "version_minor": 0
      },
      "text/plain": [
       "Output()"
      ]
     },
     "metadata": {},
     "output_type": "display_data"
    },
    {
     "name": "stdout",
     "output_type": "stream",
     "text": [
      "Getting 6 videos\n"
     ]
    },
    {
     "data": {
      "text/markdown": [
       "[![](https://lh3.googleusercontent.com/lr/ANt_8_YYlcCD8m2lAInJb3eCVWj-9kS1R8fi38wv2igkgm17hAvTx_Yt9E81SvrJJxBDoKjewYtFzwCMZ76SUwbodGO8zvNwqdfUWMn1xvHnHkN8Tk12XMVnlud8THhUEn5-ZoGAQJVqwx1ITqERnpV0zg2XEgdS9C3elKAbtvL0sh-iIR_uVryeG2HLhHNdc5J0Ei-AGEZ7f1dffc8l6-vDzI_5mbytA5oScq7-av6rSyEZIR3TIGZjy66IVCrROIhDr9MUiPKTn9T3qQ0MrwEDAri1odZnX-n6bzkYuvcZKTQM3okPH5tIXqm0pl9GoArrLmr4VphVYhu5cdk-o4V_nZE7dPxK7xJZfjjNsXd15KQZb5ZNOR_QMDY8gKKYhgAoIx7to2cBIfIb1PX2YXrSU-PU7BQcsgDQZJmPSRiK6yWEcbEFwwEDCoL6mU1Wth0F0UQfTXRZbHwnjyEELTgd4LJuguozhcTczSx-cteCIoyEw2WxlhLl9iQCm9BLq_h-PQkgI2vGQ0Av-LCtrG3YC1ERLw3YQO362HS-VvXeUTxCu9wBJlCjEt3B3ItDe8X8H6EW0TMDyaIFEwaOH1vLIdhRoB574F0xfdkJP58pm4RwIP-6Tu6kQbMW4CGWhuzoDruYkiWL0J_VfPsrQedLKKJfbCeS7yRuk0-kWVnrlfSOQnye1xift5gTdXUCkTLhq9NDimKVf5u5tzKbbir5qx6Cb7Dx7jl-HLyzFHFe_1TlqW8PBZPN-9NOoiDwjTkEP4HB1HoQS9h_hkY0LKBHsNJk3VFALGxNozTbPFOPGQYdr1xXYSq5KGo41C6h5S5L1Bibq_9JcCipu-iil2ftWm_1hQJhxChZuz5jJ4yGrhE1eINnSQwoWBhJkD7d4BOBEWTR1bbGJ67LVzi2otX0GvdaKRl9mSRE=w300-h300-no)](https://photos.google.com/lr/photo/ACSOTbv2ezJKYeI7b7q4wkM4C8CfMXBiQdyzQBE51yNkC84KvOKAeakEzwSo1CLIXIBvFaD31URCieuHpTA7QJuW113wt99yhA)"
      ],
      "text/plain": [
       "<IPython.core.display.Markdown object>"
      ]
     },
     "metadata": {},
     "output_type": "display_data"
    },
    {
     "data": {
      "application/vnd.jupyter.widget-view+json": {
       "model_id": "fb952c742f424b36b5f85ab4bf6b87a0",
       "version_major": 2,
       "version_minor": 0
      },
      "text/plain": [
       "Text(value='ACSOTbv2ezJKYeI7b7q4wkM4C8CfMXBiQdyzQBE51yNkC84KvOKAeakEzwSo1CLIXIBvFaD31URCieuHpTA7QJuW113wt99yhA…"
      ]
     },
     "metadata": {},
     "output_type": "display_data"
    },
    {
     "data": {
      "application/vnd.jupyter.widget-view+json": {
       "model_id": "f2474057f23d4c79b0d4576febb2f031",
       "version_major": 2,
       "version_minor": 0
      },
      "text/plain": [
       "Textarea(value='\\n - Migrado de Google Photos con http://github.com/mgaitan/google-photos-to-youtube\\n - Fecha…"
      ]
     },
     "metadata": {},
     "output_type": "display_data"
    },
    {
     "data": {
      "application/vnd.jupyter.widget-view+json": {
       "model_id": "790fa5e7645c4d2ba1705220c045ce87",
       "version_major": 2,
       "version_minor": 0
      },
      "text/plain": [
       "Text(value='google-photos-to-youtube, ', description='Tags', placeholder='from-google-photos')"
      ]
     },
     "metadata": {},
     "output_type": "display_data"
    },
    {
     "data": {
      "application/vnd.jupyter.widget-view+json": {
       "model_id": "b7cf9de2318f44d2b8bc492705b7f4fb",
       "version_major": 2,
       "version_minor": 0
      },
      "text/plain": [
       "Button(description='Upload to youtube!', style=ButtonStyle())"
      ]
     },
     "metadata": {},
     "output_type": "display_data"
    },
    {
     "data": {
      "application/vnd.jupyter.widget-view+json": {
       "model_id": "2c4d1e6bd6a94cba92c8cdc289c4421d",
       "version_major": 2,
       "version_minor": 0
      },
      "text/plain": [
       "Output()"
      ]
     },
     "metadata": {},
     "output_type": "display_data"
    },
    {
     "data": {
      "text/markdown": [
       "[![](https://lh3.googleusercontent.com/lr/ANt_8_bf35paESde8c1J9vbnOP7QTl1jzGvWHYrHMHUsWmBCnHuXZNsVeidVNGwr1W2vdfmzv-rPvTGi2-1Byyc207djYuich78UVn5X_Phq6moqEGaKKuzTR-T9V5UvIoqOJxeKTjobl4jL9I0BDTXNFBUnUnaeleovzeYc7oYxu03Npkc6cdF3lTvo8eXGvy4nikhbnZOysp_XDQUyq874rAhJfj2h59_Mau1_zGsCivHwzTVCbpbN-_wt37NuiwdxwXelG1ffcAkwVGAtLj1ds8-upMxyqPcw4ArL6cLXjDiy3V5KZfropMpv5X_t_ava0haBZS4fbfWavtC5AqQqy1a5qov92wBR30gkR5b_FXM7tJck0kHVEEg2n39I-SgK-uERlrtf5bY5B4NRQk5Vwwnj1Frop7DZcEsb_T6yGsHriJwZjcadbGsC4kVSh8VkldR_TUpJUni2gCCM4jN4EueGvUq9ECRODlF01W0eX6-bZ0JCfNl7-bm1HcLlLp0QKNypa7Ia0DIV6oOFeeGM08rd3prb1k0lSgmKtxwQoK1we4PBsTjnwy3MFQlsVo-4GyloRDJlQdvCVoDJKwmSovSQa8Vj-Q1Tnr-Pc6Dvzt6ffXrwoJDm55c8KxQxMeLAR0IEk8MJxOxBZQqUfoHL6cZmKz3kTmeS2QgyMVK0IZTsLaOhxu4Q_M7PxzkB-NLSJsyYqADPV6QUpCaJIvzspSDG9_RVFTH5_Ue01eVQp_qtPKxmh6ce5HS6v72Gsb5jhfR_e0VcEuqQwgsuxB7g_ct01AZnuHKP-BoF_9J1VMCVPdARZQcWeF1is4XycHkxOvB0OzFPf2A5lgPoD0kv28Z2Mw5_pwisjmzUkdtRN8QFNdDDoySJ4S5s7WjeJ7EMpsdlCXpaQvmwr6mnmxFcSEMfpoY2O4Tb=w300-h300-no)](https://photos.google.com/lr/photo/ACSOTbsKFclVAKKPHSFoIZtT9PBf4H2XVXdDH_QNkkHo8OnqPyLuZnKUuzUd3BAg41l9T3CQdLwjFZma5I4mYzfNqu3MHHUqeQ)"
      ],
      "text/plain": [
       "<IPython.core.display.Markdown object>"
      ]
     },
     "metadata": {},
     "output_type": "display_data"
    },
    {
     "data": {
      "application/vnd.jupyter.widget-view+json": {
       "model_id": "e48f22c03acd46b4bb7591159911f68d",
       "version_major": 2,
       "version_minor": 0
      },
      "text/plain": [
       "Text(value='ACSOTbsKFclVAKKPHSFoIZtT9PBf4H2XVXdDH_QNkkHo8OnqPyLuZnKUuzUd3BAg41l9T3CQdLwjFZma5I4mYzfNqu3MHHUqeQ…"
      ]
     },
     "metadata": {},
     "output_type": "display_data"
    },
    {
     "data": {
      "application/vnd.jupyter.widget-view+json": {
       "model_id": "e10799ee88504bfc893b71fe47c1d484",
       "version_major": 2,
       "version_minor": 0
      },
      "text/plain": [
       "Textarea(value='\\n - Migrado de Google Photos con http://github.com/mgaitan/google-photos-to-youtube\\n - Fecha…"
      ]
     },
     "metadata": {},
     "output_type": "display_data"
    },
    {
     "data": {
      "application/vnd.jupyter.widget-view+json": {
       "model_id": "3da8fedbf2c8454da03c25bc8e080f04",
       "version_major": 2,
       "version_minor": 0
      },
      "text/plain": [
       "Text(value='google-photos-to-youtube, ', description='Tags', placeholder='from-google-photos')"
      ]
     },
     "metadata": {},
     "output_type": "display_data"
    },
    {
     "data": {
      "application/vnd.jupyter.widget-view+json": {
       "model_id": "338a40f01da147a19c13bd4d51871edf",
       "version_major": 2,
       "version_minor": 0
      },
      "text/plain": [
       "Button(description='Upload to youtube!', style=ButtonStyle())"
      ]
     },
     "metadata": {},
     "output_type": "display_data"
    },
    {
     "data": {
      "application/vnd.jupyter.widget-view+json": {
       "model_id": "8a1a3d00d9994dfd9a453334293b9c34",
       "version_major": 2,
       "version_minor": 0
      },
      "text/plain": [
       "Output()"
      ]
     },
     "metadata": {},
     "output_type": "display_data"
    },
    {
     "data": {
      "text/markdown": [
       "[![](https://lh3.googleusercontent.com/lr/ANt_8_ZMMwbUOO3xFIRhoBjMdFghLhiCxf0Vq34y-Yk8xnpmY0a1AkCrP7xymGc4p9sSd9-5TK7M4MvD7N1ZxIoKrsS8RnrhVQ80w1BbbEWEtDAFjV9QckrA0SwwsJrzSoRT1CrLozTu-vgSz98cCknlrvs2cKf0J8DYfFreAD6ktMUB9byDOXI5DPojABYXooy_r7VJBqBKH2XeeY-7WIKLa2dDgEtewIkU9uibPYI6rRPL4xDGreHf4cQwNjJmTRgrykv5WKlZVkq_uyfQccVrNV63ttNkwvXjYPe8mDueaQPL-KmjvigP_wg3EAE3s1dbwAp-ljQmnQObMzTk83_gLnGJGYFy8WhTNOaOa9W3z5cC4c6KwzQOCAgtZKqm1lWeoKY6Ojg_j2mFW0IDz7rg1zGdMaf8QItSTkruXKM7VF7b4UzOL4mNLlrEhypxXGZpZTLPxxoyUTJeP0qvXkn-dpqnZwRZ1als9RbJboV3OSuKTI9dDflwN-7DO7fZEfHvuzlR2KOlUwzoa-eUkTe8CkdjBQjiAuNXHtSqcK6QTECwF5SKhX9Fg_V_uNN0ser4l-ltoCsFxuph-VN8FjFbPeHZH_u4Lb8tSreh04bXPF7BoAmP3Kk5byZVCx8F9gXBJkfH03tzuQ20eFT2hq-aX-yVxNEfC2obKv5MdjcMUlAeu3I0sFnyIOBqn5lO1df1qx9hemjPuISzjSwzjKHwl8GTBGYCtsRODHxyIUMupo9TazJ47ApCl3a1kvr4d2WMFVmisWrMb-Yf5o4Ewarm-D9qJXQsOLJKDYC5YecU00Y9gzba1u3dT6Vmlah21CkK-lHX8L6otIs_rzOYKAvM4FZbIYRaP7rJTSwhgHR45Y1A8v-Sw_Yf0sQbIYE7JVkXpFfTbtYe3IFZSsngz8UPm9aY6QjABsI0=w300-h300-no)](https://photos.google.com/lr/photo/ACSOTbtSTZebYeZFOHScV_6kT_9vzThacxG5uoIvjunPJW68TMwodtAFh3EBBziAZ60AY3mWu1rFdgP9aY6NnbNiw_99Wv_92w)"
      ],
      "text/plain": [
       "<IPython.core.display.Markdown object>"
      ]
     },
     "metadata": {},
     "output_type": "display_data"
    },
    {
     "data": {
      "application/vnd.jupyter.widget-view+json": {
       "model_id": "a7542afbfbb442089f4f7333483b7a0c",
       "version_major": 2,
       "version_minor": 0
      },
      "text/plain": [
       "Text(value='ACSOTbtSTZebYeZFOHScV_6kT_9vzThacxG5uoIvjunPJW68TMwodtAFh3EBBziAZ60AY3mWu1rFdgP9aY6NnbNiw_99Wv_92w…"
      ]
     },
     "metadata": {},
     "output_type": "display_data"
    },
    {
     "data": {
      "application/vnd.jupyter.widget-view+json": {
       "model_id": "ff25d802b2b6445fabb583983f6b3003",
       "version_major": 2,
       "version_minor": 0
      },
      "text/plain": [
       "Textarea(value='\\n - Migrado de Google Photos con http://github.com/mgaitan/google-photos-to-youtube\\n - Fecha…"
      ]
     },
     "metadata": {},
     "output_type": "display_data"
    },
    {
     "data": {
      "application/vnd.jupyter.widget-view+json": {
       "model_id": "90ecc9deb1804da98ff42681b1e30041",
       "version_major": 2,
       "version_minor": 0
      },
      "text/plain": [
       "Text(value='google-photos-to-youtube, ', description='Tags', placeholder='from-google-photos')"
      ]
     },
     "metadata": {},
     "output_type": "display_data"
    },
    {
     "data": {
      "application/vnd.jupyter.widget-view+json": {
       "model_id": "8930232089b14cab93f64de7b1d8a329",
       "version_major": 2,
       "version_minor": 0
      },
      "text/plain": [
       "Button(description='Upload to youtube!', style=ButtonStyle())"
      ]
     },
     "metadata": {},
     "output_type": "display_data"
    },
    {
     "data": {
      "application/vnd.jupyter.widget-view+json": {
       "model_id": "d71d6dfda22c44058215df690f5cb163",
       "version_major": 2,
       "version_minor": 0
      },
      "text/plain": [
       "Output()"
      ]
     },
     "metadata": {},
     "output_type": "display_data"
    },
    {
     "data": {
      "text/markdown": [
       "[![](https://lh3.googleusercontent.com/lr/ANt_8_YRkrKOsK_FEecXPeQcRI50rEnelO7ijrdNqaFfbYZFl514p2QYv5wn-45watMVZV5V_eRwLyXGtqrYJkj-m7e5V28MdNvRirW5GUW7tld6_0ZFbk2pkXAzmNb0RzcxDAeJrAcETW1P6mFN-pdayMo8nv0-UEBGAjXYTU3k71DEiK_1xKlhtqZh9LKYfdLtD27j6PWXoeQb4r1g1s5IRoVP5_Z0C_z3u8bEg2MuWcLBlz5512uc11tmY-ZzzI2te_7ocUQ2qt2s2ETSybyi6igZqzU-FAioe8Bx_oCOYdHjcc0QwzowGi917zlQ9qrBeaexwSc71R8Z6-G68ZJubZK_PGluO9BgIUc3tmR6mCqK1G7kUEUc5vpdn28akCaB5VhVJ0FRdIIDiaUSP-hei0OFUpr80qdM2YLa6khBJ1v04zM5VMLZmxGsxCdBSm3yMFLXSYDo3bi9VOwDt2GFa5E2l5hUS5KoW1StdA_NscX3hf3wBxJTPGxlti7Ywf06QlRWV6vcLEF-UcVHFxRBYnFKjy8FIod9L9J6cc2lQSsur0nrNbrgj_80UtBE5NxCrRxG17KrAYlXxhvyWKoyJdSZ2_9-2yp4caqlsj6zB_zcepE5YXRAITtKRD3QhTMz-s6R9eK3cDMcRk04kzhiV7gGNs0fbLx1dJr4EVJm9mo4C1aU1axOXn8rkzi9aasvB15avWSasWcUoQYRkyxbhWVFf3zdoFRZyj0hRWKOUhTZl4eUnZG2KnoUIPVnQLqNHiSGliizFRA9M6Iu7XHtAQiRbALv-K8Jil_jrATvfKEAAwETyho9IKAz4orpq7z3AFgo1LIG28O3v_ajHEnt2nIEtCNevTIURL5kjJBG0IQK30Zrrb1bTqz7D7icOKJDtkododmx_C0gF2gQdcBhJ6Ofl6mIxxYh=w300-h300-no)](https://photos.google.com/lr/photo/ACSOTbs3kU7icVxtpYjKj6jIFgZ74ajQpofGbfevqYENKH46YrfWennjvSJ6iaW2M3ECBRp7NMMxmCdHPXBIm-zY7gILAaqrwA)"
      ],
      "text/plain": [
       "<IPython.core.display.Markdown object>"
      ]
     },
     "metadata": {},
     "output_type": "display_data"
    },
    {
     "data": {
      "application/vnd.jupyter.widget-view+json": {
       "model_id": "bf9842b9757b4d2f96dd557b70d1f520",
       "version_major": 2,
       "version_minor": 0
      },
      "text/plain": [
       "Text(value='ACSOTbs3kU7icVxtpYjKj6jIFgZ74ajQpofGbfevqYENKH46YrfWennjvSJ6iaW2M3ECBRp7NMMxmCdHPXBIm-zY7gILAaqrwA…"
      ]
     },
     "metadata": {},
     "output_type": "display_data"
    },
    {
     "data": {
      "application/vnd.jupyter.widget-view+json": {
       "model_id": "0a1981c80ae14d458c623c13b6f43ed9",
       "version_major": 2,
       "version_minor": 0
      },
      "text/plain": [
       "Textarea(value='\\n - Migrado de Google Photos con http://github.com/mgaitan/google-photos-to-youtube\\n - Fecha…"
      ]
     },
     "metadata": {},
     "output_type": "display_data"
    },
    {
     "data": {
      "application/vnd.jupyter.widget-view+json": {
       "model_id": "3b63684d4340492e8ff7f5a7f33d66e0",
       "version_major": 2,
       "version_minor": 0
      },
      "text/plain": [
       "Text(value='google-photos-to-youtube, ', description='Tags', placeholder='from-google-photos')"
      ]
     },
     "metadata": {},
     "output_type": "display_data"
    },
    {
     "data": {
      "application/vnd.jupyter.widget-view+json": {
       "model_id": "4b8f4c4aabb344ea85da94d57ee71e10",
       "version_major": 2,
       "version_minor": 0
      },
      "text/plain": [
       "Button(description='Upload to youtube!', style=ButtonStyle())"
      ]
     },
     "metadata": {},
     "output_type": "display_data"
    },
    {
     "data": {
      "application/vnd.jupyter.widget-view+json": {
       "model_id": "30119076ef1c41f9bbbc7b3e412f9620",
       "version_major": 2,
       "version_minor": 0
      },
      "text/plain": [
       "Output()"
      ]
     },
     "metadata": {},
     "output_type": "display_data"
    },
    {
     "data": {
      "text/markdown": [
       "[![](https://lh3.googleusercontent.com/lr/ANt_8_bJ6dgcX8EghS86dddp6D5BQ52-oFXOI4sfB3ekY9oiqY1GvYzM9JMLyJZbY-O3cYUVFibTOd_7EVGBj-c0TMMXfjDWyP5Y2H0z05FYJvJouwz1ZXz06708vvw7mIlot3VYEYdFuu0Yxfd0rUJZ7Ea6FUHE8NeS8V1MH9wE_4xl4E4px6glyV0p4qmI7gmkGFHwJkN61s4DqZv1Wi8JHTOjDP_s8QZr6lXDhfJs5wE4o9S1U557o4Km650Rn43HBD-kaMXSTKpMkk61hR4Mk1ftVcUPkb1BNiQtQ66gDj44BDK9pJ1c9s5L7nWBw5xv7clKoIKtRdZJtX4_2sHEu4LWQv2pY78UPbKT5pF55-2KjMxXCsPzuv2hvxPqqN6vYmjd8z--w1gfUydADOtRKwT_m7tegFEFF0QtAykYyn5MnLDazP3Zy4Qq0T5i8hTe7x7Uc66wdhFK99csrxmoZKOI-GdfoeQA4lS019sJHBhg1NWL3imqSCYZNmp7R1gRTbXQhI8T_HR4Ajrbh8aCOOnSSSIE5uZzFwnyfbGmhuYc-NPqIElrMYIvsECzYpZ1ND1d4BelJa9TKfhjPJtXj1MMyOtTEnGMS80Gv3V5DZmox5cWLav9yLbw_Q_P5fmdS46fcqX5R0Aoulvwro3CAE6I7zV61oNe47lYTlv9l8ba26CTEcUS56io72u_1UtrBWuvVTBmWR3OjEC6W6kUjd20cW4L3xYK-1cizlXWRLUrm4Qz_aqCUV1MFtCrFQdaAO8tAMvZ_NKm29-TnWLrHkq9aDp_vkyZQuINc8xbQhpm79J39ZhISaZ4x9IkcUfv3Pb4QV1tAXa1W6M0uoCj3QpolLzCRXCDZVZvSQAkuAaMluxioeMPElcWqR65eW4DnfABOh4K7PBEneyxhlPUlqQO_X5gitQd=w300-h300-no)](https://photos.google.com/lr/photo/ACSOTbvZRZgkvzKR9ZprYYrQpFvpDAcghLhOggMKzTAR9ui7Bb8umM1C-lQFj9fIKRukzY_P-Zbr7jAKMhQ948ZvnFYZ6mmSow)"
      ],
      "text/plain": [
       "<IPython.core.display.Markdown object>"
      ]
     },
     "metadata": {},
     "output_type": "display_data"
    },
    {
     "data": {
      "application/vnd.jupyter.widget-view+json": {
       "model_id": "d35092fbf27647de956f10715a805a1d",
       "version_major": 2,
       "version_minor": 0
      },
      "text/plain": [
       "Text(value='ACSOTbvZRZgkvzKR9ZprYYrQpFvpDAcghLhOggMKzTAR9ui7Bb8umM1C-lQFj9fIKRukzY_P-Zbr7jAKMhQ948ZvnFYZ6mmSow…"
      ]
     },
     "metadata": {},
     "output_type": "display_data"
    },
    {
     "data": {
      "application/vnd.jupyter.widget-view+json": {
       "model_id": "a79f3218246b4c85b2aee845a2c4536b",
       "version_major": 2,
       "version_minor": 0
      },
      "text/plain": [
       "Textarea(value='\\n - Migrado de Google Photos con http://github.com/mgaitan/google-photos-to-youtube\\n - Fecha…"
      ]
     },
     "metadata": {},
     "output_type": "display_data"
    },
    {
     "data": {
      "application/vnd.jupyter.widget-view+json": {
       "model_id": "9f43ab04137b470196a960e43d07272f",
       "version_major": 2,
       "version_minor": 0
      },
      "text/plain": [
       "Text(value='google-photos-to-youtube, ', description='Tags', placeholder='from-google-photos')"
      ]
     },
     "metadata": {},
     "output_type": "display_data"
    },
    {
     "data": {
      "application/vnd.jupyter.widget-view+json": {
       "model_id": "def07a1973384c49b01e31f08ff480bc",
       "version_major": 2,
       "version_minor": 0
      },
      "text/plain": [
       "Button(description='Upload to youtube!', style=ButtonStyle())"
      ]
     },
     "metadata": {},
     "output_type": "display_data"
    },
    {
     "data": {
      "application/vnd.jupyter.widget-view+json": {
       "model_id": "dbdaaa8bc0e74c66bebfdb8d2808ff06",
       "version_major": 2,
       "version_minor": 0
      },
      "text/plain": [
       "Output()"
      ]
     },
     "metadata": {},
     "output_type": "display_data"
    },
    {
     "data": {
      "text/markdown": [
       "[![](https://lh3.googleusercontent.com/lr/ANt_8_a9cBNyZh7EGwwQR-yCaHezDkkyVc3U-Q6f_ZVlPVWl4eCU6IkYiW0q12IuIdUb7IhOpbj9ooSIWqtx0MxfF5frzHNr9GzHucrfMFmuUotQwTf08prF2gwbZ5VfMAKCviX3yDFYwdLPdXkbhK6QOLq257PjhzDudHBs8socvweBuwyWzrXKNOiSaULx5TSZQMBR87VRfmL0oiFXpZ5nO14-vJHxlRGJvNOfKcH0ZFQmf1cWuWZ7Xt2gNnK_iTkoAsXbN1iZ6yURENpSCLbbhSom4-W8ngUQJ5vbab8zxQBAaWK90Drgheo2WuIgWOqALca0nPe-VlLrHjAiDqtcncl34RKDzfkTVVaLjcDt1VGTEnqALGMz76yIScJJasxGw0u4BBTBlh4MihiAtP80qG6UY1nFeSuACCo4PvyAtMSZu0jUlwzJILBqx84I8KX9ArcaKKcYZ54YyS1FI_zJstye5FpfPhTkOb5Mba9gd4EOEqPGfEYpXZdSoo4OvhC4A51DBGPcbar-JfstMXFrcfFsoR72lIrFAQSGOgjgFNeP-ydmb4qmHmpASw-nCp2Hlbwdlq-kplvaRXnj4k5QIJ_J_kXR1Fh4vwqJVubaLG68d185QxrACpD98yeRXrv4uaMMF9caca1EABtxqFX02tkON2fHc_s2F8RO1I4c-7g1hNW42BwcbgHkgt0cGMDFAOgCk8hX29Pt-2uUgKPvvUolk7bGdRkN7gO5T02OPoQlEGoWKKX2p7ycmMnY74TBy3yDDD9gK2SJan_N8DTWYHF9pt1eq21lblpgAgxkj2nJkE7YhgPoCmfL_cOMO9aVRxw2O9dNs0QH-aGvy3a31TqbqNgv4OB9umCQ_wZjwh9a_NDFrivIDJRUdghTViE7aKyY4OVdrWHBQ0qc6yufMBn2EVZzLYbn=w300-h300-no)](https://photos.google.com/lr/photo/ACSOTbt0OyLstY3anns_YJt71L_vcm1f7d-eOSm-uFpQu0xjK2brL5iPVkXTL1j4tvOWAhLIMxHLXKzwwn8IZzTUt4yfOyyIuQ)"
      ],
      "text/plain": [
       "<IPython.core.display.Markdown object>"
      ]
     },
     "metadata": {},
     "output_type": "display_data"
    },
    {
     "data": {
      "application/vnd.jupyter.widget-view+json": {
       "model_id": "cec00cb9d51440839bde39fa2eea1eab",
       "version_major": 2,
       "version_minor": 0
      },
      "text/plain": [
       "Text(value='ACSOTbt0OyLstY3anns_YJt71L_vcm1f7d-eOSm-uFpQu0xjK2brL5iPVkXTL1j4tvOWAhLIMxHLXKzwwn8IZzTUt4yfOyyIuQ…"
      ]
     },
     "metadata": {},
     "output_type": "display_data"
    },
    {
     "data": {
      "application/vnd.jupyter.widget-view+json": {
       "model_id": "3dc46edbad65465a8f22598104ddbd0b",
       "version_major": 2,
       "version_minor": 0
      },
      "text/plain": [
       "Textarea(value='\\n - Migrado de Google Photos con http://github.com/mgaitan/google-photos-to-youtube\\n - Fecha…"
      ]
     },
     "metadata": {},
     "output_type": "display_data"
    },
    {
     "data": {
      "application/vnd.jupyter.widget-view+json": {
       "model_id": "f695209755cd454fb5a24e08adccb432",
       "version_major": 2,
       "version_minor": 0
      },
      "text/plain": [
       "Text(value='google-photos-to-youtube, ', description='Tags', placeholder='from-google-photos')"
      ]
     },
     "metadata": {},
     "output_type": "display_data"
    },
    {
     "data": {
      "application/vnd.jupyter.widget-view+json": {
       "model_id": "951b0890589d42d3ab8a78d63ea45c59",
       "version_major": 2,
       "version_minor": 0
      },
      "text/plain": [
       "Button(description='Upload to youtube!', style=ButtonStyle())"
      ]
     },
     "metadata": {},
     "output_type": "display_data"
    },
    {
     "data": {
      "application/vnd.jupyter.widget-view+json": {
       "model_id": "869b4af508fc4571aa322e9f209cc052",
       "version_major": 2,
       "version_minor": 0
      },
      "text/plain": [
       "Output()"
      ]
     },
     "metadata": {},
     "output_type": "display_data"
    }
   ],
   "source": [
    "token = None \n",
    "limit = 50   # first 50 videos. \n",
    "count = 0\n",
    "\n",
    "while count < limit:\n",
    "    videos = get_videos(session, token)\n",
    "    token = videos[\"nextPageToken\"]\n",
    "    items = videos[\"mediaItems\"]\n",
    "    \n",
    "    print(f\"Getting {len(items)} videos\")\n",
    "    for video in items:\n",
    "        count += 1\n",
    "        app_block(video, session, youtube)\n",
    "    "
   ]
  },
  {
   "cell_type": "code",
   "execution_count": null,
   "id": "9cbfdf25-2676-4d1e-9af8-edb34153d061",
   "metadata": {},
   "outputs": [],
   "source": []
  },
  {
   "cell_type": "code",
   "execution_count": 16,
   "id": "99ef37b0-e77a-4aa0-952b-be7111507177",
   "metadata": {},
   "outputs": [],
   "source": [
    "from IPython import display"
   ]
  },
  {
   "cell_type": "code",
   "execution_count": null,
   "id": "b192273a-5b5d-4959-830f-26ef1f2cb634",
   "metadata": {},
   "outputs": [],
   "source": [
    "display.display_markdown"
   ]
  }
 ],
 "metadata": {
  "kernelspec": {
   "display_name": "Python 3 (ipykernel)",
   "language": "python",
   "name": "python3"
  },
  "language_info": {
   "codemirror_mode": {
    "name": "ipython",
    "version": 3
   },
   "file_extension": ".py",
   "mimetype": "text/x-python",
   "name": "python",
   "nbconvert_exporter": "python",
   "pygments_lexer": "ipython3",
   "version": "3.10.6"
  }
 },
 "nbformat": 4,
 "nbformat_minor": 5
}
